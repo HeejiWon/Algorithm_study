{
 "cells": [
  {
   "cell_type": "markdown",
   "metadata": {},
   "source": [
    "## 3부. 선형 자료구조\n",
    "- 선형 자료구조 : 데이터가 순차적(Sequential)으로 배열되는 자료구조\n",
    "- 단일 레벨로 구성되므로 한 번에 탐색이 가능하며, 구현하기도 쉽다\n",
    "- 배열, 스택, 큐, 연결 리스트 등"
   ]
  },
  {
   "cell_type": "markdown",
   "metadata": {},
   "source": [
    "### 7장. 배열\n",
    "- 배열 : 값 또는 변수 엘리먼트의 집합으로 구성된 구조로, 하나 이상의 인덱스 또는 키로 식별된다\n",
    "- 자료구조는 크게 메모리 공간 기반의 연속(contiguous) 방식과 포인터 기반의 연결(link)방식으로 나뉘는데, 배열은 __연속 방식의 가장 기본이 되는 자료형__ (연결 기반의 가장 기본이 되는 자료형은 연결리스트)\n",
    "- 가장 큰 장점은 어느 위치에나 __O(1)__에 조회가능\n",
    "\n",
    "\n",
    "- __동적 배열__ : 정적 배열과 달리, 크기를 지정하지 않고 지동으로 리사이징하는 배열\n",
    "- 파이썬에서는 동적 배열만 제공 (정적 배열 제공 X)\n",
    "\n",
    "\n",
    "- __동적 배열의 원리__ : 미리 초깃값을 작게 잡아 배열을 생서앟고, 데이터가 추가되면서 꽉 채워지면, 늘려주고 모두 복사하는 방법 (더블링)\n",
    "\n",
    "<img src='img/7_1.png' width='300'>\n",
    "\n",
    "- 재할당 비율인 그로스 팩터(Growth Factor, 성장인자)는 파이썬의 경우 초반에는 2이지만, 전체적으로는 약 1.125배 (다른 언어에 비해서는 작은 편)\n",
    "- 공간이 차면 더 큰 크기의 새로운 배열을 할당하고 기존 데이터를 복사하는 작업이 필요하므로 O(n) 비용이 발생하지만, 분할 상환 분석에 의해 여전히 __O(1)__"
   ]
  },
  {
   "cell_type": "markdown",
   "metadata": {},
   "source": [
    "### 7번. 두 수의 합\n",
    "- 덧셈하여 타겟을 만들 수 있는 배열의 두 숫자 인덱스를 리턴하라"
   ]
  },
  {
   "cell_type": "code",
   "execution_count": 29,
   "metadata": {},
   "outputs": [],
   "source": [
    "nums = [2, 7, 11, 15]; target = 9  # 출력 : [0, 1]"
   ]
  },
  {
   "cell_type": "markdown",
   "metadata": {},
   "source": [
    "#### 시도"
   ]
  },
  {
   "cell_type": "code",
   "execution_count": 34,
   "metadata": {},
   "outputs": [],
   "source": [
    "def findIndex(nums, target):\n",
    "    for i in range(len(nums)-1):\n",
    "        for j in range(i+1, len(nums)):\n",
    "            if nums[i] + nums[j] == target:\n",
    "                return [i, j]"
   ]
  },
  {
   "cell_type": "code",
   "execution_count": 35,
   "metadata": {},
   "outputs": [
    {
     "data": {
      "text/plain": [
       "[0, 1]"
      ]
     },
     "execution_count": 35,
     "metadata": {},
     "output_type": "execute_result"
    }
   ],
   "source": [
    "findIndex(nums, target)"
   ]
  },
  {
   "cell_type": "markdown",
   "metadata": {},
   "source": [
    "#### 정답\n",
    "#### 1) 브루트 포스(Brute-Force)로 계산 (5,284ms)\n",
    "- 아래와 같이 배열을 2번 반복하면서 일일이 확인해보면 무차별 대입 방식\n",
    "- 비효율적인 풀이 (시간 복잡도가 $O(n^2)$)\n",
    "<img src='img/7_2.png' width='200'>\n"
   ]
  },
  {
   "cell_type": "code",
   "execution_count": 12,
   "metadata": {},
   "outputs": [],
   "source": [
    "def twoSum(nums: list, target: int) -> list:\n",
    "    for i in range(len(nums)-1):\n",
    "        for j in range(i+1, len(nums)):\n",
    "            if nums[i] + nums[j] == target:\n",
    "                return [i, j]"
   ]
  },
  {
   "cell_type": "markdown",
   "metadata": {},
   "source": [
    "#### 2) in을 이용한 탐색 (864ms)\n",
    "- 모든 조합을 비교하지 않고 정답, 즉 타겟에서 첫 번째 값을 뺀 값 target - n이 존재하는지 탐색하는 문제로!\n",
    "- 시간복잡도 : $O(n)$"
   ]
  },
  {
   "cell_type": "code",
   "execution_count": 13,
   "metadata": {},
   "outputs": [],
   "source": [
    "def twoSum(nums:list, target: int) -> list:\n",
    "    for i, n in enumerate(nums):\n",
    "        complement = target - n\n",
    "        \n",
    "        if complement in nums[i + 1:]:\n",
    "            return [nums.index(n), nums[i + 1:].index(complement) + (i + 1)]"
   ]
  },
  {
   "cell_type": "code",
   "execution_count": 15,
   "metadata": {},
   "outputs": [
    {
     "data": {
      "text/plain": [
       "[0, 1]"
      ]
     },
     "execution_count": 15,
     "metadata": {},
     "output_type": "execute_result"
    }
   ],
   "source": [
    "twoSum(nums, target)"
   ]
  },
  {
   "cell_type": "markdown",
   "metadata": {},
   "source": [
    "#### 3) 첫 번째 수를 뺀 결과 키 조회 (48ms)\n",
    "- 비교나 탐색 대신 한 번에 정답을 찾을 수 있는 방법!\n",
    "- 딕셔너리 (해시 테이블) -> 시간복잡도 $O(1)$"
   ]
  },
  {
   "cell_type": "code",
   "execution_count": null,
   "metadata": {},
   "outputs": [],
   "source": [
    "def twoSum(nums:list, target: int) -> list:\n",
    "    nums_map = {}\n",
    "    \n",
    "    # 키와 값을 바꿔서 딕셔너리로 저장\n",
    "    for i, num in enumerate(nums):\n",
    "        nums_map[num] = i\n",
    "        \n",
    "    # 타켓에서 첫 번째 수를 뺀 결과를 키로 조회\n",
    "    for i, num in enumerate(nums):\n",
    "        if target - num in nums_map and i != nums_map[target - num]:\n",
    "            return [i ,nums_map[target - num]]"
   ]
  },
  {
   "cell_type": "markdown",
   "metadata": {},
   "source": [
    "#### 4) 조회 구조 개선 (44ms)\n",
    "- 위의 코드에서 for문 2개로 처리한 것 개선하기"
   ]
  },
  {
   "cell_type": "code",
   "execution_count": 16,
   "metadata": {},
   "outputs": [],
   "source": [
    "def twoSum(nums: list, target: int) -> list:\n",
    "    nums_map = {}\n",
    "    \n",
    "    # 하나의 for문으로 통합\n",
    "    for i, num in enumerate(nums):\n",
    "        if target - num in nums_map:\n",
    "            return [nums_map[target - num], i]\n",
    "        nums_map[num] = i"
   ]
  },
  {
   "cell_type": "markdown",
   "metadata": {},
   "source": [
    "#### 5) 투 포인터 이용\n",
    "- 왼쪽 포인터와 오른쪽 포인터의 합이 타겟보다 크다면 오른쪽 포인터를 왼쪽으로, 작다면 왼쪽 포인터를 오른쪽으로 옮기면서 값을 조정하는 방식\n",
    "- 시간 복잡도는 O(n)이나, 정렬된 상태가 아니므로 이렇게 풀 수 없음! (정렬하면 index가 달라짐. 하지만 정렬된 상태라면 Good!)"
   ]
  },
  {
   "cell_type": "code",
   "execution_count": 17,
   "metadata": {},
   "outputs": [],
   "source": [
    "def twoSum(nums: list, target: int) -> list:\n",
    "    left, right = 0, len(nums) - 1\n",
    "    while not left == right:\n",
    "        # 합이 타겟보다 작으면 왼쪽 포인터를 오른쪽으로\n",
    "        if nums[left] + nums[right] < target:\n",
    "            left += 1\n",
    "        # 합이 타겟보다 크면 오른쪽 포인터를 왼쪽으로\n",
    "        elif nums[left] + nums[right] > target:\n",
    "            right -= 1\n",
    "        else:\n",
    "            return [left, right]"
   ]
  },
  {
   "cell_type": "markdown",
   "metadata": {},
   "source": [
    "### 8번. 빗물 트래핑\n",
    "- 높이를 입력받아 비 온 후 얼마나 많은 물이 쌓일 수 있는지 계산하라  \n",
    "<img src='img/7_3.png' width='400'>"
   ]
  },
  {
   "cell_type": "code",
   "execution_count": 47,
   "metadata": {},
   "outputs": [],
   "source": [
    "rain = [0, 1, 0, 2, 1, 0, 1, 3, 2, 1, 2, 1]"
   ]
  },
  {
   "cell_type": "markdown",
   "metadata": {},
   "source": [
    "#### 시도"
   ]
  },
  {
   "cell_type": "code",
   "execution_count": 20,
   "metadata": {},
   "outputs": [],
   "source": [
    "rain_map = []\n",
    "for i in range(len(rain)):\n",
    "    tmp = [0] * (max(rain) - rain[i])\n",
    "    tmp += [1] * rain[i]\n",
    "    rain_map.append(tmp)"
   ]
  },
  {
   "cell_type": "code",
   "execution_count": 23,
   "metadata": {},
   "outputs": [
    {
     "data": {
      "text/plain": [
       "[[0, 0, 0],\n",
       " [0, 0, 1],\n",
       " [0, 0, 0],\n",
       " [0, 1, 1],\n",
       " [0, 0, 1],\n",
       " [0, 0, 0],\n",
       " [0, 0, 1],\n",
       " [1, 1, 1],\n",
       " [0, 1, 1],\n",
       " [0, 0, 1],\n",
       " [0, 1, 1],\n",
       " [0, 0, 1]]"
      ]
     },
     "execution_count": 23,
     "metadata": {},
     "output_type": "execute_result"
    }
   ],
   "source": [
    "rain_map"
   ]
  },
  {
   "cell_type": "markdown",
   "metadata": {},
   "source": [
    "#### 정답"
   ]
  },
  {
   "cell_type": "markdown",
   "metadata": {},
   "source": [
    "#### 1) 투 포인터를 최대로 활용  \n",
    "- 최대 높이의 막대까지 각각 좌우 기둥 최대 높이 left_max, right_max가 현재 높이와의 차이만큼 물 높이 volumne을 더해나간다\n",
    "- 이 경우 적어도 낮은 쪽은 그만큼 항상 채워질 것이므로, 좌우 어느 쪽이든 높은 쪽을 향해서 포인터가 점점 이동한다\n",
    "- 시간복잡도는 O(n)"
   ]
  },
  {
   "cell_type": "code",
   "execution_count": 49,
   "metadata": {},
   "outputs": [],
   "source": [
    "def trap(height: list) -> int:\n",
    "    if not height:\n",
    "        return 0\n",
    "    \n",
    "    volume = 0\n",
    "    left, right = 0, len(height) - 1\n",
    "    left_max, right_max = height[left], height[right]\n",
    "    \n",
    "    while left < right:\n",
    "        left_max, right_max = max(height[left], left_max),\\\n",
    "                              max(height[right], right_max)\n",
    "        \n",
    "        # 더 높은 쪽을 향해 투 포인터 이동\n",
    "        if left_max <= right_max:\n",
    "            volume += left_max - height[left]\n",
    "            left += 1\n",
    "        else:\n",
    "            volume += right_max - height[right]\n",
    "            right -= 1\n",
    "            \n",
    "    return volume"
   ]
  },
  {
   "cell_type": "code",
   "execution_count": 50,
   "metadata": {},
   "outputs": [
    {
     "data": {
      "text/plain": [
       "6"
      ]
     },
     "execution_count": 50,
     "metadata": {},
     "output_type": "execute_result"
    }
   ],
   "source": [
    "trap(rain)"
   ]
  },
  {
   "cell_type": "markdown",
   "metadata": {},
   "source": [
    "<img src='img/7_5.png' width='500'>"
   ]
  },
  {
   "cell_type": "markdown",
   "metadata": {},
   "source": [
    "#### 2) 스택 쌓기\n",
    "<img src='img/7_6.png' width='300'>  \n",
    "- 위의 그램과 같이 스택에 쌓아 나가면서 현재 높이가 이전 높이보다 높을 때, 즉 꺾이는 부분 변곡점(inflection point)를 기준으로 격자만큼 물 높이 volumne을 채운다\n",
    "- 이전 항목들을 되돌아보며 체크하지만, 기본적으로 한 번만 살펴보기 때문에 시간복잡도는 O(n)"
   ]
  },
  {
   "cell_type": "code",
   "execution_count": null,
   "metadata": {},
   "outputs": [],
   "source": [
    "stack = []\n",
    "volume = 0\n",
    "\n",
    "for i in range(len(height)):\n",
    "\n",
    "    # 변곡점을 만나는 경우\n",
    "    while stack and height[i] > height[stack[-1]]:\n",
    "        # 스택에서 꺼낸다\n",
    "        top = stack.pop()\n",
    "\n",
    "        if not len(stack):\n",
    "            break\n",
    "\n",
    "        # 이전과의 차이만큼 물 높이 처리\n",
    "        distance = i - stack[-1] - 1\n",
    "        waters = min(height[i], height[stack[-1]]) - height[top]\n",
    "\n",
    "        volume += distance * waters\n",
    "\n",
    "    stack.append(i)"
   ]
  },
  {
   "cell_type": "code",
   "execution_count": 1,
   "metadata": {},
   "outputs": [],
   "source": [
    "# 2) 스택 쌓기\n",
    "\n",
    "def trap(height: list) -> int:\n",
    "    stack = []\n",
    "    volume = 0\n",
    "    \n",
    "    for i in range(len(height)):\n",
    "        \n",
    "        # 변곡점을 만나는 경우\n",
    "        while stack and height[i] > height[stack[-1]]:\n",
    "            # 스택에서 꺼낸다\n",
    "            top = stack.pop()\n",
    "            \n",
    "            if not len(stack):\n",
    "                break\n",
    "        \n",
    "            # 이전과의 차이만큼 물 높이 처리\n",
    "            distance = i - stack[-1] - 1\n",
    "            waters = min(height[i], height[stack[-1]]) - height[top]\n",
    "            \n",
    "            volume += distance * waters\n",
    "        \n",
    "        stack.append(i)\n",
    "    return volume"
   ]
  },
  {
   "cell_type": "markdown",
   "metadata": {},
   "source": [
    "<img src='img/7_8.png' width='400'>  \n",
    "- i가 6까지는 while문이 한 번 돌아가나, i=7에서는 while문이 두 번 돌아감"
   ]
  },
  {
   "cell_type": "markdown",
   "metadata": {},
   "source": [
    "#### cf) 스택\n",
    "- LIFO(Last-In First-Out), 즉 후입선출의 자료구조이다. 구조는 다음과 같은 형태이며, 접시처럼 쌓여서 이후에 삽입된 데이터가 먼저 빠져나가도록 되어있다. \n",
    "<img src='img/7_12.png' width='200'>  \n",
    "\n",
    "    [자료구조 - 스택, 큐, 덱](https://hini7.tistory.com/92)"
   ]
  },
  {
   "cell_type": "markdown",
   "metadata": {},
   "source": [
    "### 9. 세 수의 합\n",
    "- 배열을 입력받아 합으로 0을 만들 수 있는 3개의 엘리먼트를 출력하라."
   ]
  },
  {
   "cell_type": "code",
   "execution_count": 22,
   "metadata": {},
   "outputs": [],
   "source": [
    "nums = [-1, 0, 1, 2, -1, -4]  # 출력 : [[-1, 0, 1], [-1, -1, 2]]"
   ]
  },
  {
   "cell_type": "markdown",
   "metadata": {},
   "source": [
    "#### 시도"
   ]
  },
  {
   "cell_type": "code",
   "execution_count": 33,
   "metadata": {},
   "outputs": [],
   "source": [
    "def threeSum(nums: list) -> list:\n",
    "    result = []\n",
    "    nums.sort()\n",
    "    \n",
    "    for i in range(len(nums) - 2):\n",
    "        for j in range(i+1, len(nums) - 1):\n",
    "            if 0-nums[i]-nums[j] in nums[(j+1):] and \\\n",
    "            [nums[i], nums[j], 0-nums[i]-nums[j]] not in result:\n",
    "                \n",
    "                result.append([nums[i], nums[j], 0-nums[i]-nums[j]])\n",
    "    \n",
    "    return result"
   ]
  },
  {
   "cell_type": "code",
   "execution_count": 34,
   "metadata": {},
   "outputs": [
    {
     "data": {
      "text/plain": [
       "[[-1, -1, 2], [-1, 0, 1]]"
      ]
     },
     "execution_count": 34,
     "metadata": {},
     "output_type": "execute_result"
    }
   ],
   "source": [
    "threeSum(nums)"
   ]
  },
  {
   "cell_type": "markdown",
   "metadata": {},
   "source": [
    "#### 정답 \n",
    "#### 1) 브루트 포스로 계산 (타임아웃)\n",
    "- O(n^3)"
   ]
  },
  {
   "cell_type": "code",
   "execution_count": 36,
   "metadata": {},
   "outputs": [],
   "source": [
    "def threeSum(nums: list) -> list:\n",
    "    results = []\n",
    "    nums.sort()\n",
    "    \n",
    "    for i in range(len(nums) - 2):\n",
    "        # 중복된 값 건너뛰기 - 이미 -1, 0, 1을 찾았는데, -1 한번더 안해도 됨\n",
    "        if i > 0 and nums[i] == nums[i-1]:\n",
    "            continue\n",
    "            \n",
    "        for j in range(i+1, len(nums)-1):\n",
    "            if j > i + 1 and nums[j] == nums[j - 1]:\n",
    "                continue\n",
    "                \n",
    "            for k in range(j+1, len(nums)):\n",
    "                if k > j + 1 and nums[k] == nums[k-1]:\n",
    "                    continue\n",
    "                if nums[i] + nums[j] + nums[k] == 0:\n",
    "                    results.append([nums[i], nums[j], nums[k]])\n",
    "                \n",
    "    return results"
   ]
  },
  {
   "cell_type": "code",
   "execution_count": 37,
   "metadata": {},
   "outputs": [
    {
     "data": {
      "text/plain": [
       "[[-1, -1, 2], [-1, 0, 1]]"
      ]
     },
     "execution_count": 37,
     "metadata": {},
     "output_type": "execute_result"
    }
   ],
   "source": [
    "threeSum(nums)"
   ]
  },
  {
   "cell_type": "markdown",
   "metadata": {},
   "source": [
    "#### 2) 투 포인터로 합 계산 (884ms)\n",
    "- O(n^2)\n",
    "<img src='img/7_7.png' width='200'>"
   ]
  },
  {
   "cell_type": "code",
   "execution_count": 38,
   "metadata": {},
   "outputs": [],
   "source": [
    "def threeSum(nums: list) -> list:\n",
    "    results = []\n",
    "    nums.sort()\n",
    "    \n",
    "    for i in range(len(nums) - 2):\n",
    "        # 중복된 값 건너뛰기\n",
    "        if i > 0 and nums[i] == nums[i-1]:\n",
    "            continue\n",
    "        \n",
    "        # 간격을 좁혀가며 합 sum 계산\n",
    "        left, right = i+1, len(nums)-1\n",
    "        while left < right:\n",
    "            nums = nums[i] + nums[left] + nums[right]\n",
    "            if sum < 0:\n",
    "                left += 1\n",
    "            elif sum > 0:\n",
    "                right -= 1\n",
    "            else:\n",
    "                # sum = 0인 경우이므로 정답 및 스킵 처리\n",
    "                results.append([nums[i], nums[left], nums[right]])\n",
    "                \n",
    "                while left < right and nums[left] == nums[left+1]:\n",
    "                    left += 1\n",
    "                while left < right and nums[right] == nums[right-1]:\n",
    "                    right -= 1\n",
    "                    \n",
    "                left += 1\n",
    "                right -= 1\n",
    "                \n",
    "    return results"
   ]
  },
  {
   "cell_type": "markdown",
   "metadata": {},
   "source": [
    "#### cf) 투 포인터란?\n",
    "- 투 포인터는 여러가지 방식이 있지만, 대개 시작점과 끝점을 기준으로 범위를 좁혀나가는 풀이 전략이다.\n",
    "- 좁혀 나가기 위해서는 일반적으로 배열이 정렬되어 있을 때 좀 더 유명하며, 위의 코드는 O(n^3)를 O(n^2)로 풀 수 있는 코드이다\n",
    "- 슬라이딩 윈도우와 비슷한 점이 많은데, 20장에서 공통점과 차이점을 다시 살펴보도록 한다"
   ]
  },
  {
   "cell_type": "markdown",
   "metadata": {},
   "source": [
    "### 10. 배열 파티션 1\n",
    "- n개의 페어를 이용한 min(a, b)의 합으로 만들 수 있는 가장 큰 수를 출력하라"
   ]
  },
  {
   "cell_type": "code",
   "execution_count": 39,
   "metadata": {},
   "outputs": [],
   "source": [
    "inputs = [1, 4, 3, 2]   # 출력 : 4\n",
    "                        # min(1, 2) + min(3, 4) = 4"
   ]
  },
  {
   "cell_type": "markdown",
   "metadata": {},
   "source": [
    "#### 시도"
   ]
  },
  {
   "cell_type": "code",
   "execution_count": 40,
   "metadata": {},
   "outputs": [],
   "source": [
    "def partition(inputs):\n",
    "    inputs.sort()\n",
    "    result = 0\n",
    "    for i in range(len(inputs)):\n",
    "        if i%2 == 0:\n",
    "            result += inputs[i]\n",
    "    return result"
   ]
  },
  {
   "cell_type": "code",
   "execution_count": 41,
   "metadata": {},
   "outputs": [
    {
     "data": {
      "text/plain": [
       "4"
      ]
     },
     "execution_count": 41,
     "metadata": {},
     "output_type": "execute_result"
    }
   ],
   "source": [
    "partition(inputs)"
   ]
  },
  {
   "cell_type": "markdown",
   "metadata": {},
   "source": [
    "#### 정답\n",
    "#### 1) 오름차순으로 풀이 (332ms)\n",
    "- 차례대로 2개씩 끊는 것이 최대 합"
   ]
  },
  {
   "cell_type": "code",
   "execution_count": null,
   "metadata": {},
   "outputs": [],
   "source": [
    "def arrayPairSum(nums: list) -> int:\n",
    "    sum = 0\n",
    "    pair = []\n",
    "    nums.sort()\n",
    "    \n",
    "    for n in nums:\n",
    "        # 앞에서부터 오름차순으로 페어를 만들어서 합 계산\n",
    "        pair.append(n)\n",
    "        if len(pair) == 2:\n",
    "            sum += min(pair)\n",
    "            pair = []\n",
    "        \n",
    "    return sum"
   ]
  },
  {
   "cell_type": "markdown",
   "metadata": {},
   "source": [
    "#### 2) 짝수번째 값 계산 (308ms)\n",
    "- 일일이 min을 구해주지 않아도 됨\n",
    "- 0부터 시작하므로 min값은 짝수번째 "
   ]
  },
  {
   "cell_type": "code",
   "execution_count": 42,
   "metadata": {},
   "outputs": [],
   "source": [
    "def arrayPairSum(nums: list) -> int:\n",
    "    sum = 0\n",
    "    inputs.sort()\n",
    "\n",
    "    for i, n in enumerate(nums):\n",
    "        if i%2 == 0:\n",
    "            sum += n\n",
    "            \n",
    "    return result"
   ]
  },
  {
   "cell_type": "markdown",
   "metadata": {},
   "source": [
    "#### 3) 파이썬다운 방식 (284ms)"
   ]
  },
  {
   "cell_type": "code",
   "execution_count": 43,
   "metadata": {},
   "outputs": [],
   "source": [
    "def arrayPairSum(num: list) -> int:\n",
    "    return sum(sorted(num)[::2])"
   ]
  },
  {
   "cell_type": "markdown",
   "metadata": {},
   "source": [
    "### 11. 자신을 제외한 배열의 곱\n",
    "- 배열을 입력받아 output[i]가 자신을 제외한 나머지 모든 요소의 곱셈 결과가 되도록 출력하라\n",
    "- 단, 나눗셈을 하지 않고 O(n)에 풀이하라"
   ]
  },
  {
   "cell_type": "code",
   "execution_count": 44,
   "metadata": {},
   "outputs": [],
   "source": [
    "nums = [1, 2, 3, 4]  # 출력 : [24, 12, 8, 6]"
   ]
  },
  {
   "cell_type": "markdown",
   "metadata": {},
   "source": [
    "#### 시도\n",
    "- 이중 for문밖에 모르겠다.."
   ]
  },
  {
   "cell_type": "markdown",
   "metadata": {},
   "source": [
    "#### 정답"
   ]
  },
  {
   "cell_type": "markdown",
   "metadata": {},
   "source": [
    "#### 1) 왼쪽 곱셈 결과에 오른쪽 값을 차례대로 곱셈\n",
    "- 자기 자신을 제외하고 자신의 왼쪽까지 곱셈결과와 오른쪽까지의 곱셈결과를 곱하기\n",
    "<img src='img/7_9.png' width='300'>"
   ]
  },
  {
   "cell_type": "code",
   "execution_count": null,
   "metadata": {},
   "outputs": [],
   "source": [
    "def productExceptSelf(nums: list) -> list:\n",
    "    out = []\n",
    "    p = 1\n",
    "    # 왼쪽 곱셈\n",
    "    for i in range(0, len(nums)):\n",
    "        out.append(p)\n",
    "        p = p * nums[i]\n",
    "    \n",
    "    p = 1\n",
    "    # 왼쪽 곱셈 결과에 오른쪽 값을 차례대로 곱셈\n",
    "    for i in range(len(nums) - 1, 0 - 1, -1):  # 3 2 1 0\n",
    "        out[i] = out[i] * p\n",
    "        p = p * nums[i]\n",
    "    \n",
    "    return out"
   ]
  },
  {
   "cell_type": "markdown",
   "metadata": {},
   "source": [
    "### 12. 주식을 사고팔기 가장 좋은 시점"
   ]
  },
  {
   "cell_type": "code",
   "execution_count": 20,
   "metadata": {},
   "outputs": [],
   "source": [
    "prices = [7, 1, 5, 3, 6, 4]   # 출력 5"
   ]
  },
  {
   "cell_type": "markdown",
   "metadata": {},
   "source": [
    "#### 시도"
   ]
  },
  {
   "cell_type": "code",
   "execution_count": 12,
   "metadata": {},
   "outputs": [],
   "source": [
    "def findPoint(prices):\n",
    "    result = []\n",
    "    \n",
    "    for i in range(len(prices)):\n",
    "        result.append(max(prices[i:]) - prices[i])\n",
    "        \n",
    "    return max(result)"
   ]
  },
  {
   "cell_type": "markdown",
   "metadata": {},
   "source": [
    "#### 정답\n",
    "#### 1) 브루트 포스로 계산\n",
    "- O(n)"
   ]
  },
  {
   "cell_type": "code",
   "execution_count": 14,
   "metadata": {},
   "outputs": [],
   "source": [
    "def maxProfit(prices: list) -> int:\n",
    "    max_price = 0\n",
    "    \n",
    "    for i, price in enumerate(prices):\n",
    "        for j in range(i, len(prices)):\n",
    "            max_prices = max(prices[j] - price, max_price)\n",
    "        \n",
    "    return max_prices"
   ]
  },
  {
   "cell_type": "markdown",
   "metadata": {},
   "source": [
    "#### 2) 저점과 현재 값과의 차이를 계산\n",
    "<img src='img/7_11.png' width='300'>"
   ]
  },
  {
   "cell_type": "code",
   "execution_count": 16,
   "metadata": {},
   "outputs": [],
   "source": [
    "import sys"
   ]
  },
  {
   "cell_type": "code",
   "execution_count": 18,
   "metadata": {},
   "outputs": [],
   "source": [
    "profit = 0   \n",
    "min_price = sys.maxsize  # float('inf') or float('-inf')를 이용할 수도 있음"
   ]
  },
  {
   "cell_type": "markdown",
   "metadata": {},
   "source": [
    "- 최솟값과 최댓값은 시스템의 최대최소값으로 두는 것이 편하나, 이 문제에서는 입력이 []일 때, profit이 -sys.maxsize로 나오는 것을 방지하기 위해 profit을 0으로 둠\n",
    "- float() 함수를 이용할 수도 있음. \n",
    "- 가장 좋지 않은 방법은 99999 같은 임의의 값을 지정하는 것 (더 큰 값이 들어와 교체되지 않을 수도 있으므로)\n",
    "- 대개 코테에서는 '0 < n < 5000' 과 같이 지정되어 있으므로 이에 맞추어 지정해주면 된다"
   ]
  },
  {
   "cell_type": "code",
   "execution_count": 19,
   "metadata": {},
   "outputs": [],
   "source": [
    "def maxProfit(prices: list) -> int:\n",
    "    profit = 0\n",
    "    min_price = sys.maxsize\n",
    "    \n",
    "    # 최솟값과 최댓값을 계속 갱신\n",
    "    for price in prices:\n",
    "        min_price = min(min_price, price)\n",
    "        profit = max(profit, price - min_price)\n",
    "        \n",
    "    return profit"
   ]
  },
  {
   "cell_type": "markdown",
   "metadata": {},
   "source": [
    "<img src='img/7_10.png' width='150'>  \n",
    "- 1 이후에 더 작은 최솟값을 찾아도 profit이 업데이트 안될 수 있으므로 모든 경우로 확장 가능"
   ]
  }
 ],
 "metadata": {
  "kernelspec": {
   "display_name": "Python 3",
   "language": "python",
   "name": "python3"
  },
  "language_info": {
   "codemirror_mode": {
    "name": "ipython",
    "version": 3
   },
   "file_extension": ".py",
   "mimetype": "text/x-python",
   "name": "python",
   "nbconvert_exporter": "python",
   "pygments_lexer": "ipython3",
   "version": "3.7.7"
  }
 },
 "nbformat": 4,
 "nbformat_minor": 4
}
