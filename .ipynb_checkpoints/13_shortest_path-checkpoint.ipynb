{
 "cells": [
  {
   "cell_type": "markdown",
   "metadata": {},
   "source": [
    "### 최단 경로 문제\n",
    "- __각 간선의 가중치 합이 최소가 되는 두 정점(또는 노드) 사이의 경로를 찾는 문제__\n",
    "- 그래프의 종류와 특성에 따라 최적화된 다양한 최단 경로 알고리즘이 존재  \n",
    "\n",
    "\n",
    "- 대표적인 알고리즘인 __다익스트라 알고리즘은 항상 노드 주변의 최단 경로만을 택하는 대표적인 그리디 알고리즘 중 하나로, BFS를 이용__한다\n",
    "\n",
    "\n",
    "- BFS를 여러명의 사람이 각기 서로 다른 갈림길을 흩어져서 길을 찾는 것과 비슷. 실뭉치를 풀어 놓았다가 되감으면서 새로운 길을 탐색하고, 하나로 모이면 다시 모여서 함께 탐색한다.\n",
    "- 다익스트라 알고리즘은 하나로 모였을 떄 __먼저 도착한 사람의 실뭉치를 사용__하는 것이다\n",
    "\n",
    "\n",
    "\n",
    "- 또한, __임의의 정점을 출발 집합에 더할 때, 그 정점까지의 최단거리는 계산이 끝났다는 확신을 갖고 더한다.__\n",
    "- BFS 구현시, 우선순위 큐를 사용하면 시간 복잡도는 $O(ElogV)$가 된다 (E : edge, V : vertex)"
   ]
  },
  {
   "cell_type": "markdown",
   "metadata": {},
   "source": [
    "### 40번. 네트워크 딜레이 타임\n",
    "- k부터 출발해 모든 노드가 신호를 받을 수 있는 시간을 계산. 불가능할 경우 -1을 리턴\n",
    "- 입력값 (u, v, w)는 각각 출발지, 도착지, 소요 시간으로 구성"
   ]
  },
  {
   "cell_type": "code",
   "execution_count": 2,
   "metadata": {},
   "outputs": [],
   "source": [
    "times = [[2, 1 ,1], [2, 3, 1], [3, 4, 1]]   # output : 2\n",
    "N = 4; K = 2"
   ]
  },
  {
   "cell_type": "markdown",
   "metadata": {},
   "source": [
    "#### 시도"
   ]
  },
  {
   "cell_type": "code",
   "execution_count": 7,
   "metadata": {},
   "outputs": [],
   "source": [
    "import collections"
   ]
  },
  {
   "cell_type": "code",
   "execution_count": 8,
   "metadata": {},
   "outputs": [],
   "source": [
    "graph = collections.defaultdict(list)\n",
    "\n",
    "for u, v, w in times:\n",
    "    graph[u].append([v, w])"
   ]
  },
  {
   "cell_type": "code",
   "execution_count": 9,
   "metadata": {},
   "outputs": [
    {
     "data": {
      "text/plain": [
       "defaultdict(list, {2: [[1, 1], [3, 1]], 3: [[4, 1]]})"
      ]
     },
     "execution_count": 9,
     "metadata": {},
     "output_type": "execute_result"
    }
   ],
   "source": [
    "graph"
   ]
  },
  {
   "cell_type": "markdown",
   "metadata": {},
   "source": [
    "#### 정답\n",
    "- 모든 노드가 신호를 받는 데 걸리는 시간 -> 가장 오래 걸리는 노드까지의 최단 시간\n",
    "- 모든 노드에 도달할 수 있는지 여부  \n",
    "\n",
    "> - 수도코드와 달리, dist 변수를 셋팅하지 않는 것은 heapq 모듈의 기능상 제약 때문\n",
    "- 만약, decrease_priority, 즉 우선순위를 조정하기 위해서는 heapq가 업데이트를 지원하지 않기 때문에 직접 확인해야하며 이는 O(n)의 복잡도를 갖는다\n",
    "- 따라서, decrease_priority 연산이 필요없도록 코드 수정\n",
    "\n",
    "\n",
    "<img src='img/13_2.png' width='500'>\n",
    "\n",
    "> - 위의 예시에서 dist에는 항상 최솟값부터 셋팅되기 때문에 heappop 실행시, (5, 1)이 아니라 (4, 1)이 먼저 pop되므로 (5, 1)이 버려짐\n",
    "\n",
    "\n",
    "<img src='img/13_1.png' width='600'>"
   ]
  },
  {
   "cell_type": "code",
   "execution_count": 10,
   "metadata": {},
   "outputs": [],
   "source": [
    "import heapq"
   ]
  },
  {
   "cell_type": "code",
   "execution_count": null,
   "metadata": {},
   "outputs": [],
   "source": [
    "def networkDelayTime(times: list, N: int, K: int) -> int:\n",
    "    graph = collections.defaultdict(list)\n",
    "    # 그래프 인접 리스트 구성\n",
    "    for u, v, w in times:\n",
    "        graph[u].append((v, w))\n",
    "        \n",
    "    # 큐 변수 : [(소요 시간, 정점)]\n",
    "    Q = [(0, K)]   # 초깃값 : 시작점 K, 소요 시간 : 0\n",
    "    dist = collections.defaultdict(int)\n",
    "\n",
    "    \n",
    "    # 우선순위 큐 최솟값 기준으로 정점까지 최단 경로 삽입\n",
    "    while Q:\n",
    "        time, node = heapq.heappop(Q)\n",
    "        if node not in dist:\n",
    "            dist[node] = time\n",
    "            for v, w in graph[node]:\n",
    "                alt = time + w\n",
    "                headq.headpush(Q, (alt, v))\n",
    "                \n",
    "    # 모든 노드의 최단 경로 존재 여부 판별\n",
    "    if len(dist) == N:\n",
    "        return max(dist.values())\n",
    "    return -1"
   ]
  },
  {
   "cell_type": "markdown",
   "metadata": {},
   "source": [
    "### 41번. K 경유지 내 가장 저렴한 항공권\n",
    "- 시작점에서 도착점까지의 가장 저렴한 가격을 계산하되, K개의 경유지 이내에 도착하는 가격을 리턴\n",
    "- 경로가 존재하지 않을 경우 -1 리턴"
   ]
  },
  {
   "cell_type": "code",
   "execution_count": 11,
   "metadata": {},
   "outputs": [],
   "source": [
    "edge = [[0, 1, 100], [1, 2, 100], [0, 2, 500]]\n",
    "n = 3; src = 0; dist = 2; K = 0"
   ]
  },
  {
   "cell_type": "markdown",
   "metadata": {},
   "source": [
    "#### 시도\n",
    "- 우선순위 큐에 (소요시간, 경유지, 정점)을 넣어서 구현할 수 있을 것 같다"
   ]
  },
  {
   "cell_type": "markdown",
   "metadata": {},
   "source": [
    "#### 정답"
   ]
  },
  {
   "cell_type": "code",
   "execution_count": 12,
   "metadata": {},
   "outputs": [],
   "source": [
    "def findCheapestPrice(n: int, flights: list, src: int, dst: int, K: int) -> int:\n",
    "    graph = collections.defaultdict(list)\n",
    "    # 그래프 인접 리스트 구성\n",
    "    for u, v, w in times:\n",
    "        graph[u].append((v, w))\n",
    "        \n",
    "    # 큐 변수 : [(가격, 정점, 남은 가능 경유지 수)]\n",
    "    Q = [(0, src, K)]\n",
    "    \n",
    "    # 우선순위 큐 최솟값 기준으로 도착점까지 최소 비용 판별\n",
    "    while Q:\n",
    "        price, node, k = heapq.heappop(Q)\n",
    "        if node == dst:\n",
    "            return price\n",
    "        if k >= 0:\n",
    "            for v, w in graph[node]:\n",
    "                alt = price + w\n",
    "                heapq.heappop(Q, (alt, v, k-1))\n",
    "    \n",
    "    return -1"
   ]
  }
 ],
 "metadata": {
  "kernelspec": {
   "display_name": "Python 3",
   "language": "python",
   "name": "python3"
  },
  "language_info": {
   "codemirror_mode": {
    "name": "ipython",
    "version": 3
   },
   "file_extension": ".py",
   "mimetype": "text/x-python",
   "name": "python",
   "nbconvert_exporter": "python",
   "pygments_lexer": "ipython3",
   "version": "3.7.7"
  }
 },
 "nbformat": 4,
 "nbformat_minor": 4
}
