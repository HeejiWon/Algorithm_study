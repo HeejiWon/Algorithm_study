{
 "cells": [
  {
   "cell_type": "markdown",
   "metadata": {},
   "source": [
    "### 0. 네이밍 컨벤션(Naming Convention)\n",
    "- 파이썬은 __파이썬의 PEP 8 및 철학__에 따라 스네이크 코딩을 지향한다\n",
    "- 스케이크 케이스는 각 단어를 언더스코어(\\_)로 구분하며, 일반적으로 모두 __소문자__로 표기한다 (경우에 따라 시작문자를 대문자로 표기하기도 한다)\n",
    "- ex : snake_case    \n",
    "\n",
    "cf) 카멜 케이스\n",
    "- 자바의 대표적인 표기방식으로 첫 단어는 모두 대문자로 시작하지만, 첫 시작 문자는 소문자로 표기한다\n",
    "- ex : camelCase"
   ]
  },
  {
   "cell_type": "markdown",
   "metadata": {},
   "source": [
    "### 1. Type Hint\n",
    "- 함수 정의시, 입력값과 출력값을 미리 알려주어 가독성을 높이고 버그 발생 확률을 줄이는 방법"
   ]
  },
  {
   "cell_type": "code",
   "execution_count": 10,
   "metadata": {},
   "outputs": [],
   "source": [
    "def fn(a: int) -> bool:\n",
    "    if a == 1: \n",
    "        return True\n",
    "    else:\n",
    "        return False"
   ]
  },
  {
   "cell_type": "code",
   "execution_count": 2,
   "metadata": {},
   "outputs": [
    {
     "data": {
      "text/plain": [
       "True"
      ]
     },
     "execution_count": 2,
     "metadata": {},
     "output_type": "execute_result"
    }
   ],
   "source": [
    "fn(1)"
   ]
  },
  {
   "cell_type": "code",
   "execution_count": 3,
   "metadata": {},
   "outputs": [
    {
     "data": {
      "text/plain": [
       "False"
      ]
     },
     "execution_count": 3,
     "metadata": {},
     "output_type": "execute_result"
    }
   ],
   "source": [
    "fn(2)"
   ]
  },
  {
   "cell_type": "code",
   "execution_count": 4,
   "metadata": {},
   "outputs": [
    {
     "data": {
      "text/plain": [
       "False"
      ]
     },
     "execution_count": 4,
     "metadata": {},
     "output_type": "execute_result"
    }
   ],
   "source": [
    "fn('1')"
   ]
  },
  {
   "cell_type": "code",
   "execution_count": 5,
   "metadata": {},
   "outputs": [
    {
     "data": {
      "text/plain": [
       "int"
      ]
     },
     "execution_count": 5,
     "metadata": {},
     "output_type": "execute_result"
    }
   ],
   "source": [
    "# 지양하기\n",
    "\n",
    "a: str = 1\n",
    "type(a)"
   ]
  },
  {
   "cell_type": "markdown",
   "metadata": {},
   "source": [
    "- mypy 라이브러리를 사용하면 타입 힌트에 오류가 없는지 자동으로 확인 가능 (프롬프트에서 nbqa mypy ch3_Python.ipynb 하면 나옴)"
   ]
  },
  {
   "cell_type": "markdown",
   "metadata": {},
   "source": [
    "### 2. 리스트 컴프리헨션\n",
    "- 기존 리스트를 기반으로 새로운 리스트를 만들어내는 구문\n",
    "- 'map, filter 대신 리스트 컴프리헨션을 사용하자'는 말이 있을 정도로 가동성이 좋음"
   ]
  },
  {
   "cell_type": "code",
   "execution_count": 3,
   "metadata": {},
   "outputs": [
    {
     "data": {
      "text/plain": [
       "[11, 12, 13]"
      ]
     },
     "execution_count": 3,
     "metadata": {},
     "output_type": "execute_result"
    }
   ],
   "source": [
    "# map 이용하기\n",
    "\n",
    "list(map(lambda x: x + 10, [1, 2, 3]))"
   ]
  },
  {
   "cell_type": "code",
   "execution_count": 5,
   "metadata": {},
   "outputs": [
    {
     "data": {
      "text/plain": [
       "[2, 6, 10, 14, 18]"
      ]
     },
     "execution_count": 5,
     "metadata": {},
     "output_type": "execute_result"
    }
   ],
   "source": [
    "# 리스트 컴프리헨션 \n",
    "# 홀수인 경우 2를 곱해 출력\n",
    "\n",
    "[n * 2 for n in range(1, 10+1) if n % 2 == 1]"
   ]
  },
  {
   "cell_type": "code",
   "execution_count": null,
   "metadata": {},
   "outputs": [],
   "source": [
    "# 딕셔너리에서도 사용가능\n",
    "\n",
    "a = {key: value for key, value in original.items()}"
   ]
  },
  {
   "cell_type": "markdown",
   "metadata": {},
   "source": [
    "- 하지만, 지나치게 남발하게 되면 가독성을 떨어트리는 요인이 된다\n",
    "- 대체로 표현식이 2개를 넘지 않아야 함"
   ]
  },
  {
   "cell_type": "code",
   "execution_count": null,
   "metadata": {},
   "outputs": [],
   "source": [
    "# 예시\n",
    "\n",
    "str1s = [str1[i:i + 2].lower() for i in range(len(str) - 1) if re.findall(\n",
    "    '[a-z]{2}', str1[i:i + 2].lower())]"
   ]
  },
  {
   "cell_type": "code",
   "execution_count": null,
   "metadata": {},
   "outputs": [],
   "source": [
    "# 줄 구분하여 복잡도 줄이기\n",
    "\n",
    "str1s = []\n",
    "for i in range(len(str1) - 1):\n",
    "    if re.findall('[a-z]{2}', str1[i:i + 2].lower()):\n",
    "        str1s.append(str1[i:i + 2].lower())"
   ]
  },
  {
   "cell_type": "markdown",
   "metadata": {},
   "source": [
    "### 3. 제너레이터\n",
    "- 루프의 반복(iteration) 동작을 제어할 수 있는 루틴 형태\n",
    "- ex) 임의의 조건으로 1억개의 숫자를 만들어 계산하는 프로그램을 작성할 때, 숫자를 메모리 어딘가에 넣어두는 것이 아니라 제너레이터만 생성해두고 필요할 때 만들어내는 방식\n",
    "- __yield__ 구문을 사용해 리턴  \n",
    "(실행 중이던 값을 내보낸다는 의미로, 리턴후 종료되지 않고 계속해서 맨 끝에 도달할 때까지 실행됨)"
   ]
  },
  {
   "cell_type": "code",
   "execution_count": 7,
   "metadata": {},
   "outputs": [],
   "source": [
    "def get_natural_number():\n",
    "    n = 0\n",
    "    while True:\n",
    "        n += 1\n",
    "        yield n"
   ]
  },
  {
   "cell_type": "code",
   "execution_count": 8,
   "metadata": {},
   "outputs": [
    {
     "data": {
      "text/plain": [
       "<generator object get_natural_number at 0x000001342C14C0C8>"
      ]
     },
     "execution_count": 8,
     "metadata": {},
     "output_type": "execute_result"
    }
   ],
   "source": [
    "get_natural_number()   # 제너레이터 타입"
   ]
  },
  {
   "cell_type": "markdown",
   "metadata": {},
   "source": [
    "- 다음 값을 생성하기 위해 next()로 추출"
   ]
  },
  {
   "cell_type": "code",
   "execution_count": 10,
   "metadata": {},
   "outputs": [
    {
     "name": "stdout",
     "output_type": "stream",
     "text": [
      "1\n",
      "2\n",
      "3\n",
      "4\n",
      "5\n",
      "6\n",
      "7\n",
      "8\n",
      "9\n",
      "10\n"
     ]
    }
   ],
   "source": [
    "g = get_natural_number()\n",
    "for _ in range(0, 10):\n",
    "    print(next(g))"
   ]
  },
  {
   "cell_type": "markdown",
   "metadata": {},
   "source": [
    "- 여러 타입의 값도 하나의 함수에서 생성 가능"
   ]
  },
  {
   "cell_type": "code",
   "execution_count": 11,
   "metadata": {},
   "outputs": [],
   "source": [
    "def generator():\n",
    "    yield 1\n",
    "    yield 'string'\n",
    "    yield True"
   ]
  },
  {
   "cell_type": "code",
   "execution_count": 12,
   "metadata": {},
   "outputs": [
    {
     "data": {
      "text/plain": [
       "<generator object generator at 0x0000016C33F15AC8>"
      ]
     },
     "execution_count": 12,
     "metadata": {},
     "output_type": "execute_result"
    }
   ],
   "source": [
    "g = generator()\n",
    "g"
   ]
  },
  {
   "cell_type": "code",
   "execution_count": 13,
   "metadata": {},
   "outputs": [
    {
     "data": {
      "text/plain": [
       "1"
      ]
     },
     "execution_count": 13,
     "metadata": {},
     "output_type": "execute_result"
    }
   ],
   "source": [
    "next(g)"
   ]
  },
  {
   "cell_type": "code",
   "execution_count": 14,
   "metadata": {},
   "outputs": [
    {
     "data": {
      "text/plain": [
       "'string'"
      ]
     },
     "execution_count": 14,
     "metadata": {},
     "output_type": "execute_result"
    }
   ],
   "source": [
    "next(g)"
   ]
  },
  {
   "cell_type": "code",
   "execution_count": 15,
   "metadata": {},
   "outputs": [
    {
     "data": {
      "text/plain": [
       "True"
      ]
     },
     "execution_count": 15,
     "metadata": {},
     "output_type": "execute_result"
    }
   ],
   "source": [
    "next(g)"
   ]
  },
  {
   "cell_type": "code",
   "execution_count": 16,
   "metadata": {},
   "outputs": [
    {
     "ename": "StopIteration",
     "evalue": "",
     "output_type": "error",
     "traceback": [
      "\u001b[1;31m---------------------------------------------------------------------------\u001b[0m",
      "\u001b[1;31mStopIteration\u001b[0m                             Traceback (most recent call last)",
      "\u001b[1;32m<ipython-input-16-e734f8aca5ac>\u001b[0m in \u001b[0;36m<module>\u001b[1;34m\u001b[0m\n\u001b[1;32m----> 1\u001b[1;33m \u001b[0mnext\u001b[0m\u001b[1;33m(\u001b[0m\u001b[0mg\u001b[0m\u001b[1;33m)\u001b[0m\u001b[1;33m\u001b[0m\u001b[1;33m\u001b[0m\u001b[0m\n\u001b[0m",
      "\u001b[1;31mStopIteration\u001b[0m: "
     ]
    }
   ],
   "source": [
    "next(g)  # yield 할 것이 없음"
   ]
  },
  {
   "cell_type": "markdown",
   "metadata": {},
   "source": [
    "### 4. range\n",
    "- 제너레이터의 방식을 활용하는 대표적인 함수"
   ]
  },
  {
   "cell_type": "code",
   "execution_count": 16,
   "metadata": {},
   "outputs": [
    {
     "data": {
      "text/plain": [
       "[0, 1, 2, 3, 4]"
      ]
     },
     "execution_count": 16,
     "metadata": {},
     "output_type": "execute_result"
    }
   ],
   "source": [
    "list(range(5))"
   ]
  },
  {
   "cell_type": "code",
   "execution_count": 17,
   "metadata": {},
   "outputs": [
    {
     "data": {
      "text/plain": [
       "range(0, 5)"
      ]
     },
     "execution_count": 17,
     "metadata": {},
     "output_type": "execute_result"
    }
   ],
   "source": [
    "range(0, 5)"
   ]
  },
  {
   "cell_type": "code",
   "execution_count": 18,
   "metadata": {},
   "outputs": [
    {
     "data": {
      "text/plain": [
       "range"
      ]
     },
     "execution_count": 18,
     "metadata": {},
     "output_type": "execute_result"
    }
   ],
   "source": [
    "type(range(5))"
   ]
  },
  {
   "cell_type": "code",
   "execution_count": 19,
   "metadata": {},
   "outputs": [
    {
     "name": "stdout",
     "output_type": "stream",
     "text": [
      "0 1 2 3 4 "
     ]
    }
   ],
   "source": [
    "for i in range(5):\n",
    "    print(i, end=' ')"
   ]
  },
  {
   "cell_type": "markdown",
   "metadata": {},
   "source": [
    "- 인덱스로 접근 시 바로 생성하도록 구현되어 있기 때문에 불편없이 사용 가능"
   ]
  },
  {
   "cell_type": "code",
   "execution_count": 20,
   "metadata": {},
   "outputs": [
    {
     "data": {
      "text/plain": [
       "2"
      ]
     },
     "execution_count": 20,
     "metadata": {},
     "output_type": "execute_result"
    }
   ],
   "source": [
    "a = range(5)\n",
    "a[2]"
   ]
  },
  {
   "cell_type": "markdown",
   "metadata": {},
   "source": [
    "### 5. enumerate\n",
    "- 순서가 있는 자료형을 인덱스를 포함한 enumerate 객체로 리턴"
   ]
  },
  {
   "cell_type": "code",
   "execution_count": 21,
   "metadata": {},
   "outputs": [
    {
     "data": {
      "text/plain": [
       "[1, 2, 3, 2, 45, 2, 5]"
      ]
     },
     "execution_count": 21,
     "metadata": {},
     "output_type": "execute_result"
    }
   ],
   "source": [
    "a = [1, 2, 3, 2, 45, 2, 5]\n",
    "a"
   ]
  },
  {
   "cell_type": "code",
   "execution_count": 22,
   "metadata": {},
   "outputs": [
    {
     "data": {
      "text/plain": [
       "<enumerate at 0x1342c155368>"
      ]
     },
     "execution_count": 22,
     "metadata": {},
     "output_type": "execute_result"
    }
   ],
   "source": [
    "enumerate(a)"
   ]
  },
  {
   "cell_type": "code",
   "execution_count": 23,
   "metadata": {},
   "outputs": [
    {
     "data": {
      "text/plain": [
       "[(0, 1), (1, 2), (2, 3), (3, 2), (4, 45), (5, 2), (6, 5)]"
      ]
     },
     "execution_count": 23,
     "metadata": {},
     "output_type": "execute_result"
    }
   ],
   "source": [
    "list(enumerate(a))"
   ]
  },
  {
   "cell_type": "code",
   "execution_count": 24,
   "metadata": {},
   "outputs": [
    {
     "name": "stdout",
     "output_type": "stream",
     "text": [
      "0 1\n",
      "1 2\n",
      "2 3\n",
      "3 2\n",
      "4 45\n",
      "5 2\n",
      "6 5\n"
     ]
    }
   ],
   "source": [
    "for i, v in enumerate(a):\n",
    "    print(i, v)"
   ]
  },
  {
   "cell_type": "markdown",
   "metadata": {},
   "source": [
    "### 6. // 몫"
   ]
  },
  {
   "cell_type": "code",
   "execution_count": 25,
   "metadata": {},
   "outputs": [
    {
     "data": {
      "text/plain": [
       "1.6666666666666667"
      ]
     },
     "execution_count": 25,
     "metadata": {},
     "output_type": "execute_result"
    }
   ],
   "source": [
    "5 / 3"
   ]
  },
  {
   "cell_type": "code",
   "execution_count": 26,
   "metadata": {},
   "outputs": [
    {
     "data": {
      "text/plain": [
       "1"
      ]
     },
     "execution_count": 26,
     "metadata": {},
     "output_type": "execute_result"
    }
   ],
   "source": [
    "5 // 3"
   ]
  },
  {
   "cell_type": "code",
   "execution_count": 27,
   "metadata": {},
   "outputs": [
    {
     "data": {
      "text/plain": [
       "1"
      ]
     },
     "execution_count": 27,
     "metadata": {},
     "output_type": "execute_result"
    }
   ],
   "source": [
    "int(5/3)  # 동일"
   ]
  },
  {
   "cell_type": "code",
   "execution_count": 29,
   "metadata": {},
   "outputs": [
    {
     "data": {
      "text/plain": [
       "2"
      ]
     },
     "execution_count": 29,
     "metadata": {},
     "output_type": "execute_result"
    }
   ],
   "source": [
    "5 % 3   # 나머지"
   ]
  },
  {
   "cell_type": "code",
   "execution_count": 30,
   "metadata": {},
   "outputs": [
    {
     "data": {
      "text/plain": [
       "(1, 2)"
      ]
     },
     "execution_count": 30,
     "metadata": {},
     "output_type": "execute_result"
    }
   ],
   "source": [
    "# 몫과 나머지를 한 번에 구할 때\n",
    "\n",
    "divmod(5, 3)"
   ]
  },
  {
   "cell_type": "markdown",
   "metadata": {},
   "source": [
    "### 7. print\n",
    "- 실무에서는 print를 활용하는 디버깅 방법을 추천하지 않지만, 코테에서는 디버거를 사용하거나 TDD 방식으로 접근하기 어렵기 때문에 사실항 유일한 기능"
   ]
  },
  {
   "cell_type": "code",
   "execution_count": 31,
   "metadata": {},
   "outputs": [
    {
     "name": "stdout",
     "output_type": "stream",
     "text": [
      "a b\n"
     ]
    }
   ],
   "source": [
    "print('a', 'b')"
   ]
  },
  {
   "cell_type": "code",
   "execution_count": 32,
   "metadata": {},
   "outputs": [
    {
     "name": "stdout",
     "output_type": "stream",
     "text": [
      "a,b\n"
     ]
    }
   ],
   "source": [
    "print('a', 'b', sep=',')"
   ]
  },
  {
   "cell_type": "markdown",
   "metadata": {},
   "source": [
    "- 리스트 출력시 join으로 묶기"
   ]
  },
  {
   "cell_type": "code",
   "execution_count": 34,
   "metadata": {},
   "outputs": [
    {
     "name": "stdout",
     "output_type": "stream",
     "text": [
      "A B\n"
     ]
    }
   ],
   "source": [
    "a = ['A', 'B']\n",
    "print(' '.join(a))"
   ]
  },
  {
   "cell_type": "markdown",
   "metadata": {},
   "source": [
    "- format 사용"
   ]
  },
  {
   "cell_type": "code",
   "execution_count": 37,
   "metadata": {},
   "outputs": [
    {
     "name": "stdout",
     "output_type": "stream",
     "text": [
      "2: Apple\n",
      "2: Apple\n"
     ]
    }
   ],
   "source": [
    "# idx 값에 1 더해서 fruit와 함께 출력하기\n",
    "idx = 1\n",
    "fruit = 'Apple'\n",
    "\n",
    "print('{0}: {1}'.format(idx + 1, fruit)) \n",
    "print('{}: {}'.format(idx + 1, fruit))   # 인덱스 생략 가능"
   ]
  },
  {
   "cell_type": "markdown",
   "metadata": {},
   "source": [
    "- f-string 방법 (formated string literal)"
   ]
  },
  {
   "cell_type": "code",
   "execution_count": 38,
   "metadata": {},
   "outputs": [
    {
     "name": "stdout",
     "output_type": "stream",
     "text": [
      "2: Apple\n"
     ]
    }
   ],
   "source": [
    "print(f'{idx + 1}: {fruit}')"
   ]
  },
  {
   "cell_type": "markdown",
   "metadata": {},
   "source": [
    "### 8. pass\n",
    "- Null 연산으로 아무것도 하지 않는 기능\n",
    "- 코드의 전체 골격을 잡아 놓고 세부적인 코드를 짜기 위해 불필요한 오류를 방지"
   ]
  },
  {
   "cell_type": "code",
   "execution_count": 41,
   "metadata": {},
   "outputs": [
    {
     "ename": "IndentationError",
     "evalue": "expected an indented block (<ipython-input-41-14150d708759>, line 4)",
     "output_type": "error",
     "traceback": [
      "\u001b[1;36m  File \u001b[1;32m\"<ipython-input-41-14150d708759>\"\u001b[1;36m, line \u001b[1;32m4\u001b[0m\n\u001b[1;33m    def method_a(self):\u001b[0m\n\u001b[1;37m      ^\u001b[0m\n\u001b[1;31mIndentationError\u001b[0m\u001b[1;31m:\u001b[0m expected an indented block\n"
     ]
    }
   ],
   "source": [
    "class MyClass(object):\n",
    "    def method_a(self):\n",
    "    \n",
    "    def method_a(self):\n",
    "        print(\"Method B\")\n",
    "        \n",
    "c = MyClass()"
   ]
  },
  {
   "cell_type": "code",
   "execution_count": 42,
   "metadata": {},
   "outputs": [],
   "source": [
    "class MyClass(object):\n",
    "    def method_a(self):\n",
    "        pass  # 여기에 pass 추가\n",
    "    \n",
    "    def method_a(self):\n",
    "        print(\"Method B\")\n",
    "        \n",
    "c = MyClass()"
   ]
  },
  {
   "cell_type": "markdown",
   "metadata": {},
   "source": [
    "### 9. locals\n",
    "- 로컬 심볼 테이블 딕셔너리를 가져오는 메소드로 업데이터도 가능\n",
    "- 로컬에 선언된 모든 변수를 조회할 수 있는 강력한 명령이므로 디버깅에 많은 도움이 된다"
   ]
  },
  {
   "cell_type": "code",
   "execution_count": 45,
   "metadata": {},
   "outputs": [
    {
     "name": "stdout",
     "output_type": "stream",
     "text": [
      "{'In': ['',\n",
      "        '# map 이용하기\\n\\nlist(map(Lamda x: x + 10, [1, 2, 3]))',\n",
      "        '# map 이용하기\\n\\nlist(map(lamda x: x + 10, [1, 2, 3]))',\n",
      "        '# map 이용하기\\n\\nlist(map(lambda x: x + 10, [1, 2, 3]))',\n",
      "        '# 리스트 컴프리헨션\\n\\n[n * 2 for n in range(1, 10+1) if n % 2 == 0]',\n",
      "        '# 리스트 컴프리헨션\\n\\n[n * 2 for n in range(1, 10+1) if n % 2 == 1]',\n",
      "        'original.items()',\n",
      "        'def get_natural_number():\\n'\n",
      "        '    n = 0\\n'\n",
      "        '    while True:\\n'\n",
      "        '        n += 1\\n'\n",
      "        '        yield n',\n",
      "        'get_natural_number()',\n",
      "        'g = get_natural_number()\\nfor _ in range(0, 100):\\n    print(next(g))',\n",
      "        'g = get_natural_number()\\nfor _ in range(0, 10):\\n    print(next(g))',\n",
      "        \"def generator():\\n    yield 1\\n    yield 'string'\\n    yield True\",\n",
      "        'g = generator()\\ng',\n",
      "        'next(g)',\n",
      "        'next(g)',\n",
      "        'next(g)',\n",
      "        'list(range(5))',\n",
      "        'range(0, 5)',\n",
      "        'type(range(5))',\n",
      "        \"for i in range(5):\\n    print(i, end=' ')\",\n",
      "        'a = range(5)\\na[2]',\n",
      "        'a = [1, 2, 3, 2, 45, 2, 5]\\na',\n",
      "        'enumerate(a)',\n",
      "        'list(enumerate(a))',\n",
      "        'for i, v in enumerate(a):\\n    print(i, v)',\n",
      "        '5 / 3',\n",
      "        '5 // 3',\n",
      "        'int(5/3)',\n",
      "        '5 % 3',\n",
      "        '5 % 3   # 나머지',\n",
      "        '# 몫과 나머지를 한 번에 구할 때\\n\\ndivmod(5, 3)',\n",
      "        \"print('a', 'b')\",\n",
      "        \"print('a', 'b', sep=',')\",\n",
      "        '# 리스트 출력시 join으로 묶기',\n",
      "        \"# 리스트 출력시 join으로 묶기\\n\\na = ['A', 'B']\\nprint(' '.join(a))\",\n",
      "        \"idx = 1\\nfruit = 'Apple'\",\n",
      "        'idx = 1\\n'\n",
      "        \"fruit = 'Apple'\\n\"\n",
      "        '\\n'\n",
      "        \"print('{0}: {1}'.format(idx + 1, fruit))\\n\"\n",
      "        \"print('{}: {}'.format(idx + 1, fruit))\",\n",
      "        '# idx 값에 1 더해서 fruit와 함께 출력하기\\n'\n",
      "        'idx = 1\\n'\n",
      "        \"fruit = 'Apple'\\n\"\n",
      "        '\\n'\n",
      "        \"print('{0}: {1}'.format(idx + 1, fruit)) \\n\"\n",
      "        \"print('{}: {}'.format(idx + 1, fruit))   # 인덱스 생략 가능\",\n",
      "        \"print(f'{idx + 1}: {fruit}')\",\n",
      "        'Class MyClass(object):\\n'\n",
      "        '    def method_a(self):\\n'\n",
      "        '    \\n'\n",
      "        '    def method_a(self):\\n'\n",
      "        '        print(\"Method B\")',\n",
      "        'Class MyClass(object):\\n'\n",
      "        '    def method_a(self):\\n'\n",
      "        '    \\n'\n",
      "        '    def method_a(self):\\n'\n",
      "        '        print(\"Method B\")\\n'\n",
      "        '        \\n'\n",
      "        'c = MyClass()',\n",
      "        'class MyClass(object):\\n'\n",
      "        '    def method_a(self):\\n'\n",
      "        '    \\n'\n",
      "        '    def method_a(self):\\n'\n",
      "        '        print(\"Method B\")\\n'\n",
      "        '        \\n'\n",
      "        'c = MyClass()',\n",
      "        'class MyClass(object):\\n'\n",
      "        '    def method_a(self):\\n'\n",
      "        '        # 여기에 pass 추가\\n'\n",
      "        '        pass\\n'\n",
      "        '    \\n'\n",
      "        '    def method_a(self):\\n'\n",
      "        '        print(\"Method B\")\\n'\n",
      "        '        \\n'\n",
      "        'c = MyClass()',\n",
      "        'import pprint\\npprint.pprint(locals())',\n",
      "        'import pprint\\nprint(locals())',\n",
      "        'import pprint\\npprint.pprint(locals())'],\n",
      " 'MyClass': <class '__main__.MyClass'>,\n",
      " 'Out': {3: [11, 12, 13],\n",
      "         4: [4, 8, 12, 16, 20],\n",
      "         5: [2, 6, 10, 14, 18],\n",
      "         8: <generator object get_natural_number at 0x000001342C14C0C8>,\n",
      "         12: <generator object generator at 0x000001342C14C748>,\n",
      "         13: 1,\n",
      "         14: 'string',\n",
      "         15: True,\n",
      "         16: [0, 1, 2, 3, 4],\n",
      "         17: range(0, 5),\n",
      "         18: <class 'range'>,\n",
      "         20: 2,\n",
      "         21: [1, 2, 3, 2, 45, 2, 5],\n",
      "         22: <enumerate object at 0x000001342C155368>,\n",
      "         23: [(0, 1), (1, 2), (2, 3), (3, 2), (4, 45), (5, 2), (6, 5)],\n",
      "         25: 1.6666666666666667,\n",
      "         26: 1,\n",
      "         27: 1,\n",
      "         28: 2,\n",
      "         29: 2,\n",
      "         30: (1, 2)},\n",
      " '_': 9,\n",
      " '_12': <generator object generator at 0x000001342C14C748>,\n",
      " '_13': 1,\n",
      " '_14': 'string',\n",
      " '_15': True,\n",
      " '_16': [0, 1, 2, 3, 4],\n",
      " '_17': range(0, 5),\n",
      " '_18': <class 'range'>,\n",
      " '_20': 2,\n",
      " '_21': [1, 2, 3, 2, 45, 2, 5],\n",
      " '_22': <enumerate object at 0x000001342C155368>,\n",
      " '_23': [(0, 1), (1, 2), (2, 3), (3, 2), (4, 45), (5, 2), (6, 5)],\n",
      " '_25': 1.6666666666666667,\n",
      " '_26': 1,\n",
      " '_27': 1,\n",
      " '_28': 2,\n",
      " '_29': 2,\n",
      " '_3': [11, 12, 13],\n",
      " '_30': (1, 2),\n",
      " '_4': [4, 8, 12, 16, 20],\n",
      " '_5': [2, 6, 10, 14, 18],\n",
      " '_8': <generator object get_natural_number at 0x000001342C14C0C8>,\n",
      " '__': [2, 6, 10, 14, 18],\n",
      " '___': [4, 8, 12, 16, 20],\n",
      " '__builtin__': <module 'builtins' (built-in)>,\n",
      " '__builtins__': <module 'builtins' (built-in)>,\n",
      " '__doc__': 'Automatically created module for IPython interactive environment',\n",
      " '__loader__': None,\n",
      " '__name__': '__main__',\n",
      " '__package__': None,\n",
      " '__spec__': None,\n",
      " '_dh': ['C:\\\\Users\\\\hj\\\\Desktop\\\\Study\\\\Python\\\\Algorithm_Interview'],\n",
      " '_i': 'import pprint\\nprint(locals())',\n",
      " '_i1': '# map 이용하기\\n\\nlist(map(Lamda x: x + 10, [1, 2, 3]))',\n",
      " '_i10': 'g = get_natural_number()\\nfor _ in range(0, 10):\\n    print(next(g))',\n",
      " '_i11': \"def generator():\\n    yield 1\\n    yield 'string'\\n    yield True\",\n",
      " '_i12': 'g = generator()\\ng',\n",
      " '_i13': 'next(g)',\n",
      " '_i14': 'next(g)',\n",
      " '_i15': 'next(g)',\n",
      " '_i16': 'list(range(5))',\n",
      " '_i17': 'range(0, 5)',\n",
      " '_i18': 'type(range(5))',\n",
      " '_i19': \"for i in range(5):\\n    print(i, end=' ')\",\n",
      " '_i2': '# map 이용하기\\n\\nlist(map(lamda x: x + 10, [1, 2, 3]))',\n",
      " '_i20': 'a = range(5)\\na[2]',\n",
      " '_i21': 'a = [1, 2, 3, 2, 45, 2, 5]\\na',\n",
      " '_i22': 'enumerate(a)',\n",
      " '_i23': 'list(enumerate(a))',\n",
      " '_i24': 'for i, v in enumerate(a):\\n    print(i, v)',\n",
      " '_i25': '5 / 3',\n",
      " '_i26': '5 // 3',\n",
      " '_i27': 'int(5/3)',\n",
      " '_i28': '5 % 3',\n",
      " '_i29': '5 % 3   # 나머지',\n",
      " '_i3': '# map 이용하기\\n\\nlist(map(lambda x: x + 10, [1, 2, 3]))',\n",
      " '_i30': '# 몫과 나머지를 한 번에 구할 때\\n\\ndivmod(5, 3)',\n",
      " '_i31': \"print('a', 'b')\",\n",
      " '_i32': \"print('a', 'b', sep=',')\",\n",
      " '_i33': '# 리스트 출력시 join으로 묶기',\n",
      " '_i34': \"# 리스트 출력시 join으로 묶기\\n\\na = ['A', 'B']\\nprint(' '.join(a))\",\n",
      " '_i35': \"idx = 1\\nfruit = 'Apple'\",\n",
      " '_i36': 'idx = 1\\n'\n",
      "         \"fruit = 'Apple'\\n\"\n",
      "         '\\n'\n",
      "         \"print('{0}: {1}'.format(idx + 1, fruit))\\n\"\n",
      "         \"print('{}: {}'.format(idx + 1, fruit))\",\n",
      " '_i37': '# idx 값에 1 더해서 fruit와 함께 출력하기\\n'\n",
      "         'idx = 1\\n'\n",
      "         \"fruit = 'Apple'\\n\"\n",
      "         '\\n'\n",
      "         \"print('{0}: {1}'.format(idx + 1, fruit)) \\n\"\n",
      "         \"print('{}: {}'.format(idx + 1, fruit))   # 인덱스 생략 가능\",\n",
      " '_i38': \"print(f'{idx + 1}: {fruit}')\",\n",
      " '_i39': 'Class MyClass(object):\\n'\n",
      "         '    def method_a(self):\\n'\n",
      "         '    \\n'\n",
      "         '    def method_a(self):\\n'\n",
      "         '        print(\"Method B\")',\n",
      " '_i4': '# 리스트 컴프리헨션\\n\\n[n * 2 for n in range(1, 10+1) if n % 2 == 0]',\n",
      " '_i40': 'Class MyClass(object):\\n'\n",
      "         '    def method_a(self):\\n'\n",
      "         '    \\n'\n",
      "         '    def method_a(self):\\n'\n",
      "         '        print(\"Method B\")\\n'\n",
      "         '        \\n'\n",
      "         'c = MyClass()',\n",
      " '_i41': 'class MyClass(object):\\n'\n",
      "         '    def method_a(self):\\n'\n",
      "         '    \\n'\n",
      "         '    def method_a(self):\\n'\n",
      "         '        print(\"Method B\")\\n'\n",
      "         '        \\n'\n",
      "         'c = MyClass()',\n",
      " '_i42': 'class MyClass(object):\\n'\n",
      "         '    def method_a(self):\\n'\n",
      "         '        # 여기에 pass 추가\\n'\n",
      "         '        pass\\n'\n",
      "         '    \\n'\n",
      "         '    def method_a(self):\\n'\n",
      "         '        print(\"Method B\")\\n'\n",
      "         '        \\n'\n",
      "         'c = MyClass()',\n",
      " '_i43': 'import pprint\\npprint.pprint(locals())',\n",
      " '_i44': 'import pprint\\nprint(locals())',\n",
      " '_i45': 'import pprint\\npprint.pprint(locals())',\n",
      " '_i5': '# 리스트 컴프리헨션\\n\\n[n * 2 for n in range(1, 10+1) if n % 2 == 1]',\n",
      " '_i6': 'original.items()',\n",
      " '_i7': 'def get_natural_number():\\n'\n",
      "        '    n = 0\\n'\n",
      "        '    while True:\\n'\n",
      "        '        n += 1\\n'\n",
      "        '        yield n',\n",
      " '_i8': 'get_natural_number()',\n",
      " '_i9': 'g = get_natural_number()\\nfor _ in range(0, 100):\\n    print(next(g))',\n",
      " '_ih': ['',\n",
      "         '# map 이용하기\\n\\nlist(map(Lamda x: x + 10, [1, 2, 3]))',\n",
      "         '# map 이용하기\\n\\nlist(map(lamda x: x + 10, [1, 2, 3]))',\n",
      "         '# map 이용하기\\n\\nlist(map(lambda x: x + 10, [1, 2, 3]))',\n",
      "         '# 리스트 컴프리헨션\\n\\n[n * 2 for n in range(1, 10+1) if n % 2 == 0]',\n",
      "         '# 리스트 컴프리헨션\\n\\n[n * 2 for n in range(1, 10+1) if n % 2 == 1]',\n",
      "         'original.items()',\n",
      "         'def get_natural_number():\\n'\n",
      "         '    n = 0\\n'\n",
      "         '    while True:\\n'\n",
      "         '        n += 1\\n'\n",
      "         '        yield n',\n",
      "         'get_natural_number()',\n",
      "         'g = get_natural_number()\\n'\n",
      "         'for _ in range(0, 100):\\n'\n",
      "         '    print(next(g))',\n",
      "         'g = get_natural_number()\\nfor _ in range(0, 10):\\n    print(next(g))',\n",
      "         \"def generator():\\n    yield 1\\n    yield 'string'\\n    yield True\",\n",
      "         'g = generator()\\ng',\n",
      "         'next(g)',\n",
      "         'next(g)',\n",
      "         'next(g)',\n",
      "         'list(range(5))',\n",
      "         'range(0, 5)',\n",
      "         'type(range(5))',\n",
      "         \"for i in range(5):\\n    print(i, end=' ')\",\n",
      "         'a = range(5)\\na[2]',\n",
      "         'a = [1, 2, 3, 2, 45, 2, 5]\\na',\n",
      "         'enumerate(a)',\n",
      "         'list(enumerate(a))',\n",
      "         'for i, v in enumerate(a):\\n    print(i, v)',\n",
      "         '5 / 3',\n",
      "         '5 // 3',\n",
      "         'int(5/3)',\n",
      "         '5 % 3',\n",
      "         '5 % 3   # 나머지',\n",
      "         '# 몫과 나머지를 한 번에 구할 때\\n\\ndivmod(5, 3)',\n",
      "         \"print('a', 'b')\",\n",
      "         \"print('a', 'b', sep=',')\",\n",
      "         '# 리스트 출력시 join으로 묶기',\n",
      "         \"# 리스트 출력시 join으로 묶기\\n\\na = ['A', 'B']\\nprint(' '.join(a))\",\n",
      "         \"idx = 1\\nfruit = 'Apple'\",\n",
      "         'idx = 1\\n'\n",
      "         \"fruit = 'Apple'\\n\"\n",
      "         '\\n'\n",
      "         \"print('{0}: {1}'.format(idx + 1, fruit))\\n\"\n",
      "         \"print('{}: {}'.format(idx + 1, fruit))\",\n",
      "         '# idx 값에 1 더해서 fruit와 함께 출력하기\\n'\n",
      "         'idx = 1\\n'\n",
      "         \"fruit = 'Apple'\\n\"\n",
      "         '\\n'\n",
      "         \"print('{0}: {1}'.format(idx + 1, fruit)) \\n\"\n",
      "         \"print('{}: {}'.format(idx + 1, fruit))   # 인덱스 생략 가능\",\n",
      "         \"print(f'{idx + 1}: {fruit}')\",\n",
      "         'Class MyClass(object):\\n'\n",
      "         '    def method_a(self):\\n'\n",
      "         '    \\n'\n",
      "         '    def method_a(self):\\n'\n",
      "         '        print(\"Method B\")',\n",
      "         'Class MyClass(object):\\n'\n",
      "         '    def method_a(self):\\n'\n",
      "         '    \\n'\n",
      "         '    def method_a(self):\\n'\n",
      "         '        print(\"Method B\")\\n'\n",
      "         '        \\n'\n",
      "         'c = MyClass()',\n",
      "         'class MyClass(object):\\n'\n",
      "         '    def method_a(self):\\n'\n",
      "         '    \\n'\n",
      "         '    def method_a(self):\\n'\n",
      "         '        print(\"Method B\")\\n'\n",
      "         '        \\n'\n",
      "         'c = MyClass()',\n",
      "         'class MyClass(object):\\n'\n",
      "         '    def method_a(self):\\n'\n",
      "         '        # 여기에 pass 추가\\n'\n",
      "         '        pass\\n'\n",
      "         '    \\n'\n",
      "         '    def method_a(self):\\n'\n",
      "         '        print(\"Method B\")\\n'\n",
      "         '        \\n'\n",
      "         'c = MyClass()',\n",
      "         'import pprint\\npprint.pprint(locals())',\n",
      "         'import pprint\\nprint(locals())',\n",
      "         'import pprint\\npprint.pprint(locals())'],\n",
      " '_ii': 'import pprint\\npprint.pprint(locals())',\n",
      " '_iii': 'class MyClass(object):\\n'\n",
      "         '    def method_a(self):\\n'\n",
      "         '        # 여기에 pass 추가\\n'\n",
      "         '        pass\\n'\n",
      "         '    \\n'\n",
      "         '    def method_a(self):\\n'\n",
      "         '        print(\"Method B\")\\n'\n",
      "         '        \\n'\n",
      "         'c = MyClass()',\n",
      " '_oh': {3: [11, 12, 13],\n",
      "         4: [4, 8, 12, 16, 20],\n",
      "         5: [2, 6, 10, 14, 18],\n",
      "         8: <generator object get_natural_number at 0x000001342C14C0C8>,\n",
      "         12: <generator object generator at 0x000001342C14C748>,\n",
      "         13: 1,\n",
      "         14: 'string',\n",
      "         15: True,\n",
      "         16: [0, 1, 2, 3, 4],\n",
      "         17: range(0, 5),\n",
      "         18: <class 'range'>,\n",
      "         20: 2,\n",
      "         21: [1, 2, 3, 2, 45, 2, 5],\n",
      "         22: <enumerate object at 0x000001342C155368>,\n",
      "         23: [(0, 1), (1, 2), (2, 3), (3, 2), (4, 45), (5, 2), (6, 5)],\n",
      "         25: 1.6666666666666667,\n",
      "         26: 1,\n",
      "         27: 1,\n",
      "         28: 2,\n",
      "         29: 2,\n",
      "         30: (1, 2)},\n",
      " 'a': ['A', 'B'],\n",
      " 'c': <__main__.MyClass object at 0x000001342C165F08>,\n",
      " 'exit': <IPython.core.autocall.ZMQExitAutocall object at 0x000001342C0314C8>,\n",
      " 'fruit': 'Apple',\n",
      " 'g': <generator object generator at 0x000001342C14C748>,\n",
      " 'generator': <function generator at 0x000001342C14B828>,\n",
      " 'get_ipython': <bound method InteractiveShell.get_ipython of <ipykernel.zmqshell.ZMQInteractiveShell object at 0x000001342BF18948>>,\n",
      " 'get_natural_number': <function get_natural_number at 0x000001342C14B678>,\n",
      " 'i': 6,\n",
      " 'idx': 1,\n",
      " 'pprint': <module 'pprint' from 'C:\\\\Users\\\\hj\\\\Anaconda3\\\\envs\\\\test_ten\\\\lib\\\\pprint.py'>,\n",
      " 'quit': <IPython.core.autocall.ZMQExitAutocall object at 0x000001342C0314C8>,\n",
      " 'v': 5}\n"
     ]
    }
   ],
   "source": [
    "import pprint\n",
    "pprint.pprint(locals())  # pprint로 출력하면 줄바꿈 처리가 되어 가독성이 높음"
   ]
  },
  {
   "cell_type": "code",
   "execution_count": 8,
   "metadata": {},
   "outputs": [
    {
     "name": "stdout",
     "output_type": "stream",
     "text": [
      "{'a': 1, 'b': 2, 'd': 3}\n"
     ]
    }
   ],
   "source": [
    "# 사용 예시\n",
    "\n",
    "def test():\n",
    "    a = 1\n",
    "    b = 2\n",
    "    huh = locals()\n",
    "    huh['d'] = 3  # 그냥 huh에만 추가되는 것 (실제로 d라는 변수가 생성되는 건 X)\n",
    "    print(huh)\n",
    "\n",
    "test()"
   ]
  },
  {
   "cell_type": "code",
   "execution_count": 10,
   "metadata": {},
   "outputs": [
    {
     "name": "stdout",
     "output_type": "stream",
     "text": [
      "{'__module__': '__main__', '__qualname__': 'Test', 'a': 'one', 'b': 'two', 'huh': {...}, 'c': 'three', 'd': 'four'}\n"
     ]
    }
   ],
   "source": [
    "class Test():\n",
    "    a = 'one'\n",
    "    b = 'two'\n",
    "    huh = locals()\n",
    "    c = 'three'\n",
    "    huh['d'] = 'four'\n",
    "    print(huh)"
   ]
  },
  {
   "cell_type": "markdown",
   "metadata": {},
   "source": [
    "### 10. 변수명과 주석\n",
    "- 코테에서도 주석을 꼭 달자!\n",
    "- 변수명도 의미를 부여해 작명하기"
   ]
  },
  {
   "cell_type": "code",
   "execution_count": null,
   "metadata": {},
   "outputs": [],
   "source": [
    "# 예시\n",
    "def numMatchingSubseq(self, S: str, words: List[str]) -> int:\n",
    "    matched_count = 0\n",
    "    \n",
    "    for word in words:\n",
    "        pos = 0\n",
    "        for i in range(len(word)):\n",
    "            # Fine matching position for each character\n",
    "            found_pos = S[pos:].find(word[i])\n",
    "            if found_pos < 0:\n",
    "                matched_count -= 1\n",
    "                break\n",
    "            else:  # If found, take step position forward\n",
    "                pos +=  found_pos + 1\n",
    "        matched_count += 1\n",
    "    \n",
    "    return matched_count"
   ]
  },
  {
   "cell_type": "markdown",
   "metadata": {},
   "source": [
    "### 11. 구글 파이썬 스타일 가이드\n",
    "- 파이썬의 공식 스타일 가이드 PEP 8에는 없는, 좋은 코드를 위한 지침"
   ]
  },
  {
   "cell_type": "markdown",
   "metadata": {},
   "source": [
    "#### 1) 함수의 기본값\n",
    "- 기본 값으로 가변 객체(list/dictionary/set) 사용하지 않기 (함수가 객체를 수정하면 기본 값이 변경되므로)\n",
    "- __불변 객체__(int, float, string, tuple)를 사용하거나 __None__을 명시적으로 할당하기"
   ]
  },
  {
   "cell_type": "code",
   "execution_count": null,
   "metadata": {},
   "outputs": [],
   "source": [
    "# 잘못된 예시\n",
    "\n",
    "def foo(a, b=[]):\n",
    "    pass\n",
    "\n",
    "def foo(a, b: Mapping = {}):\n",
    "    pass"
   ]
  },
  {
   "cell_type": "code",
   "execution_count": null,
   "metadata": {},
   "outputs": [],
   "source": [
    "# 좋은 예시\n",
    "\n",
    "def foo(a, b=None):\n",
    "    if b is None:\n",
    "        b = []\n",
    "        \n",
    "def foo(a, b: Optional[Sequence] = None):\n",
    "    if b is None:\n",
    "        b = []"
   ]
  },
  {
   "cell_type": "markdown",
   "metadata": {},
   "source": [
    "#### 2) True, False 암시적으로 사용하기"
   ]
  },
  {
   "cell_type": "code",
   "execution_count": null,
   "metadata": {},
   "outputs": [],
   "source": [
    "# 좋은 예시\n",
    "if not users:  # 값이 없을 때\n",
    "    print('no users')\n",
    "    \n",
    "# 나쁜 예시\n",
    "if len(users) == 0:\n",
    "    print('no users')"
   ]
  },
  {
   "cell_type": "code",
   "execution_count": null,
   "metadata": {},
   "outputs": [],
   "source": [
    "# 좋은 예시\n",
    "if foo == 0:  # 비교 대상이 되는 정수값 직접 비교하기\n",
    "    self.handle_zero()\n",
    "\n",
    "# 나쁜 예시\n",
    "if foo is not None and not foo:\n",
    "    self.handle_zero()"
   ]
  },
  {
   "cell_type": "code",
   "execution_count": null,
   "metadata": {},
   "outputs": [],
   "source": [
    "# 좋은 예시\n",
    "if i % 10 == 0:  # 명시적으로 비교하기명시적으로 비교하기\n",
    "    self.handle_multiple_of_ten()\n",
    "\n",
    "# 나쁜 얘시\n",
    "if not i % 10:\n",
    "    self.handle_multiple_of_ten()"
   ]
  },
  {
   "cell_type": "code",
   "execution_count": null,
   "metadata": {},
   "outputs": [],
   "source": []
  }
 ],
 "metadata": {
  "kernelspec": {
   "display_name": "Python 3",
   "language": "python",
   "name": "python3"
  },
  "language_info": {
   "codemirror_mode": {
    "name": "ipython",
    "version": 3
   },
   "file_extension": ".py",
   "mimetype": "text/x-python",
   "name": "python",
   "nbconvert_exporter": "python",
   "pygments_lexer": "ipython3",
   "version": "3.7.7"
  }
 },
 "nbformat": 4,
 "nbformat_minor": 4
}
