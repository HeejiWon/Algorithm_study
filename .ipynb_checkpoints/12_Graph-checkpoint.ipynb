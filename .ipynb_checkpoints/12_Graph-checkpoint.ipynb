{
 "cells": [
  {
   "cell_type": "markdown",
   "metadata": {},
   "source": [
    "## 그래프\n",
    "- 수학에서, 좀 더 구체적으로 그래프 이론에서 그래프는 객체의 일부 쌍(pair)들이 '연관되어' 있는 객체 집합 구조\n",
    "\n",
    "#### 1) 그래프 이론의 시작, 오일러 경로\n",
    "<img src='img/12_1.png' width='300'>  \n",
    "- '__이 7개의 다리를 한 번씩만 건너서 모두 지나갈 수 있을까__?'\n",
    "- 오일러는 모든 정점이 짝수 개의 차수(degree)를 갖는다면 모든 다리를 한 번씩만 건너서 도달하는 것이 성립한다고 말했다. "
   ]
  },
  {
   "attachments": {},
   "cell_type": "markdown",
   "metadata": {},
   "source": [
    "#### 2) 해밀턴 경로\n",
    "- 해밀턴 경로는 __각 정점을 한 번씩 방문하는 무향 또는 유향 그래프 경로__\n",
    "- 간선을 기준으로 하는 오일러 경로와 달리, 해밀턴 경로는 정점을 기준으로 한다. \n",
    "- 이 간단한 차이에도 불구하고 해밀턴 경로를 찾는 문제는 최적 알고리즘이 없는 대표적인 NP-완전 문제다.  \n",
    "<img src='img/12_2.png' width='300'>    \n",
    "\n",
    "\n",
    "\n",
    "- 위와 같이, 원래의 출발점으로 돌아오는 경로는 특별히 __해밀턴 순환__이라 한다. 최단 거리를 찾는 문제는 외판원 문제로도 유명하다.\n",
    "\n",
    "\n",
    "- __외판원 문제란, 각 도시를 방문하고 돌아오는 가장 짧은 경로를 찾는 문제__이다.\n",
    "- 외판원 문제는 다이나믹 프로그래밍 기법으로 최적화할 수 있다. -> $O(n^2 2^n)$ \n",
    "\n",
    "<img src='img/12_3.png' width='300'>   \n",
    "\n",
    "\n",
    "\n",
    "<center> <span style=\"color:gray\"> <del>(온라인에서 판매하라는 개발자 조크)</del> </span> </center> "
   ]
  },
  {
   "cell_type": "markdown",
   "metadata": {},
   "source": [
    "#### <span style=\"color:skyblue\"> cf) 포함 관계 </span>\n",
    "\n",
    "- 해밀턴 경로: 한 번만 방문하는 경로\n",
    "- 해밀턴 순환: 한 번만 방문하여 출발지로 돌아오는 경로\n",
    "- 외판원 문제: 한 번만 방문하여 출발지로 돌아오는 경로 중 가장 짧은 경로  \n",
    "\n",
    "\n",
    "\n",
    "=> 포함 관계 : 해밀턴 경로 > 해밀턴 순환 > 외판원 문제"
   ]
  },
  {
   "cell_type": "markdown",
   "metadata": {},
   "source": [
    "#### 3) 그래프 순회\n",
    "- 그래프 순회란 그래프 탐색(Search)라고도 불리며, 그래프의 각 정점을 방문하는 과정"
   ]
  },
  {
   "cell_type": "code",
   "execution_count": null,
   "metadata": {},
   "outputs": [],
   "source": []
  }
 ],
 "metadata": {
  "kernelspec": {
   "display_name": "Python 3",
   "language": "python",
   "name": "python3"
  },
  "language_info": {
   "codemirror_mode": {
    "name": "ipython",
    "version": 3
   },
   "file_extension": ".py",
   "mimetype": "text/x-python",
   "name": "python",
   "nbconvert_exporter": "python",
   "pygments_lexer": "ipython3",
   "version": "3.7.7"
  }
 },
 "nbformat": 4,
 "nbformat_minor": 4
}
