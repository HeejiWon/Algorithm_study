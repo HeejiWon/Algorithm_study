{
 "cells": [
  {
   "cell_type": "markdown",
   "metadata": {},
   "source": [
    "## 그래프\n",
    "- 수학에서, 좀 더 구체적으로 그래프 이론에서 그래프는 객체의 일부 쌍(pair)들이 '연관되어' 있는 객체 집합 구조\n",
    "\n",
    "#### 1) 그래프 이론의 시작, 오일러 경로\n",
    "<img src='img/12_1.png' width='300'>  \n",
    "- '__이 7개의 다리를 한 번씩만 건너서 모두 지나갈 수 있을까__?'\n",
    "- 오일러는 모든 정점이 짝수 개의 차수(degree)를 갖는다면 모든 다리를 한 번씩만 건너서 도달하는 것이 성립한다고 말했다. "
   ]
  },
  {
   "cell_type": "markdown",
   "metadata": {},
   "source": [
    "#### 2) 해밀턴 경로\n",
    "- 해밀턴 경로는 __각 정점을 한 번씩 방문하는 무향 또는 유향 그래프 경로__\n",
    "- 간선을 기준으로 하는 오일러 경로와 달리, 해밀턴 경로는 정점을 기준으로 한다. \n",
    "- 이 간단한 차이에도 불구하고 해밀턴 경로를 찾는 문제는 최적 알고리즘이 없는 대표적인 NP-완전 문제다.  \n",
    "<img src='img/12_2.png' width='300'>    \n",
    "\n",
    "\n",
    "\n",
    "- 위와 같이, 원래의 출발점으로 돌아오는 경로는 특별히 __해밀턴 순환__이라 한다. 최단 거리를 찾는 문제는 외판원 문제로도 유명하다.\n",
    "\n",
    "\n",
    "- __외판원 문제란, 각 도시를 방문하고 돌아오는 가장 짧은 경로를 찾는 문제__이다.\n",
    "- 외판원 문제는 다이나믹 프로그래밍 기법으로 최적화할 수 있다. -> $O(n^2 2^n)$ \n",
    "\n",
    "<img src='img/12_3.png' width='300'>   \n",
    "\n",
    "\n",
    "\n",
    "<center> <span style=\"color:gray\"> <del>(온라인에서 판매하라는 개발자 조크)</del> </span> </center> "
   ]
  },
  {
   "cell_type": "markdown",
   "metadata": {},
   "source": [
    "#### <span style=\"color:cornflowerblue\"> cf) 포함 관계 </span>\n",
    "\n",
    "- 해밀턴 경로: 한 번만 방문하는 경로\n",
    "- 해밀턴 순환: 한 번만 방문하여 출발지로 돌아오는 경로\n",
    "- 외판원 문제: 한 번만 방문하여 출발지로 돌아오는 경로 중 가장 짧은 경로  \n",
    "\n",
    "\n",
    "\n",
    "=> 포함 관계 : 해밀턴 경로 > 해밀턴 순환 > 외판원 문제"
   ]
  },
  {
   "cell_type": "markdown",
   "metadata": {},
   "source": [
    "#### 3) 그래프 순회\n",
    "- 그래프 순회란 그래프 탐색(Search)라고도 불리며, 그래프의 각 정점을 방문하는 과정\n",
    "- 깊이 우선 탐색(Depth-First Search, DFS)과 너비 우선 탐색(Breadth-First Search, BFS)\n",
    "- 일반적으로 DTFS가 BFS에 비해 더 널리 쓰임\n",
    "\n",
    "\n",
    "- DFS는 주로 스택으로 구현하거나 재귀로 구현, 이후에 살펴볼 백트래킹을 통해 뛰어난 효용을 보임\n",
    "- BFS는 큐로 구현하며, 그래프의 최단 경로를 구하는 문제 등에 사용됨\n",
    "\n",
    "<img src='img/12_4.png' width='150'>\n",
    "\n",
    "- 위와 같은 순회 그래프를 표현하는 방법에는 크게 인접 행렬과 인접 리스트의 2가지 방법이 있음 (아래는 인접 리스트로 구현한 코드 with 딕셔너리 자료형)"
   ]
  },
  {
   "cell_type": "code",
   "execution_count": 1,
   "metadata": {},
   "outputs": [],
   "source": [
    "graph = {\n",
    "    1: [2, 3, 4], \n",
    "    2: [5],\n",
    "    3: [5],\n",
    "    4: [],\n",
    "    5: [6, 7],\n",
    "    6: [],\n",
    "    7: [3]\n",
    "}"
   ]
  },
  {
   "cell_type": "markdown",
   "metadata": {},
   "source": [
    "### DFS (깊이 우선 탐색)\n",
    "- 일반적으로 스택으로 구현, 재귀를 이용하면 좀 더 간단하게 가능\n",
    "- 코테시에도 재귀 구현이 더 선호됨\n",
    "<img src='img/12_6.png' width='150'>\n",
    "\n",
    "#### <span style=\"color:cornflowerblue\">  재귀 구조로 구현 </span>\n",
    "<img src='img/12_5.png' width='500'>"
   ]
  },
  {
   "cell_type": "code",
   "execution_count": 2,
   "metadata": {},
   "outputs": [],
   "source": [
    "# 재귀 구조 구현\n",
    "\n",
    "def recursive_dfs(v, discovered=[]):\n",
    "    discovered.append(v)\n",
    "    for w in graph[v]:\n",
    "        if w not in discovered:\n",
    "            discovered = recursive_dfs(w, discovered)  \n",
    "                # discovered를 인자로 넣어주므로 계속 append 됨!\n",
    "    return discovered"
   ]
  },
  {
   "cell_type": "code",
   "execution_count": 3,
   "metadata": {},
   "outputs": [
    {
     "data": {
      "text/plain": [
       "[1, 2, 5, 6, 7, 3, 4]"
      ]
     },
     "execution_count": 3,
     "metadata": {},
     "output_type": "execute_result"
    }
   ],
   "source": [
    "recursive_dfs(1)"
   ]
  },
  {
   "cell_type": "markdown",
   "metadata": {},
   "source": [
    "#### <span style=\"color:cornflowerblue\">  스택을 이용한 반복 구조로 구현 </span>\n",
    "<img src='img/12_7.png' width='500'>"
   ]
  },
  {
   "cell_type": "code",
   "execution_count": null,
   "metadata": {},
   "outputs": [],
   "source": [
    "def iterative_dfs(start_v):\n",
    "    discovered = []\n",
    "    stack = [start_v]\n",
    "    \n",
    "    while stack:\n",
    "        v = stack.pop()\n",
    "        if v not in discovered:\n",
    "            discovered.append(v)\n",
    "            for w in graph[v]:\n",
    "                stack.append(w)\n",
    "                \n",
    "    return discovered"
   ]
  }
 ],
 "metadata": {
  "kernelspec": {
   "display_name": "Python 3",
   "language": "python",
   "name": "python3"
  },
  "language_info": {
   "codemirror_mode": {
    "name": "ipython",
    "version": 3
   },
   "file_extension": ".py",
   "mimetype": "text/x-python",
   "name": "python",
   "nbconvert_exporter": "python",
   "pygments_lexer": "ipython3",
   "version": "3.7.7"
  }
 },
 "nbformat": 4,
 "nbformat_minor": 4
}
