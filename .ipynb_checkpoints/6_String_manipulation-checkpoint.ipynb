{
 "cells": [
  {
   "cell_type": "markdown",
   "metadata": {},
   "source": [
    "### 1. 유효한 팰린드롬\n",
    "- 이 단어가 팰린드롬인지 확인하기\n",
    "- 팰린드롬 : 앞뒤가 똑같은 단어나 문장 (즉, 뒤집어도 같은 말이 되는 단어 또는 문장)  \n",
    "  ex) 소수 만 병만 주소"
   ]
  },
  {
   "cell_type": "code",
   "execution_count": 38,
   "metadata": {},
   "outputs": [
    {
     "name": "stdout",
     "output_type": "stream",
     "text": [
      "A man, a plan, a canal: Panama\n"
     ]
    }
   ],
   "source": [
    "s = input()"
   ]
  },
  {
   "cell_type": "markdown",
   "metadata": {},
   "source": [
    "#### 시도"
   ]
  },
  {
   "cell_type": "code",
   "execution_count": 39,
   "metadata": {},
   "outputs": [],
   "source": [
    "s = s.lower().replace(' ', '').replace(',', '').replace(':', '')"
   ]
  },
  {
   "cell_type": "code",
   "execution_count": 40,
   "metadata": {},
   "outputs": [
    {
     "data": {
      "text/plain": [
       "True"
      ]
     },
     "execution_count": 40,
     "metadata": {},
     "output_type": "execute_result"
    }
   ],
   "source": [
    "s == s[::-1]"
   ]
  },
  {
   "cell_type": "markdown",
   "metadata": {},
   "source": [
    "#### 정답\n",
    "#### 1) 리스트로 변환 (304ms)"
   ]
  },
  {
   "cell_type": "code",
   "execution_count": 45,
   "metadata": {},
   "outputs": [],
   "source": [
    "def isPalindrome(self, s: str) -> bool:\n",
    "    strs = []\n",
    "    for char in s:\n",
    "        if char.isalnum(): \n",
    "            strs.append(char.lower())\n",
    "            \n",
    "    # 팰린드롬 여부 판별\n",
    "    while len(strs) > 1:  # 홀수인 경우 하나 남았을 때 \n",
    "                           # 짝수인 경우 하나도 안남았을 때를 처리\n",
    "        if strs.pop(0) != strs.pop():\n",
    "            return False"
   ]
  },
  {
   "cell_type": "markdown",
   "metadata": {},
   "source": [
    "- .isalnum() : 문자 or 숫자, isalpha() : 문자"
   ]
  },
  {
   "cell_type": "markdown",
   "metadata": {},
   "source": [
    "#### 2) Deque 자료형을 이용한 최적화 (64ms)\n",
    "-  list의 pop(0)은 O(n)인 데 반해, 덱의 popleft()는 O(1)이므로 이를 n번 반복하면 각각 O(n^2), O(n)"
   ]
  },
  {
   "cell_type": "code",
   "execution_count": 54,
   "metadata": {},
   "outputs": [],
   "source": [
    "def isPalindrome(self, s: str) -> bool:\n",
    "    # 자료형 데크로 선언\n",
    "    strs: Deque = collections.deque()  # strs라는 변수가 Deque형으로 선언된다는 \n",
    "                                      # 타입 힌트\n",
    "    for char in s:\n",
    "        if char.isalnum():\n",
    "            strs.append(char.lower())\n",
    "            \n",
    "    while len(strs) > 1:\n",
    "        if strs.popleft() != strs.pop():\n",
    "            return False\n",
    "    \n",
    "    return True"
   ]
  },
  {
   "cell_type": "markdown",
   "metadata": {},
   "source": [
    "- 덱(Deque)은 deque(double-ended queue)이며 front와 rear에서 삽입/삭제 연산이 모두 가능한 큐이다  \n",
    "<img src='img/6_1.png' width='300'>\n",
    "\n",
    "    cf) [자료구조 - 스택, 큐, 덱](https://hini7.tistory.com/92)"
   ]
  },
  {
   "cell_type": "markdown",
   "metadata": {},
   "source": [
    "#### 3) 슬라이싱 사용 (36ms)"
   ]
  },
  {
   "cell_type": "code",
   "execution_count": 55,
   "metadata": {},
   "outputs": [],
   "source": [
    "def isPalindrome(self, s: str) -> bool:\n",
    "    s = s.lower()\n",
    "    \n",
    "    # 정규식으로 불필요한 문자 필터링\n",
    "    s = re.sub('[^a-z0-9]', '', s)\n",
    "    \n",
    "    return s == s[::-1]"
   ]
  },
  {
   "cell_type": "markdown",
   "metadata": {},
   "source": [
    "- 문자열 슬라이싱은 연결된 객체를 찾아 실제 값을 찾아내므로, 매우 빠름\n",
    "- 대부분의 문자열 작업은 __*슬라이싱으로 처리*__하는 편이 가장 빠름"
   ]
  },
  {
   "cell_type": "markdown",
   "metadata": {},
   "source": [
    "### 2. 문자열 뒤집기\n",
    "- 입력값은 문자 배열이며, 리턴 없이 리스트 내부를 직접 조작하라"
   ]
  },
  {
   "cell_type": "code",
   "execution_count": 8,
   "metadata": {},
   "outputs": [
    {
     "data": {
      "text/plain": [
       "['h', 'e', 'l', 'l', 'o']"
      ]
     },
     "execution_count": 8,
     "metadata": {},
     "output_type": "execute_result"
    }
   ],
   "source": [
    "s = ['h', 'e', 'l', 'l', 'o']\n",
    "s"
   ]
  },
  {
   "cell_type": "markdown",
   "metadata": {},
   "source": [
    "#### 시도"
   ]
  },
  {
   "cell_type": "code",
   "execution_count": 70,
   "metadata": {},
   "outputs": [],
   "source": [
    "def rev(s):\n",
    "    for i in range(len(s)//2):\n",
    "        s[-(i+1)], s[i] = s[i], s[-(i+1)]\n",
    "    return s"
   ]
  },
  {
   "cell_type": "code",
   "execution_count": 71,
   "metadata": {},
   "outputs": [
    {
     "data": {
      "text/plain": [
       "['e', 'l', 'l', 'e', 'h']"
      ]
     },
     "execution_count": 71,
     "metadata": {},
     "output_type": "execute_result"
    }
   ],
   "source": [
    "rev(s)"
   ]
  },
  {
   "cell_type": "markdown",
   "metadata": {},
   "source": [
    "#### 정답"
   ]
  },
  {
   "cell_type": "markdown",
   "metadata": {},
   "source": [
    "#### 1) 투 포인터를 이용한 스왑"
   ]
  },
  {
   "cell_type": "code",
   "execution_count": 2,
   "metadata": {},
   "outputs": [],
   "source": [
    "def reverseString(s: list) -> None:\n",
    "    left, right = 0, len(s) - 1\n",
    "    while left < right:\n",
    "        s[left], s[right] = s[right], s[left]\n",
    "        left += 1\n",
    "        right -= 1"
   ]
  },
  {
   "cell_type": "code",
   "execution_count": 5,
   "metadata": {},
   "outputs": [],
   "source": [
    "reverseString(s)"
   ]
  },
  {
   "cell_type": "code",
   "execution_count": 6,
   "metadata": {},
   "outputs": [
    {
     "data": {
      "text/plain": [
       "['o', 'l', 'l', 'e', 'h']"
      ]
     },
     "execution_count": 6,
     "metadata": {},
     "output_type": "execute_result"
    }
   ],
   "source": [
    "s"
   ]
  },
  {
   "cell_type": "markdown",
   "metadata": {},
   "source": [
    "#### 2) 파이썬다운 방식"
   ]
  },
  {
   "cell_type": "code",
   "execution_count": 10,
   "metadata": {},
   "outputs": [],
   "source": [
    "def reverseString(s: list) -> None:\n",
    "    s.reverse()"
   ]
  },
  {
   "cell_type": "code",
   "execution_count": 11,
   "metadata": {},
   "outputs": [
    {
     "data": {
      "text/plain": [
       "['o', 'l', 'l', 'e', 'h']"
      ]
     },
     "execution_count": 11,
     "metadata": {},
     "output_type": "execute_result"
    }
   ],
   "source": [
    "s = ['h', 'e', 'l', 'l', 'o']\n",
    "reverseString(s)\n",
    "s"
   ]
  },
  {
   "cell_type": "markdown",
   "metadata": {},
   "source": [
    "- reverse()는 리스트에서만 제공\n",
    "- s가 문자열일 경우, s = s[::-1]로 사용할 순 있지만 공간 복잡도를 O(1)로 제한하다보니 변수 할당 처리하는데 다소 제약이 있음  \n",
    "    => __s[:] = s[::-1] 사용!__"
   ]
  },
  {
   "cell_type": "code",
   "execution_count": 12,
   "metadata": {},
   "outputs": [
    {
     "data": {
      "text/plain": [
       "'olleh'"
      ]
     },
     "execution_count": 12,
     "metadata": {},
     "output_type": "execute_result"
    }
   ],
   "source": [
    "'hello'[::-1]  # 에시"
   ]
  },
  {
   "cell_type": "markdown",
   "metadata": {},
   "source": [
    "### 3. 로그 파일 재정렬\n",
    "<img src='img/6_2.png' width='400'>"
   ]
  },
  {
   "cell_type": "code",
   "execution_count": 1,
   "metadata": {},
   "outputs": [],
   "source": [
    "logs = ['dig1 8 1 5 1', 'let1 art can', 'dig2 3 6', 'let2 own kit dig', 'let3 art zero']"
   ]
  },
  {
   "cell_type": "markdown",
   "metadata": {},
   "source": [
    "#### 시도 \n",
    "   - 문자로그는 어떻게 처리해야하는 거지?"
   ]
  },
  {
   "cell_type": "code",
   "execution_count": 6,
   "metadata": {},
   "outputs": [],
   "source": [
    "let = [log for log in logs if 'let' in log[:3]]\n",
    "dig = [log for log in logs if 'dig' in log[:3]]"
   ]
  },
  {
   "cell_type": "code",
   "execution_count": 7,
   "metadata": {},
   "outputs": [
    {
     "name": "stdout",
     "output_type": "stream",
     "text": [
      "['let1 art can', 'let2 own kit dig', 'let3 art zero']\n",
      "['dig1 8 1 5 1', 'dig2 3 6']\n"
     ]
    }
   ],
   "source": [
    "print(let)\n",
    "print(dig)"
   ]
  },
  {
   "cell_type": "code",
   "execution_count": 27,
   "metadata": {},
   "outputs": [],
   "source": [
    "first = [let[i].split()[1] for i in range(len(let))]\n",
    "first_sort = sorted(first)\n",
    "first_set = set(first_sort)"
   ]
  },
  {
   "cell_type": "code",
   "execution_count": 43,
   "metadata": {},
   "outputs": [
    {
     "data": {
      "text/plain": [
       "['art', 'own', 'art']"
      ]
     },
     "execution_count": 43,
     "metadata": {},
     "output_type": "execute_result"
    }
   ],
   "source": [
    "first"
   ]
  },
  {
   "cell_type": "code",
   "execution_count": 25,
   "metadata": {},
   "outputs": [
    {
     "ename": "ValueError",
     "evalue": "'art' is not in list",
     "output_type": "error",
     "traceback": [
      "\u001b[1;31m---------------------------------------------------------------------------\u001b[0m",
      "\u001b[1;31mValueError\u001b[0m                                Traceback (most recent call last)",
      "\u001b[1;32m<ipython-input-25-b51721e25c66>\u001b[0m in \u001b[0;36m<module>\u001b[1;34m\u001b[0m\n\u001b[1;32m----> 1\u001b[1;33m \u001b[0mlet\u001b[0m\u001b[1;33m.\u001b[0m\u001b[0mindex\u001b[0m\u001b[1;33m(\u001b[0m\u001b[1;34m'art'\u001b[0m\u001b[1;33m)\u001b[0m\u001b[1;33m\u001b[0m\u001b[1;33m\u001b[0m\u001b[0m\n\u001b[0m",
      "\u001b[1;31mValueError\u001b[0m: 'art' is not in list"
     ]
    }
   ],
   "source": [
    "for word in first_set:  # 모르겠다\n",
    "    while True:\n",
    "        first.index(word)\n",
    "        find = sorted([let[i] for i in [0, 2]])\n",
    "        first.index(find)"
   ]
  },
  {
   "cell_type": "markdown",
   "metadata": {},
   "source": [
    "#### 정답\n",
    "#### 1) 람다와 + 연산자 이용"
   ]
  },
  {
   "cell_type": "code",
   "execution_count": 41,
   "metadata": {},
   "outputs": [],
   "source": [
    "def reorderLogFiles(logs: list) -> list:\n",
    "    \n",
    "    # 문자로 이루어진 로그와 숫자로 이루어진 로그 분리\n",
    "    letters, digits = [], []\n",
    "    for log in logs:\n",
    "        if log.split()[1].isdigit():\n",
    "            digits.append(log)\n",
    "        else:\n",
    "            letters.append(log)\n",
    "            \n",
    "    # 2개의 키를 람다 표현식으로 정렬\n",
    "    letters.sort(key=lambda x: (x.split()[1:], x.split()[0]))\n",
    "    \n",
    "    return letters + digits"
   ]
  },
  {
   "cell_type": "code",
   "execution_count": 42,
   "metadata": {},
   "outputs": [
    {
     "data": {
      "text/plain": [
       "['let1 art can',\n",
       " 'let3 art zero',\n",
       " 'let2 own kit dig',\n",
       " 'dig1 8 1 5 1',\n",
       " 'dig2 3 6']"
      ]
     },
     "execution_count": 42,
     "metadata": {},
     "output_type": "execute_result"
    }
   ],
   "source": [
    "reorderLogFiles(logs)"
   ]
  },
  {
   "cell_type": "markdown",
   "metadata": {},
   "source": [
    "- 람다 표현식보다 훨씬 더 간결하고 가독서이 높은 리스트 컴프리헨션을 주로 사용하지만, \n",
    "꼭 필요한 경우에는 람다 표현식을 사용\n",
    "\n",
    "- 그러나, 람다 표현식은 코드가 길어지고 map이나 filter와 섞어서 사용하면 가독성이 떨어지므로 주의!"
   ]
  },
  {
   "cell_type": "markdown",
   "metadata": {},
   "source": [
    "### 4. 가장 흔한 단어\n",
    "- 금지된 단어를 제외한 가장 흔하게 등장하는 단어를 출력하기 \n",
    "- 대소문자 구분을 하지않으며, 구두점(마침표, 쉼표 등) 또한 무시"
   ]
  },
  {
   "cell_type": "code",
   "execution_count": 116,
   "metadata": {},
   "outputs": [],
   "source": [
    "paragraph = \"Bob hit a ball, the hit BALL flew far after it was hit\"\n",
    "banned = ['hit']"
   ]
  },
  {
   "cell_type": "markdown",
   "metadata": {},
   "source": [
    "#### 시도"
   ]
  },
  {
   "cell_type": "code",
   "execution_count": 79,
   "metadata": {},
   "outputs": [],
   "source": [
    "import re"
   ]
  },
  {
   "cell_type": "code",
   "execution_count": 94,
   "metadata": {},
   "outputs": [
    {
     "data": {
      "text/plain": [
       "['Bob',\n",
       " 'hit',\n",
       " 'a',\n",
       " 'ball',\n",
       " 'the',\n",
       " 'hit',\n",
       " 'BALL',\n",
       " 'flew',\n",
       " 'far',\n",
       " 'after',\n",
       " 'it',\n",
       " 'was',\n",
       " 'hit']"
      ]
     },
     "execution_count": 94,
     "metadata": {},
     "output_type": "execute_result"
    }
   ],
   "source": [
    "paragraph = re.sub('[^a-zA-Z\\s]', '', paragraph)  # 정규표현식으로 문자 아닌거 제거\n",
    "words = paragraph.split()\n",
    "words"
   ]
  },
  {
   "cell_type": "code",
   "execution_count": 95,
   "metadata": {},
   "outputs": [],
   "source": [
    "# 단어 count 사전만들기\n",
    "\n",
    "dic = {}  \n",
    "\n",
    "for word in words:\n",
    "    \n",
    "    word = word.lower()\n",
    "    if word in banned:\n",
    "        next\n",
    "    else:\n",
    "        if word not in dic:\n",
    "            dic[word] = 1\n",
    "        else:\n",
    "            dic[word] += 1"
   ]
  },
  {
   "cell_type": "code",
   "execution_count": 96,
   "metadata": {},
   "outputs": [
    {
     "name": "stdout",
     "output_type": "stream",
     "text": [
      "ball\n"
     ]
    }
   ],
   "source": [
    "# max value 찾기\n",
    "\n",
    "max_value = max(dic.values())\n",
    "\n",
    "for k, v in dic.items():\n",
    "    if v == max_value:\n",
    "        print(k)"
   ]
  },
  {
   "cell_type": "markdown",
   "metadata": {},
   "source": [
    "#### 정답\n",
    "#### 1) 리스트 컴프리헨션, Counter 객체 사용"
   ]
  },
  {
   "cell_type": "code",
   "execution_count": 89,
   "metadata": {},
   "outputs": [],
   "source": [
    "import collections"
   ]
  },
  {
   "cell_type": "code",
   "execution_count": 119,
   "metadata": {},
   "outputs": [],
   "source": [
    "def mostCommonWord(paragraph: str, banned: list) -> str:\n",
    "    words = [word for word in re.sub(r'[^\\w]', ' ', paragraph).lower().split()\n",
    "            if word not in banned]\n",
    "    \n",
    "    counts = collections.Counter(words)\n",
    "    # 가장 흔하게 등장하는 단어의 첫 번째 인덱스(키) 리턴\n",
    "    return counts.most_common(1)[0][0]"
   ]
  },
  {
   "cell_type": "code",
   "execution_count": 120,
   "metadata": {},
   "outputs": [
    {
     "data": {
      "text/plain": [
       "'ball'"
      ]
     },
     "execution_count": 120,
     "metadata": {},
     "output_type": "execute_result"
    }
   ],
   "source": [
    "mostCommonWord(paragraph, banned)"
   ]
  },
  {
   "cell_type": "markdown",
   "metadata": {},
   "source": [
    "- 정규표현식 \\w는 단어 문자를 의미, \\s는 공백\n",
    "- defaultdict(int)를 사용해 int가 기본값으로 하는 딕셔너리만듦 (유무 확인 안해도 됨)"
   ]
  },
  {
   "cell_type": "code",
   "execution_count": 121,
   "metadata": {},
   "outputs": [
    {
     "data": {
      "text/plain": [
       "'ball'"
      ]
     },
     "execution_count": 121,
     "metadata": {},
     "output_type": "execute_result"
    }
   ],
   "source": [
    "# max함수로 argmax 사용하기\n",
    "\n",
    "words = [word for word in re.sub(r'[^\\w]', ' ', paragraph).lower().split()\n",
    "            if word not in banned]\n",
    "counts = collections.Counter(words)  # 위의 함수와 동일한 코드\n",
    "\n",
    "max(counts, key=counts.get)  # key를 설정해서 argmax를 간접적으로 추출가능"
   ]
  },
  {
   "cell_type": "code",
   "execution_count": 113,
   "metadata": {},
   "outputs": [
    {
     "data": {
      "text/plain": [
       "2"
      ]
     },
     "execution_count": 113,
     "metadata": {},
     "output_type": "execute_result"
    }
   ],
   "source": [
    "# dictionary의 get() 메서드\n",
    "\n",
    "dic.get('ball')"
   ]
  },
  {
   "cell_type": "markdown",
   "metadata": {},
   "source": [
    "### 5. 그룹 애너그램\n",
    "- 문자열 배열을 받아 애너그램 단위로 그룹핑하라 (출력 : [['ab', 'ba'], ['ae']])\n",
    "- 애너그램 : 문자를 재배열하여 다른 뜻을 가진 단어로 바꾸기"
   ]
  },
  {
   "cell_type": "code",
   "execution_count": 188,
   "metadata": {},
   "outputs": [],
   "source": [
    "words = ['eat', 'tea', 'tan', 'ate', 'nat', 'bat']"
   ]
  },
  {
   "cell_type": "markdown",
   "metadata": {},
   "source": [
    "#### 시도"
   ]
  },
  {
   "cell_type": "code",
   "execution_count": 154,
   "metadata": {},
   "outputs": [
    {
     "data": {
      "text/plain": [
       "True"
      ]
     },
     "execution_count": 154,
     "metadata": {},
     "output_type": "execute_result"
    }
   ],
   "source": [
    "{'a', 'b'} == {'b', 'a'}"
   ]
  },
  {
   "cell_type": "code",
   "execution_count": 182,
   "metadata": {},
   "outputs": [],
   "source": [
    "result = []\n",
    "\n",
    "\n",
    "for i in range(len(words)):\n",
    "    if words[i] == '':\n",
    "        continue\n",
    "    \n",
    "    tmp = [words[i]]\n",
    "    \n",
    "    for j in range(i+1, len(words)):  # i+1번째 단어부터 같은 문자들을 갖는지 확인\n",
    "        if set(list(words[i])) == set(list(words[j])):\n",
    "            tmp.append(words[j])\n",
    "            words[j] = ''\n",
    "    \n",
    "    result.append(tmp)"
   ]
  },
  {
   "cell_type": "code",
   "execution_count": 183,
   "metadata": {},
   "outputs": [
    {
     "data": {
      "text/plain": [
       "[['eat', 'tea', 'ate'], ['tan', 'nat'], ['bat']]"
      ]
     },
     "execution_count": 183,
     "metadata": {},
     "output_type": "execute_result"
    }
   ],
   "source": [
    "result"
   ]
  },
  {
   "cell_type": "code",
   "execution_count": 185,
   "metadata": {},
   "outputs": [
    {
     "data": {
      "text/plain": [
       "['eat', '', 'tan', '', '', 'bat']"
      ]
     },
     "execution_count": 185,
     "metadata": {},
     "output_type": "execute_result"
    }
   ],
   "source": [
    "words  # 입력을 바꿔버리는 안 좋은 방법같다"
   ]
  },
  {
   "cell_type": "markdown",
   "metadata": {},
   "source": [
    "#### 정답\n",
    "#### 1) 정렬하여 딕셔너리에 추가\n",
    "- 애너그램을 판단하는 가장 간단한 방법은 정렬하여 비교하기\n",
    "- 문자를 sort한 것을 키로 하는 딕셔너리 만들기"
   ]
  },
  {
   "cell_type": "code",
   "execution_count": 172,
   "metadata": {},
   "outputs": [],
   "source": [
    "anagrams = collections.defaultdict(list)\n",
    "anagrams[''.join(sorted(word))].append(word)"
   ]
  },
  {
   "cell_type": "code",
   "execution_count": 173,
   "metadata": {},
   "outputs": [
    {
     "data": {
      "text/plain": [
       "defaultdict(list,\n",
       "            {'atebateatnattantea': [['eat',\n",
       "               'tea',\n",
       "               'tan',\n",
       "               'ate',\n",
       "               'nat',\n",
       "               'bat']]})"
      ]
     },
     "execution_count": 173,
     "metadata": {},
     "output_type": "execute_result"
    }
   ],
   "source": [
    "anagrams"
   ]
  },
  {
   "cell_type": "code",
   "execution_count": 186,
   "metadata": {},
   "outputs": [],
   "source": [
    "def groupAnagrams(strs: list) -> list:\n",
    "    anagrams = collections.defaultdict(list)\n",
    "    \n",
    "    for word in strs:\n",
    "        # 정렬하여 딕셔너리에 추가\n",
    "        anagrams[''.join(sorted(word))].append(word)\n",
    "    \n",
    "    return list(anagrams.values())"
   ]
  },
  {
   "cell_type": "code",
   "execution_count": 189,
   "metadata": {},
   "outputs": [
    {
     "data": {
      "text/plain": [
       "[['eat', 'tea', 'ate'], ['tan', 'nat'], ['bat']]"
      ]
     },
     "execution_count": 189,
     "metadata": {},
     "output_type": "execute_result"
    }
   ],
   "source": [
    "groupAnagrams(words)"
   ]
  },
  {
   "cell_type": "markdown",
   "metadata": {},
   "source": [
    "#### cf) 여러가지 정렬 방법\n",
    "- __sorted 함수__"
   ]
  },
  {
   "cell_type": "code",
   "execution_count": 190,
   "metadata": {},
   "outputs": [
    {
     "data": {
      "text/plain": [
       "[1, 2, 5, 7, 9]"
      ]
     },
     "execution_count": 190,
     "metadata": {},
     "output_type": "execute_result"
    }
   ],
   "source": [
    "a = [2, 5, 1, 9, 7]\n",
    "sorted(a)"
   ]
  },
  {
   "cell_type": "code",
   "execution_count": 193,
   "metadata": {},
   "outputs": [
    {
     "name": "stdout",
     "output_type": "stream",
     "text": [
      "['a', 'b', 'f', 'z']\n",
      "abfz\n"
     ]
    }
   ],
   "source": [
    "b = 'zbaf'\n",
    "\n",
    "print(sorted(b))\n",
    "print(''.join(sorted(b)))"
   ]
  },
  {
   "cell_type": "code",
   "execution_count": null,
   "metadata": {},
   "outputs": [],
   "source": [
    "c = ['ccc', 'aaaa', 'd', 'bb']\n",
    "sorted(c, key=len)  # key이용해서 길이를 기준으로 정렬하기"
   ]
  },
  {
   "attachments": {},
   "cell_type": "markdown",
   "metadata": {},
   "source": [
    "- __.sort() 메서드로 제자리 정렬(In-place Sort)하기__  \n",
    "    : 입력을 출력으로 덮어 쓰기 때문에 별도의 추가 공간 필요 X"
   ]
  },
  {
   "cell_type": "code",
   "execution_count": 194,
   "metadata": {},
   "outputs": [
    {
     "data": {
      "text/plain": [
       "[1, 2, 5, 7, 9]"
      ]
     },
     "execution_count": 194,
     "metadata": {},
     "output_type": "execute_result"
    }
   ],
   "source": [
    "a = [2, 5, 1, 9, 7]\n",
    "a.sort()  # 제자리 정렬 (in-place-sort)\n",
    "a\n",
    "\n",
    "# b = a.sort()    -- 잘못된 코드 sort()함수는 None을 리턴"
   ]
  },
  {
   "cell_type": "markdown",
   "metadata": {},
   "source": [
    "- __함수를 이용하여 정렬하기__"
   ]
  },
  {
   "cell_type": "code",
   "execution_count": 196,
   "metadata": {},
   "outputs": [
    {
     "name": "stdout",
     "output_type": "stream",
     "text": [
      "['abc', 'cfc', 'cde']\n"
     ]
    }
   ],
   "source": [
    "# 함수를 이용해 키를 정의하는 방법 \n",
    "# 첫 문자열과 마지막 문자열 순으로 정렬하도록 지정\n",
    "\n",
    "a = ['cde', 'cfc', 'abc']\n",
    "\n",
    "def fn(s):\n",
    "    return s[0], s[-1]\n",
    "\n",
    "print(sorted(a, key=fn))"
   ]
  },
  {
   "cell_type": "code",
   "execution_count": 197,
   "metadata": {},
   "outputs": [
    {
     "data": {
      "text/plain": [
       "['abc', 'cfc', 'cde']"
      ]
     },
     "execution_count": 197,
     "metadata": {},
     "output_type": "execute_result"
    }
   ],
   "source": [
    "# lambda 이용\n",
    "\n",
    "sorted(a, key=lambda s: (s[0], s[-1]))"
   ]
  },
  {
   "cell_type": "markdown",
   "metadata": {},
   "source": [
    "- __*정렬 알고리즘과 팀소트*__  \n",
    "    ○ 정렬 알고리즘 중에서 가장 인기 있는 알고리즘 : __병합 정렬(Merge Sort)__  \n",
    "    ○ 퀵 정렬이 더 빠르지만 데이터에 따라 편차가 큰 반면, 병합 정렬은 일정하게 $O(nlogn)$의 안정적인 성능을 보이고, 안정 정렬(Stable Sort)라는 점에서 많이 선호됨\n",
    "    \n",
    "    \n",
    "- 그렇다면 sorted()는 어떤 알고리즘? : __팀소트(Timesort)__  \n",
    "    ○ 실제 데이터는 대부분 이미 정렬되어 있을 것이라 가정하고 실제 데이터에서 고성능을 낼 수 있도록 설계한 알고리즘  \n",
    "    ○ 단일 알고리즘이 아니라 __삽입 정렬과 병합 정렬을 휴리스틱하게 적절히 조합__해 사용하는 정렬 알고리즘  \n",
    "    ○ 대부분의 경우, 정렬이 필요할 때 __파이썬의 정렬함수를 사용하는 것이 가장 빠름__  \n",
    "    ○ 자바나 스위프트 등의 개발 언어나 안드로이드, 크롬 등의 플랫폼에까지 다양하게 영향줌\n",
    "    \n",
    "    \n",
    "- 정렬 알고리즘별 시간복잡도\n",
    "    \n",
    "    <img src='img/6_3.png' width='400'>"
   ]
  },
  {
   "cell_type": "markdown",
   "metadata": {},
   "source": [
    "### 6. 가장 긴 팰린드롬 부분 문자열"
   ]
  },
  {
   "cell_type": "code",
   "execution_count": 244,
   "metadata": {},
   "outputs": [],
   "source": [
    "text = 'babad'   # 출력이 'bab'"
   ]
  },
  {
   "cell_type": "markdown",
   "metadata": {},
   "source": [
    "#### 시도"
   ]
  },
  {
   "cell_type": "code",
   "execution_count": 232,
   "metadata": {},
   "outputs": [],
   "source": [
    "def longPalindrome(text : str) -> bool:\n",
    "    \n",
    "    pal = []\n",
    "    for i in range(len(text)-1):\n",
    "        for j in range(i+1, len(text)):\n",
    "            s = text[i:j]\n",
    "\n",
    "            for i in range(len(s)):\n",
    "                if s == s[::-1]:\n",
    "                    pal.append(s)\n",
    "    \n",
    "    return max(pal, key=len)\n",
    "#     return pal"
   ]
  },
  {
   "cell_type": "code",
   "execution_count": 230,
   "metadata": {},
   "outputs": [
    {
     "data": {
      "text/plain": [
       "'aba'"
      ]
     },
     "execution_count": 230,
     "metadata": {},
     "output_type": "execute_result"
    }
   ],
   "source": [
    "longPalindrome(text)"
   ]
  },
  {
   "cell_type": "code",
   "execution_count": 233,
   "metadata": {},
   "outputs": [
    {
     "data": {
      "text/plain": [
       "['b', 'aba', 'aba', 'aba', 'a', 'bab', 'bab', 'bab', 'b', 'a']"
      ]
     },
     "execution_count": 233,
     "metadata": {},
     "output_type": "execute_result"
    }
   ],
   "source": [
    "longPalindrome(text)  # 내가 원하는 대로 안된 듯 하다"
   ]
  },
  {
   "cell_type": "markdown",
   "metadata": {},
   "source": [
    "#### 정답\n",
    "#### 1) 중앙을 중심으로 확장하는 풀이\n",
    "- 여러 개의 입력 문자열이 있을 때, 공통된 가장 긴 부분 문자열을 찾는 문제는 다이나믹 프로그래밍(23장)으로 풀 수 있는 전형적인 문제! But, 직관적으로 이해가 어렵고, 속도가 늦음\n",
    "\n",
    "\n",
    "- 따라서, 여기서는 좀 더 직관적이면서도 성능이 좋은 투 포인터가 중앙을 중심으로 확장하는 형태로 풀이"
   ]
  },
  {
   "cell_type": "code",
   "execution_count": 245,
   "metadata": {},
   "outputs": [],
   "source": [
    "def longestPalindrome(s: str) -> str:\n",
    "    \n",
    "    # 팰린드롬 판별 및 투 포인터 확장\n",
    "    def expand(left: int, right: int) -> str:\n",
    "        # 같을 때까지 계속 확장\n",
    "        while left >= 0 and right < len(s) and s[left] == s[right]:\n",
    "            left -= 1\n",
    "            right +=1\n",
    "        return s[left + 1:right]  # while문의 마지막 루프에서 조건은 False이지만,\n",
    "                             # 그 전 루프에서 left에 1 빼주고, right에 1 더해줘서\n",
    "                             # left + 1 해줘야!\n",
    "            \n",
    "    # 해당 사항이 없을 때 빠르게 리턴 (ex. 문자열이 'bb'인 경우)\n",
    "    if len(s) < 2 or s == s[::-1]:\n",
    "        return s\n",
    "    \n",
    "    result = ''\n",
    "    # 슬라이딩 윈도우 우측으로 이동\n",
    "    for i in range(len(s) - 1):\n",
    "        result = max(result, expand(i, i+1),   # 2칸, 3칸으로 구성된 포인터로 \n",
    "                     expand(i, i+2), key=len)  # 시작해서 계속 확장\n",
    "    \n",
    "    return result"
   ]
  },
  {
   "cell_type": "code",
   "execution_count": 246,
   "metadata": {},
   "outputs": [
    {
     "data": {
      "text/plain": [
       "'bab'"
      ]
     },
     "execution_count": 246,
     "metadata": {},
     "output_type": "execute_result"
    }
   ],
   "source": [
    "longestPalindrome(text)"
   ]
  },
  {
   "cell_type": "markdown",
   "metadata": {},
   "source": [
    "#### cf) 유니코드와 UTF-8\n",
    "- 초기에 문자를 표현하던 대표적인 방식은 __ASCII__ 인코딩 방식 (But, 1바이트 -> 한글이나 한자는 표현 X)\n",
    "- __유니코드__의 등장 : 2~4 바이트의 공간에 여유 있게 문자를 할당하고자 (But, 1바이트로 표현가능 한 것도 이를 그대로 사용 -> 메모리 낭비가 심함)\n",
    "- 유니코드를 가변 길이 문자 인코딩 방식으로 효율적으로 인코딩하는 대표적인 방식 : __UTF-8__\n",
    "\n",
    "\n",
    "- UTF-8의 내부구조 (UTF-8 바이트 순서의 이진 포맷과 유니코드 문자의 UTF-6 인코딩)\n",
    "<img src='img/6_4.png' width='400'>\n",
    "<img src='img/6_5.png' width='500'>\n",
    "\n",
    "\n",
    "- 파이썬 3에서는 문자열이 모두 유니코드 기반으로 전환되었지만, UTF-8 인코딩은 X (why? 각 문자마다 바이트 길이가 다르면 인덱스를 통해 개별 문자에 접급하기 어려우므로)  \n",
    "\n",
    "=> __문자열 단위로 다른 고정 길이 인코딩 방식 적용__ (바이트가 가장 큰 문자를 기준으로 길이 고정)"
   ]
  },
  {
   "cell_type": "code",
   "execution_count": null,
   "metadata": {},
   "outputs": [],
   "source": []
  }
 ],
 "metadata": {
  "kernelspec": {
   "display_name": "Python 3",
   "language": "python",
   "name": "python3"
  },
  "language_info": {
   "codemirror_mode": {
    "name": "ipython",
    "version": 3
   },
   "file_extension": ".py",
   "mimetype": "text/x-python",
   "name": "python",
   "nbconvert_exporter": "python",
   "pygments_lexer": "ipython3",
   "version": "3.7.7"
  }
 },
 "nbformat": 4,
 "nbformat_minor": 4
}
