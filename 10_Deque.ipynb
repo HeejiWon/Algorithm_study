{
 "cells": [
  {
   "cell_type": "markdown",
   "metadata": {},
   "source": [
    "## 데크(Deque)\n",
    "- 데크(Deque)는 더블 엔디드 큐(Double-Ended Queue)의 줄임말로, 글자 그대로 양쪽 끝을 모두 추출할 수 있는, 큐를 일반화한 형태의 추상 자료형(ADT)\n",
    "- 배열이나 연결 리스트를 이용해 구현 가능하지만, 특별히 __이중 연결 리스트__로 구현하는 편이 가장 잘 어울림  \n",
    "<img src='img/10_1.png' width='300'>    \n",
    "\n",
    "\n",
    "- 새로운 아이템이 추가될 때마다 앞쪽으로 또는 뒤쪽으로 연결시켜주고, 포인터를 이동하면 됨"
   ]
  },
  {
   "cell_type": "markdown",
   "metadata": {},
   "source": [
    "#### collections 모듈\n",
    "- 이중 연결 리스트로 구현되어 있음"
   ]
  },
  {
   "cell_type": "code",
   "execution_count": 1,
   "metadata": {},
   "outputs": [
    {
     "data": {
      "text/plain": [
       "collections.deque"
      ]
     },
     "execution_count": 1,
     "metadata": {},
     "output_type": "execute_result"
    }
   ],
   "source": [
    "import collections\n",
    "d = collections.deque()\n",
    "type(d)"
   ]
  },
  {
   "cell_type": "markdown",
   "metadata": {},
   "source": [
    "### 26. 원형 데크 디자인\n",
    "<img src='img/10_2.png' width='450'>"
   ]
  },
  {
   "cell_type": "markdown",
   "metadata": {},
   "source": [
    "#### 시도"
   ]
  },
  {
   "cell_type": "code",
   "execution_count": 3,
   "metadata": {},
   "outputs": [],
   "source": [
    "class ListNode:\n",
    "    def __init__(self, x):\n",
    "        self.val = x\n",
    "        self.right = None\n",
    "        self.left = None"
   ]
  },
  {
   "cell_type": "code",
   "execution_count": 5,
   "metadata": {},
   "outputs": [],
   "source": [
    "class MyCircularDeque:\n",
    "    def __init__(self, k):\n",
    "        self.head, self.tail = ListNode(None), ListNode(None)\n",
    "        self.k, self.len = k, 0   \n",
    "        self.head.right, self.tail.left = self.tail, self.head\n",
    "        # len은 현재 길이 정보를 담는 변수\n",
    "        # head와 tail은 None이고, 중간에 값들을 넣음!\n",
    "        \n",
    "    # 앞쪽에 노드를 추가하는 연산 (None(head)과 첫번째 원소 중간에 값을 넣어줌)\n",
    "    def insertFront(self, value: int) -> bool:\n",
    "        if self.len == self.k:\n",
    "            return False\n",
    "        self.len += 1\n",
    "        self._add(self.head, ListNode(value))\n",
    "        return True\n",
    "\n",
    "    # 이중 연결 리스트에 신규 노드 삽입\n",
    "    def _add(self, node: ListNode, new: ListNode):\n",
    "        n = node.right\n",
    "        node.right = new\n",
    "        new.left, new.right = node, n\n",
    "        n.left = new\n",
    "\n",
    "    # 뒤쪽에 노드를 추가하는 연산 (마지막 원소와 None(tail) 중간에 값을 넣어줌)\n",
    "    def insertLast(self, value: int) -> bool:\n",
    "        if self.len == self.k:\n",
    "            return False\n",
    "        self.lef += 1\n",
    "        self._add(self.tail.left, ListNode(value))\n",
    "        return True\n",
    "    \n",
    "    # 앞쪽 삭제 (head의 노드를 처리)\n",
    "    def deleteFront(self) -> bool:\n",
    "        if self.len == 0:\n",
    "            return False\n",
    "        self.len -= 1\n",
    "        self._del(self.head)\n",
    "        return True\n",
    "    \n",
    "    def _del(self, node: ListNode):\n",
    "        n = node.right.right\n",
    "        node.right = n\n",
    "        n.left = node\n",
    "    \n",
    "    # 뒤쪽 삭제 \n",
    "    def deleteLast(self) -> bool:\n",
    "        if self.len == 0:\n",
    "            return False\n",
    "        self.len -= 1\n",
    "        self._del(self.tail.left.left)\n",
    "        return True\n",
    "    \n",
    "    def getFront(self) -> int:\n",
    "        return self.head.right.val if self.len else -1\n",
    "    \n",
    "    def getRear(self) -> int:\n",
    "        return self.tail.left.val if self.len else -1\n",
    "    \n",
    "    def isEmpty(self) -> bool:\n",
    "        return self.len == 0\n",
    "    \n",
    "    def isFull(self) -> bool:\n",
    "        return self.len == self.k"
   ]
  },
  {
   "cell_type": "markdown",
   "metadata": {},
   "source": [
    "<img src='img/10_3.png' width='300'>"
   ]
  },
  {
   "cell_type": "markdown",
   "metadata": {},
   "source": [
    "- 앞서 9장에서 원형 큐를 배열로 구현해봤고, 이번에는 원형 데크를 연결 리스트로 구현함. 하지만, 원형 데크를 이중 연결 리스트로 구현하면 원형의 이점을 살릴 수 없다  \n",
    "=> 배열로 풀이해야!\n",
    "\n",
    "- 원형으로 구현하는 이유는 뒤쪽으로 요소를 채우다가 공간이 다 차게 되면 앞쪽의 빈 공간을 호라용하려는 의도인데, 연결 리스트는 애초에 빈 공간이라는 개념이 존재하지 않기 때문에 원형은 아무런 의미가 없다"
   ]
  },
  {
   "cell_type": "markdown",
   "metadata": {},
   "source": [
    "## 우선순위 큐\n",
    "- 큐 또는 스택과 같은 추상 자료형과 유사하지만 추가로 __각 요소의 '우선순위'와 연관__\n",
    "- 삽입된 순서가 아니라 어떠한 특정 조건에 따라 우선순위가 가장 높은 요소부터 추출됨\n",
    "- ex) 최댓값 추출 [1, 4, 5, 3, 2] -> 5, 4, 3, 2, 1 순으로 추출됨\n",
    "\n",
    "\n",
    "- 정렬 알고리즘을 사용하면 우선순위 큐를 만들 수 있다\n",
    "- 이외에도 최단 경로를 탐색하는 다익스트라 알고리즘 등 우선순위 큐는 다양한 분양에 활용되며, 힙(Heap) 자료구조와도 관련이 깊다. (각각 13장과 15장에서 다룸)"
   ]
  },
  {
   "cell_type": "markdown",
   "metadata": {},
   "source": [
    "### 27. k개 정렬 리스트 병합\n",
    "- k개의 정렬된 리스트를 1개의 정렬된 리스트로 병합하기  \n",
    "<img src='img/10_4.png' width='450'>"
   ]
  },
  {
   "cell_type": "markdown",
   "metadata": {},
   "source": [
    "#### 시도"
   ]
  },
  {
   "cell_type": "code",
   "execution_count": 71,
   "metadata": {},
   "outputs": [],
   "source": [
    "class ListNode:\n",
    "    def __init__(self, val, next=None):\n",
    "        self.val = val\n",
    "        self.next = next\n",
    "        \n",
    "    def p(self):\n",
    "        while self:\n",
    "            print(self.val)\n",
    "            self = self.next"
   ]
  },
  {
   "cell_type": "code",
   "execution_count": 101,
   "metadata": {},
   "outputs": [],
   "source": [
    "ex = [ListNode(1, ListNode(4, ListNode(5))), \n",
    "     ListNode(1, ListNode(3, ListNode(4))),\n",
    "     ListNode(2, ListNode(6))]"
   ]
  },
  {
   "cell_type": "code",
   "execution_count": 102,
   "metadata": {},
   "outputs": [],
   "source": [
    "root = result =  ListNode(None)\n",
    "\n",
    "while sum(map(lambda x: x!=None , ex)) > 0:\n",
    "    m = 1000\n",
    "    ind = None\n",
    "    \n",
    "    for i in range(k):\n",
    "        if ex[i] and ex[i].val < m:\n",
    "            m = ex[i].val\n",
    "            ind = i\n",
    "            \n",
    "    result.next = ListNode(ex[ind].val)\n",
    "    ex[ind] = ex[ind].next\n",
    "    result = result.next"
   ]
  },
  {
   "cell_type": "code",
   "execution_count": 103,
   "metadata": {},
   "outputs": [
    {
     "name": "stdout",
     "output_type": "stream",
     "text": [
      "None\n",
      "1\n",
      "1\n",
      "2\n",
      "3\n",
      "4\n",
      "4\n",
      "5\n",
      "6\n"
     ]
    }
   ],
   "source": [
    "root.p()"
   ]
  },
  {
   "cell_type": "markdown",
   "metadata": {},
   "source": [
    "#### 정답\n",
    "#### 1) 우선순위 큐를 이용한 리스트 병합\n",
    "- heapq 모듈은 최소 힙(Min Heap)을 지원하며, val이 작은 순서대로 pop() 할 수 있다. "
   ]
  },
  {
   "cell_type": "code",
   "execution_count": 100,
   "metadata": {},
   "outputs": [],
   "source": [
    "import heapq"
   ]
  },
  {
   "cell_type": "code",
   "execution_count": null,
   "metadata": {},
   "outputs": [],
   "source": [
    "def mergeKLists(lists: list) -> ListNode:\n",
    "    root = result = ListNode(None)\n",
    "    heap = []\n",
    "    \n",
    "    # 각 연결 리스트의 루트를 힙에 저장\n",
    "    for i in range(len(lists)):\n",
    "        if lists[i]:\n",
    "            heapq.heappush(heap, (lists[i].val, i, lists[i]))\n",
    "            \n",
    "    # 힙 추출 이후 다음 노드는 다시 저장\n",
    "    while heap:\n",
    "        node = heapq.heappop(heap)  \n",
    "        idx = node[1]\n",
    "        result.next = node[2]\n",
    "        \n",
    "        result = result.next\n",
    "        if result.next:\n",
    "            heapq.heappush(heap, (result.next.val, idx, result.next))\n",
    "                # 첫 번째와 두 번째 루트가 각각 1로 동일\n",
    "                # 이렇게 동일한 값은 heappush에서 에러를 발생이키므로\n",
    "                # 중복된 값을 구분할 수 있는 추가 인자가 필요\n",
    "        \n",
    "    return root.next"
   ]
  },
  {
   "cell_type": "markdown",
   "metadata": {},
   "source": [
    "<img src='img/10_5.png' width='500'>"
   ]
  },
  {
   "cell_type": "markdown",
   "metadata": {},
   "source": [
    "#### 함수 안의 코드 직접 확인해보기"
   ]
  },
  {
   "cell_type": "code",
   "execution_count": 104,
   "metadata": {},
   "outputs": [],
   "source": [
    "lists = [ListNode(1, ListNode(4, ListNode(5))), \n",
    "     ListNode(1, ListNode(3, ListNode(4))),\n",
    "     ListNode(2, ListNode(6))]"
   ]
  },
  {
   "cell_type": "code",
   "execution_count": 106,
   "metadata": {},
   "outputs": [],
   "source": [
    "# root = result = ListNode(None)\n",
    "heap = []\n",
    "\n",
    "# 각 연결 리스트의 루트를 힙에 저장\n",
    "for i in range(len(lists)):\n",
    "    if lists[i]:\n",
    "        heapq.heappush(heap, (lists[i].val, i, lists[i]))"
   ]
  },
  {
   "cell_type": "code",
   "execution_count": 107,
   "metadata": {},
   "outputs": [
    {
     "data": {
      "text/plain": [
       "[(1, 0, <__main__.ListNode at 0x21a39e8e908>),\n",
       " (1, 1, <__main__.ListNode at 0x21a39e8e6c8>),\n",
       " (2, 2, <__main__.ListNode at 0x21a39e8e8c8>)]"
      ]
     },
     "execution_count": 107,
     "metadata": {},
     "output_type": "execute_result"
    }
   ],
   "source": [
    "heap"
   ]
  },
  {
   "cell_type": "code",
   "execution_count": 108,
   "metadata": {},
   "outputs": [
    {
     "data": {
      "text/plain": [
       "(1, 0, <__main__.ListNode at 0x21a39e8e908>)"
      ]
     },
     "execution_count": 108,
     "metadata": {},
     "output_type": "execute_result"
    }
   ],
   "source": [
    "node = heapq.heappop(heap)\n",
    "node"
   ]
  },
  {
   "cell_type": "code",
   "execution_count": 109,
   "metadata": {},
   "outputs": [],
   "source": [
    "idx = node[1]\n",
    "result.next = node[2]"
   ]
  },
  {
   "cell_type": "code",
   "execution_count": 110,
   "metadata": {},
   "outputs": [],
   "source": [
    "result = result.next"
   ]
  },
  {
   "cell_type": "code",
   "execution_count": 111,
   "metadata": {},
   "outputs": [
    {
     "data": {
      "text/plain": [
       "<__main__.ListNode at 0x21a39e8ec08>"
      ]
     },
     "execution_count": 111,
     "metadata": {},
     "output_type": "execute_result"
    }
   ],
   "source": [
    "result.next"
   ]
  },
  {
   "cell_type": "code",
   "execution_count": 112,
   "metadata": {},
   "outputs": [],
   "source": [
    "heapq.heappush(heap, (result.next.val, idx, result.next))"
   ]
  },
  {
   "cell_type": "code",
   "execution_count": 113,
   "metadata": {},
   "outputs": [
    {
     "data": {
      "text/plain": [
       "[(1, 1, <__main__.ListNode at 0x21a39e8e6c8>),\n",
       " (2, 2, <__main__.ListNode at 0x21a39e8e8c8>),\n",
       " (4, 0, <__main__.ListNode at 0x21a39e8ec08>)]"
      ]
     },
     "execution_count": 113,
     "metadata": {},
     "output_type": "execute_result"
    }
   ],
   "source": [
    "heap"
   ]
  },
  {
   "cell_type": "markdown",
   "metadata": {},
   "source": [
    "#### cf) PriorityQueue vs heapq\n",
    "- 우선 순위 큐는 queue 모듈의 PriorityQueue를 사용할 수 있다.\n",
    "- PriorityQueue와 달리, heapq는 스레드 세이프를 보장하지 않지만, 파이썬은 GIL 특성상 멀티 스레딩이 거의 의미 없기 때문에 큰 의미가 없다\n",
    "- 멀티 스레드를 지원한다는 얘기는 락킹(Locking)을 제공한다는 의미이므로 락킹 오버해드가 발생해 성능에 영향을 끼침\n",
    "=> 우선순위 큐는 대부분 heapq로 구현"
   ]
  },
  {
   "cell_type": "markdown",
   "metadata": {},
   "source": [
    "#### cf) 파이썬 전역 인터프리터 락(GIL)\n",
    "- GIL은 전역 인터프리터 락(Global Interpreter Lock)의 약어로, 하나의 스레드가 자원을 독점하는 형태로 실행\n",
    "- 지금처럼 멀티 코어가 당한한 세상에서, 이러한 제약은 매우 치명적이다  \n",
    "<img src='img/10_6.png' width='350'>"
   ]
  }
 ],
 "metadata": {
  "kernelspec": {
   "display_name": "Python 3",
   "language": "python",
   "name": "python3"
  },
  "language_info": {
   "codemirror_mode": {
    "name": "ipython",
    "version": 3
   },
   "file_extension": ".py",
   "mimetype": "text/x-python",
   "name": "python",
   "nbconvert_exporter": "python",
   "pygments_lexer": "ipython3",
   "version": "3.7.7"
  }
 },
 "nbformat": 4,
 "nbformat_minor": 4
}
