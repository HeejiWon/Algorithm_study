{
 "cells": [
  {
   "cell_type": "markdown",
   "metadata": {},
   "source": [
    "## 스택\n",
    "- 후입선출(LIFO, Last-In-First-Out)의 구조로, 접시를 쌓는 것처럼 나중에 쌓은 것을 먼저 꺼내야 한다\n",
    "- push()와 pop()을 이용하여 요소를 추가하고 제거한다  \n",
    "<img src='img/9_1.png' width='250'>    \n",
    "\n",
    "\n",
    "\n",
    "- 메모리 상에는 순서와 관계없이 무작위로 배치되고 포인터로 가리키게 됨\n",
    "- 5->4->3->2->1"
   ]
  },
  {
   "cell_type": "markdown",
   "metadata": {},
   "source": [
    "#### 연결리스트를 이용한 스택 ADT 구현"
   ]
  },
  {
   "cell_type": "code",
   "execution_count": 1,
   "metadata": {},
   "outputs": [],
   "source": [
    "class Node:   \n",
    "    def __init__(self, item, next):\n",
    "        self.item = item\n",
    "        self.next = next"
   ]
  },
  {
   "cell_type": "code",
   "execution_count": 2,
   "metadata": {},
   "outputs": [],
   "source": [
    "class Stack:\n",
    "    def __init__(self):\n",
    "        self.last = None\n",
    "        \n",
    "    def push(self, item):\n",
    "        self.last = Node(item, self.last)\n",
    "        \n",
    "    def pop(self):\n",
    "        item = self.last.item\n",
    "        self.last = self.last.next\n",
    "        return item"
   ]
  },
  {
   "cell_type": "code",
   "execution_count": 3,
   "metadata": {},
   "outputs": [],
   "source": [
    "stack = Stack()\n",
    "stack.push(1)\n",
    "stack.push(2)\n",
    "stack.push(3)\n",
    "stack.push(4)\n",
    "stack.push(5)"
   ]
  },
  {
   "cell_type": "code",
   "execution_count": 4,
   "metadata": {},
   "outputs": [
    {
     "name": "stdout",
     "output_type": "stream",
     "text": [
      "5\n",
      "4\n",
      "3\n",
      "2\n",
      "1\n"
     ]
    }
   ],
   "source": [
    "for _ in range(5):\n",
    "    print(stack.pop())"
   ]
  },
  {
   "cell_type": "markdown",
   "metadata": {},
   "source": [
    "### 20. 유효한 괄호"
   ]
  },
  {
   "cell_type": "code",
   "execution_count": 31,
   "metadata": {},
   "outputs": [],
   "source": [
    "s = '()[]{}'"
   ]
  },
  {
   "cell_type": "markdown",
   "metadata": {},
   "source": [
    "#### 시도"
   ]
  },
  {
   "cell_type": "code",
   "execution_count": 5,
   "metadata": {},
   "outputs": [],
   "source": [
    "bracket = ['(', ')', '{', '}', '[', ']']"
   ]
  },
  {
   "cell_type": "code",
   "execution_count": 21,
   "metadata": {},
   "outputs": [],
   "source": [
    "def valid_bracket(string):\n",
    "    res = True\n",
    "    for i in range(len(string)):\n",
    "        ind = bracket.index(s[i])\n",
    "        \n",
    "        if ind % 2 == 1:\n",
    "            want_ind = ind + 1\n",
    "            if bracket[want_ind] in s[i:]:\n",
    "                \n",
    "# 여는 괄호가 있으면 닫는 괄호가 있는지 확인하면 되지 않을까..?"
   ]
  },
  {
   "cell_type": "markdown",
   "metadata": {},
   "source": [
    "#### 정답\n",
    "- (, \\[, {나오면, 스택에 넣어놓고\n",
    "- ), ], \\}나오면, 스택 pop해서 같은 종류인지 확인"
   ]
  },
  {
   "cell_type": "code",
   "execution_count": 35,
   "metadata": {},
   "outputs": [],
   "source": [
    "def isValid(self, s: str) -> bool:\n",
    "    stack = []\n",
    "    table = {\n",
    "        ')': '(',\n",
    "        '}': '{',\n",
    "        ']': '['\n",
    "    }\n",
    "    \n",
    "    # 스택 이용 예외 처리 및 일치 여부 판별\n",
    "    for char in s:\n",
    "        if char not in table:  # 키가 있는지 확인 (닫는 괄호가 있는지)\n",
    "            stack.append(char)\n",
    "        elif not stack or table[char] != stack.pop(): \n",
    "            return False\n",
    "        \n",
    "    return len(stack) == 0"
   ]
  },
  {
   "cell_type": "markdown",
   "metadata": {},
   "source": [
    "### 21. 중복 문자 제거\n",
    "- 중복 문자를 제외하고 사전식 순서로 나열하기"
   ]
  },
  {
   "cell_type": "code",
   "execution_count": 139,
   "metadata": {},
   "outputs": [],
   "source": [
    "s = 'cbacdcbc'  # 'acdb'"
   ]
  },
  {
   "cell_type": "markdown",
   "metadata": {},
   "source": [
    "#### 시도"
   ]
  },
  {
   "cell_type": "code",
   "execution_count": 102,
   "metadata": {},
   "outputs": [],
   "source": [
    "def eliminate(s: str) -> str:\n",
    "    stack = []\n",
    "    \n",
    "    for i in range(len(s)):\n",
    "        \n",
    "        if s[i] not in stack:\n",
    "            stack.append(s[i])\n",
    "            \n",
    "        elif s[i] in stack:\n",
    "            ind = stack.index(s[i])\n",
    "            tmp = [stack[i] for i in range(len(stack)) if i!=ind] + [s[i]]\n",
    "            \n",
    "            if stack > tmp:\n",
    "                stack = tmp\n",
    "        \n",
    "    return(stack)\n",
    "\n",
    "# 스택에 넣을때 만약 같은 숫자가 있으면, 스택에 넣는 거랑 안 넣는 거랑 비교해서\n",
    "# 둘 중에 더 좋은 것으로 해보자\n",
    "\n",
    "# But, 하나씩만 넣어서는 bcabc -> abc 출력 X"
   ]
  },
  {
   "cell_type": "markdown",
   "metadata": {},
   "source": [
    "#### 정답\n",
    "#### 1) 재귀를 이용한 분리"
   ]
  },
  {
   "cell_type": "code",
   "execution_count": 127,
   "metadata": {},
   "outputs": [],
   "source": [
    "def removeDuplicateLetters(s: str) -> str:\n",
    "    \n",
    "    # 집합으로 정렬 (abcd)\n",
    "    for char in sorted(set(s)):\n",
    "        suffix = s[s.index(char):]\n",
    "        \n",
    "        # 전체 집합과 접미사 집합이 일치할 때 분리 진행\n",
    "        if set(s) == set(suffix):\n",
    "            return char + removeDuplicateLetters(suffix.replace(char, ''))\n",
    "    \n",
    "    return ''"
   ]
  },
  {
   "cell_type": "code",
   "execution_count": 130,
   "metadata": {},
   "outputs": [
    {
     "data": {
      "text/plain": [
       "'acdb'"
      ]
     },
     "execution_count": 130,
     "metadata": {},
     "output_type": "execute_result"
    }
   ],
   "source": [
    "removeDuplicateLetters(s)"
   ]
  },
  {
   "cell_type": "markdown",
   "metadata": {},
   "source": [
    "<img src='img/9_2.png' width='400'>"
   ]
  },
  {
   "cell_type": "markdown",
   "metadata": {},
   "source": [
    "#### 2) 스택을 이용한 문자 제거\n",
    "- 뒤에 올 같은 문자가 있으면, 뒤에 더 빠른 알파벳이 올 경우, 이 문자 없애기\n",
    "- 앞에 나왔으면 넣지 말기"
   ]
  },
  {
   "cell_type": "code",
   "execution_count": 132,
   "metadata": {},
   "outputs": [],
   "source": [
    "import collections"
   ]
  },
  {
   "cell_type": "code",
   "execution_count": 142,
   "metadata": {},
   "outputs": [],
   "source": [
    "def removeDuplicateLetters(s: str) -> str:\n",
    "    counter, seen, stack = collections.Counter(s), set(), []\n",
    "    \n",
    "    for char in s:\n",
    "        counter[char] -= 1\n",
    "        if char in seen:\n",
    "            continue\n",
    "        \n",
    "        # 뒤에 붙일 문자가 남아 있다면 스택에서 제거\n",
    "        while stack and char < stack[-1] and counter[stack[-1]] > 0:\n",
    "            seen.remove(stack.pop())\n",
    "        stack.append(char)\n",
    "        seen.add(char)\n",
    "        \n",
    "    return ''.join(stack)"
   ]
  },
  {
   "cell_type": "code",
   "execution_count": 143,
   "metadata": {},
   "outputs": [
    {
     "data": {
      "text/plain": [
       "'acdb'"
      ]
     },
     "execution_count": 143,
     "metadata": {},
     "output_type": "execute_result"
    }
   ],
   "source": [
    "removeDuplicateLetters(s)"
   ]
  },
  {
   "cell_type": "markdown",
   "metadata": {},
   "source": [
    "### 22. 일일 온도\n",
    "- 매일의 화씨 온도 리스트 T를 입력받아서, 더 따뜻한 날씨를 위해서는 며칠을 더 기다려야 하는지"
   ]
  },
  {
   "cell_type": "code",
   "execution_count": 144,
   "metadata": {},
   "outputs": [],
   "source": [
    "T = [73, 74, 75, 71, 69, 72, 76, 73]  # 1, 1, 4, 2, 1, 1, 0, 0"
   ]
  },
  {
   "cell_type": "markdown",
   "metadata": {},
   "source": [
    "#### 시도"
   ]
  },
  {
   "cell_type": "code",
   "execution_count": null,
   "metadata": {},
   "outputs": [],
   "source": [
    "# 이중 for문 밖에 생각이 안남"
   ]
  },
  {
   "cell_type": "markdown",
   "metadata": {},
   "source": [
    "#### 정답\n",
    "#### 1) 스택 값 비교"
   ]
  },
  {
   "cell_type": "markdown",
   "metadata": {},
   "source": [
    "- 해당 원소보다 큰 값을 못 찾은 원소의 인덱스(i)를 stack에 쌓아두고, 큰 원소(j)를 찾으면 그 인덱스(i)를 stack에서 빼온 다음, j-i를 answer에 저장\n",
    "- [python tutor](http://pythontutor.com/visualize.html#code=T%20%3D%20%5B73,%2074,%2075,%2071,%2069,%2072,%2076,%2073%5D%20%20%23%201,%201,%204,%202,%201,%201,%200,%200%0A%0Aanswer%20%3D%20%5B0%5D%20*%20len%28T%29%0Astack%20%3D%20%5B%5D%0A%20%20%20%20%0Afor%20i,%20cur%20in%20enumerate%28T%29%3A%0A%20%20%20%20%23%20%ED%98%84%EC%9E%AC%20%EC%98%A8%EB%8F%84%EA%B0%80%20%EC%8A%A4%ED%83%9D%20%EA%B0%92%EB%B3%B4%EB%8B%A4%20%EB%86%92%EB%8B%A4%EB%A9%B4%20%EC%A0%95%EB%8B%B5%20%EC%B2%98%EB%A6%AC%0A%20%20%20%20while%20stack%20and%20cur%20%3E%20T%5Bstack%5B-1%5D%5D%3A%0A%20%20%20%20%20%20%20%20last%20%3D%20stack.pop%28%29%0A%20%20%20%20%20%20%20%20answer%5Blast%5D%20%3D%20i%20-%20last%0A%20%20%20%20stack.append%28i%29&cumulative=false&curInstr=0&heapPrimitives=nevernest&mode=display&origin=opt-frontend.js&py=3&rawInputLstJSON=%5B%5D&textReferences=false)"
   ]
  },
  {
   "cell_type": "code",
   "execution_count": null,
   "metadata": {},
   "outputs": [],
   "source": [
    "def dailyTemperatures(T: list(int)) -> list(int):\n",
    "    answer = [0] * len(T)\n",
    "    stack = []\n",
    "    \n",
    "    for i, cur in enumerate(T):\n",
    "        \n",
    "        # 현재 온도가 스택 값보다 높다면 정답 처리\n",
    "        while stack and cur > T[stack[-1]]:\n",
    "            last = stack.pop()\n",
    "            answer[last] = i - last\n",
    "        stack.append(i)\n",
    "    \n",
    "    return answer"
   ]
  },
  {
   "cell_type": "markdown",
   "metadata": {},
   "source": [
    "## 큐\n",
    "- 큐는 시퀀스 한쪽 끝에 엔티티를 추가하고, 다른 반대쪽 끝에는 제거할 수 있는 엔티티 컬렉션\n",
    "- 선입선출(FIFO, first-in-first-out)로 처리되는, 줄 서는 것에 비율할 수 있는 큐는 상대적으로 스택에 비해 쓰임새가 적음\n",
    "- 하지만, 데크나 우선순위 큐 같은 변형들은 매우 유용하게 사용됨\n",
    "- 이외에도 너비 우선 탐색(BFS)이나 캐스 등을 구현할 때도 사용됨"
   ]
  },
  {
   "cell_type": "markdown",
   "metadata": {},
   "source": [
    "### 23. 큐를 이용한 스택 구현\n",
    "- 큐를 이용해 다음 연산을 지원하는 스택 구현하기\n",
    "> ○ push(x): 요소 x를 스택에 삽입  \n",
    "> ○ pop(): 스택의 첫 번째 요소를 삭제  \n",
    "> ○ top(): 스택의 첫 번째 요소를 가져옴  \n",
    "> ○ empty(): 스택이 비어 있는지 여부를 리턴\n",
    "\n",
    "- 요소 삽입 후에 맨 앞에 두는 상태로 재정렬을 해야!\n",
    "- 가장 나중에 넣은 요소를 '첫 번째 요소'라고 하는 것은 1, 2, 3, 4 순으로 push한다면, 이것은 4->3->2->1(연결리스트)로 정의되기 때문 \n",
    "\n",
    "\n",
    "- 큐는 1->2->3->4, 스택은 4->3->2->1"
   ]
  },
  {
   "cell_type": "code",
   "execution_count": null,
   "metadata": {},
   "outputs": [],
   "source": [
    "stack.push(1)\n",
    "stack.push(2)\n",
    "stack.top()    # 2 리턴\n",
    "stack.pop()    # 2 리턴\n",
    "stack.empty()  # False"
   ]
  },
  {
   "cell_type": "markdown",
   "metadata": {},
   "source": [
    "#### 정답\n",
    "#### 1) push() 할 때, 큐를 이용해 재정렬"
   ]
  },
  {
   "cell_type": "code",
   "execution_count": 170,
   "metadata": {},
   "outputs": [],
   "source": [
    "class MyStack:\n",
    "    def __init__(self):\n",
    "        self.q = collections.deque()\n",
    "        \n",
    "    def push(self, x):\n",
    "        self.q.append(x)\n",
    "        # 요소 삽입 후 맨 앞에 두는 상태로 재정렬\n",
    "        for _ in range(len(self.q) - 1):\n",
    "            self.q.append(self.q.popleft())  # 1 2 3 4  ->  4 1 2 3\n",
    "        \n",
    "    def pop(self):\n",
    "        return self.q.popleft()\n",
    "    \n",
    "    def top(self):\n",
    "        return self.q[0]\n",
    "    \n",
    "    def empty(self):\n",
    "        return len(self.q) == 0"
   ]
  },
  {
   "cell_type": "code",
   "execution_count": 172,
   "metadata": {},
   "outputs": [
    {
     "data": {
      "text/plain": [
       "2"
      ]
     },
     "execution_count": 172,
     "metadata": {},
     "output_type": "execute_result"
    }
   ],
   "source": [
    "stack = MyStack()\n",
    "stack.push(1)\n",
    "stack.push(2)\n",
    "stack.top()    # 2 리턴"
   ]
  },
  {
   "cell_type": "code",
   "execution_count": 173,
   "metadata": {},
   "outputs": [
    {
     "data": {
      "text/plain": [
       "2"
      ]
     },
     "execution_count": 173,
     "metadata": {},
     "output_type": "execute_result"
    }
   ],
   "source": [
    "stack.pop()    # 2 리턴"
   ]
  },
  {
   "cell_type": "code",
   "execution_count": 174,
   "metadata": {},
   "outputs": [
    {
     "data": {
      "text/plain": [
       "False"
      ]
     },
     "execution_count": 174,
     "metadata": {},
     "output_type": "execute_result"
    }
   ],
   "source": [
    "stack.empty()  # False"
   ]
  },
  {
   "cell_type": "markdown",
   "metadata": {},
   "source": [
    "- 요소 삽입시 시간 복잡도가 $O(n)$이 되어 다소 비효율적이긴 하지만, 스택을 큐로 구현가능"
   ]
  },
  {
   "cell_type": "markdown",
   "metadata": {},
   "source": [
    "### 24. 스택을 이용한 큐 구현\n",
    "- 스택를 이용해 다음 연산을 지원하는 큐 구현하기\n",
    "> ○ push(x): 요소 x를 큐 마지막에 삽입  \n",
    "> ○ pop(): 큐 처음에 있는 요소 제거  \n",
    "> ○ peek(): 큐 처음에 있는 요소를 가져옴  \n",
    "> ○ empty(): 큐가 비어 있는지 여부를 리턴"
   ]
  },
  {
   "cell_type": "code",
   "execution_count": 176,
   "metadata": {},
   "outputs": [],
   "source": [
    "class MyQueue:\n",
    "    def __init__(self):\n",
    "        self.input = []\n",
    "        self.output = []\n",
    "        \n",
    "    def push(self, x):\n",
    "        self.input.append(x)\n",
    "        \n",
    "    def pop(self):\n",
    "        self.peek()\n",
    "        return self.output.pop()\n",
    "    \n",
    "    def peek(self):\n",
    "        # output이 없으면 모두 재입력\n",
    "        if not self.output:\n",
    "            while self.input:\n",
    "                self.output.append(self.input.pop())\n",
    "        return self.output[-1]\n",
    "    \n",
    "    def empty(self):\n",
    "        return self.input == [] and self.output == []"
   ]
  },
  {
   "cell_type": "markdown",
   "metadata": {},
   "source": [
    "- 큐에서는 1, 2, 3, 4를 입력하면 1->2->3->4 이런식으로 구현됨. pop()하면, 1이 나와야!"
   ]
  },
  {
   "cell_type": "markdown",
   "metadata": {},
   "source": [
    "### 25. 원형 큐 디자인\n",
    "<img src='img/9_3.png' width='350'>  \n",
    "<img src='img/9_5.png' width='450'>"
   ]
  },
  {
   "cell_type": "markdown",
   "metadata": {},
   "source": [
    "#### 시도"
   ]
  },
  {
   "cell_type": "code",
   "execution_count": null,
   "metadata": {},
   "outputs": [],
   "source": [
    "# 리스트를 이용해서 dequeue의 경우, pop(0)로 구현하면 되지 않을까?"
   ]
  },
  {
   "cell_type": "markdown",
   "metadata": {},
   "source": [
    "#### 정답"
   ]
  },
  {
   "cell_type": "code",
   "execution_count": null,
   "metadata": {},
   "outputs": [],
   "source": [
    "class MyCircularQueue:\n",
    "    def __init__(self, k: int):\n",
    "        self.q = [None] * k\n",
    "        self.maxlen = k\n",
    "        self.p1 = 0\n",
    "        self.p2 = 0\n",
    "    \n",
    "    # enQuene(): rear 포인터 이동\n",
    "    def enQuene(self, value: int) -> bool:\n",
    "        if self.q[self.p2] is None:\n",
    "            self.q[self.p2] = value\n",
    "            self.p2 = (self.p2 + 1) % self.maxlen  # rear 포인터가 한칸 뒤로 이동\n",
    "            return True\n",
    "        else:\n",
    "            return False   # 꽉차있는 경우\n",
    "        \n",
    "    # deQueue(): front 포인터 이동\n",
    "    def deQueue(self) -> bool:\n",
    "        if self.q[self.p1] is None:\n",
    "            return False\n",
    "        else:\n",
    "            self.q[self.p1] = None\n",
    "            self.p1 = (self.p1 + 1) % self.maxlen\n",
    "            return True\n",
    "        \n",
    "    def Front(self) -> int:\n",
    "        return -1 if self.q[self.p1] is None else self.q[self.p1]\n",
    "    \n",
    "    def Rear(self) -> intt:\n",
    "        return -1 if self.q[self.p2] is None else self.q[self.p2]\n",
    "    \n",
    "    def isEmpty(self) -> bool:\n",
    "        return self.p1 == self.p2 and self.q[self.p1] is None\n",
    "        # return len(self.q) == 0을 못하는 이유 : 이미 len을 k로 지정했기 때문\n",
    "        \n",
    "    def isFull(self) -> bool:\n",
    "        return self.p1 == self.p2 and self.q[self.p1] is not None"
   ]
  },
  {
   "cell_type": "markdown",
   "metadata": {},
   "source": [
    "- 수도코드 (워싱턴 주립대학 강의 자료)  \n",
    "<img src='img/9_6.png' width='400'>\n",
    "<img src='img/9_7.png' width='400'>  \n",
    "\n",
    "\n",
    "- 이 수도코드의 deQueue에서는 요소 삭제뿐 아니라 추출도 함께 진행"
   ]
  },
  {
   "cell_type": "code",
   "execution_count": null,
   "metadata": {},
   "outputs": [],
   "source": []
  }
 ],
 "metadata": {
  "kernelspec": {
   "display_name": "Python 3",
   "language": "python",
   "name": "python3"
  },
  "language_info": {
   "codemirror_mode": {
    "name": "ipython",
    "version": 3
   },
   "file_extension": ".py",
   "mimetype": "text/x-python",
   "name": "python",
   "nbconvert_exporter": "python",
   "pygments_lexer": "ipython3",
   "version": "3.7.7"
  }
 },
 "nbformat": 4,
 "nbformat_minor": 4
}
