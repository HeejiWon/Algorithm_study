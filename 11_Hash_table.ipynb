{
 "cells": [
  {
   "cell_type": "markdown",
   "metadata": {},
   "source": [
    "## 해시\n",
    "- 해시 테이블 또는 해시 맵은 키를 값에 매핑할 수 있는 구조인, 연관 배열 추상자료형(ADT)을 구현하는 자료구조\n",
    "- 해시 테이블의 가장 큰 특징은 대부분의 연산이 분할 상환 분석에 따른 시간 복잡도가 $O(1)$"
   ]
  },
  {
   "cell_type": "markdown",
   "metadata": {},
   "source": [
    "###  해시 함수\n",
    "- 해시 함수란? 임의 크기 데이터를 고정 크기 값으로 매핑하는 데 사용할 수 있는 함수  \n",
    "<img src='img/11_1.png' width='100'>  \n",
    "\n",
    "\n",
    "- 입력값이 ABC, 1324BC, AF32B로 각각 3글자, 6글자, 5글자이지만, 화살표로 표시한 특정 함수를 통과하면 2바이트의 고정 크기 값으로 매핑됨\n",
    "- 이처럼 해시 함수를 사용하는 것을 해싱이라 함.\n",
    "- 해싱은 최적의 검색이 필요한 분야에 사용되며, 심볼 테이블 등의 자료구조를 구현하기에도 적합\n",
    "- 이외에도 체크섬, 손실 압축, 무작위화 함수, 암호 등과도 관련 깊으며 때로는 혼용하기도 함  \n",
    "\n",
    "\n",
    "####  성능 좋은 해시 함수들의 특징\n",
    "> ○ 해시 함수 값 충돌의 최소화  \n",
    "> ○ 쉽고 빠른 연산  \n",
    "> ○ 해시 테이블 전체에 해시 값이 균일하게 분포  \n",
    "> ○ 사용할 키의 모든 정보를 이용하여 해싱  \n",
    "> ○ 해시 테이블 사용 효율이 높을 것"
   ]
  },
  {
   "cell_type": "markdown",
   "metadata": {},
   "source": [
    "#### 1) 생일 문제\n",
    "- 충돌이 쉽게 일어나는 것을 보여주는 예시\n",
    "- 생일이 같은 2명이 존재할 확률을 얼핏 생각해보면 비둘기집 원리에 따라 366명 이상이 모여야 일어나는 일 같지만, 실제로는 23명만 모여도 50%를 넘는다.  \n",
    "<img src='img/11_2.png' width='300'>"
   ]
  },
  {
   "cell_type": "code",
   "execution_count": 1,
   "metadata": {},
   "outputs": [
    {
     "name": "stdout",
     "output_type": "stream",
     "text": [
      "50.79900000000001%\n"
     ]
    }
   ],
   "source": [
    "# 실험\n",
    "import random\n",
    "\n",
    "TRIALS = 100000     # 10만 번 실험\n",
    "same_birthdays = 0  # 생일이 같은 실험의 수\n",
    "\n",
    "# 10만번 실험 진행\n",
    "for _ in range(TRIALS):\n",
    "    birthdays = []\n",
    "    # 23명이 모였을 때, 생일이 같을 경우 same_bithdays += 1\n",
    "    for i in range(23):\n",
    "        birthday = random.randint(1, 365)\n",
    "        if birthday in birthdays:\n",
    "            same_birthdays += 1\n",
    "            break\n",
    "        birthdays.append(birthday)\n",
    "        \n",
    "# 전체 10만 번 실험 중 생일이 같은 실험의 확률\n",
    "print(f'{same_birthdays / TRIALS * 100}%')"
   ]
  },
  {
   "cell_type": "markdown",
   "metadata": {},
   "source": [
    "#### 2) 비둘기집 원리\n",
    "- 비둘기집 원리란, n개 아이템을 m개 컨테이너에 넣을 때, n>m이라면 적어도 하나의 컨테이너에는 반드시 2개 이상의 아이템이 들어 있다는 원리\n",
    "- 9개의 공간에 10개의 아이템을 넣을 때, 심한 경우 9번 모두 충돌해서 9개의 공간 중 1개밖에 사용하지 못할 수도 있다. 여러번 충돌한다는 것은 그만큼 추가 연산을 필요로 하므로 최소화하는 것이 좋음!"
   ]
  },
  {
   "cell_type": "markdown",
   "metadata": {},
   "source": [
    "#### 3) 로드 팩터 (Load Factor)\n",
    "- 로드 팩터란 해시 테이블에 저장된 데이터 개수 n을 버킷의 개수 k로 나눈 것  \n",
    "<img src='img/11_3.png' width='100'>  \n",
    "\n",
    "\n",
    "- 로드 팩터 비율에 따라 해시 함수를 재작성할지, 테이블의 크기를 조정할지 결정\n",
    "- 이 값은 해시 함수가 키들을 잘 분산해 주는지를 말하는 효율성 측정에도 사용\n",
    "- 자바 10에서는 디폴트 로드 랙터를 0.75로 정했으며, '시간과 공간 비용의 적절한 절충안'이라고 얘기함 (넘어설 경우 공간 재할당)"
   ]
  },
  {
   "cell_type": "markdown",
   "metadata": {},
   "source": [
    "#### 4) 해시 함수\n",
    "- 아래의 그림은 해시 함수를 통해 키가 해시 값으로 변경되는 과정을 도식화한 것\n",
    "<img src='img/11_4.png' width='250'>  \n",
    "\n",
    "\n",
    "- 데이터마다 최적의 해싱 알고리즘이 있으며, 여기서는 가장 단순하면서도 널리 쓰이는 정수형 해싱 기법인 모듈로(Modulo(a.k.a Mod)) 연산을 이용한 나눗셈 방식만 설명  \n",
    "<img src='img/11_5.png' width='100'>\n",
    "\n",
    "\n",
    "- m은 해시 테이블의 크기로, 일반적으로 2의 멱수에 가깝지 않은 소수를 택함\n",
    "- x는 어떤 간단한 규칙을 통해 만들어낸 충분히 랜덤한 상태의 키의 값\n",
    "- 해시 함수를 딥러닝으로 학습한 모델을 적용한 논문도 있었음"
   ]
  },
  {
   "cell_type": "markdown",
   "metadata": {},
   "source": [
    "### 충돌\n",
    "- 아무리 좋은 해시 함수라도 충돌은 발생함"
   ]
  },
  {
   "cell_type": "markdown",
   "metadata": {},
   "source": [
    "#### 1) 개별 체이닝\n",
    "- '윤아'와 '서현'을 해싱한 결과가 충돌한다고 가정한다.   \n",
    "<img src='img/11_6.png' width='200'>   \n",
    "\n",
    "\n",
    "- 해시 테이블의 기본 방식이기도 한 개별 체이닝은 충돌 발생 시 아래 그림과 같이 연결 리스트로 연결하는 방식\n",
    "> 1. 키의 해시 값을 계산  \n",
    "> 2. 해시 값을 이용해 배열의 인덱스 구함  \n",
    "> 3. 같은 인덱스가 있다면 연결 리스트로 연결  \n",
    "\n",
    "<img src='img/11_7.png' width='350'>  \n",
    "\n",
    "- 잘 구현한 경우 대부분의 탐색은 $O(1)$이지만 최악의 경우, 즉 모든 해시 충돌이 발생했다고 가정할 경우에는 $O(n)$\n",
    "- 자바 8에서는 좀 더 최적화해서, 데이터가 많아지면 레드-블랙 트리에 저장하는 형태로 병행해 사용하기도 함"
   ]
  },
  {
   "cell_type": "markdown",
   "metadata": {},
   "source": [
    "#### 2) 오픈 어드레싱 (Open Addressing)\n",
    "- 충돌 발생 시 탐사를 통해 빈 공간을 찾아나서는 방식\n",
    "- 무한정 저장할 수 있는 체이닝 방식과 달리, 이 방식은 전체 슬롯의 개수 이상은 저장할 수 없으며, 모든 원소가 반드시 자신의 해시 값과 일치하는 주소에 저장된다는 보장이 없음\n",
    "\n",
    "<img src='img/11_8.png' width='300'>"
   ]
  },
  {
   "cell_type": "markdown",
   "metadata": {},
   "source": [
    "- 출돌이 발생할 경우, 바로 다음위치부터 순차적으로 탐사를 진행 (가장 가까운 다음 빈 위치)\n",
    "- 이처럼 선형 탐사 방식은 구현이 간단하면서도, 의외로 전체적인 성능이 좋은 편\n",
    "- 하지만, 한 가지 문제점은 해시 테이블에 저장되는 데이터들이 고르게 분포되지 않고 뭉치는 경향이 있다. 클러스터들이 커지게 되면 인근 클러스터들과 합쳐짐 (이러한 클러스터링 현상은 탐사 시간을 오래 걸리게 하며, 해싱 효율을 떨어뜨리는 원인이 됨)\n",
    "\n",
    "\n",
    "- 일정 이상 채워지면, 그로스 팩터(Growth Factor)의 비율에 따라 더 큰 크기의 또 다른 버킷을 생성한 후 여기에 새롭게 복사하는 리해싱(Rehashing)작업이 일어남"
   ]
  },
  {
   "cell_type": "markdown",
   "metadata": {},
   "source": [
    "#### 3) 언어별 해시 테이블 구현 방식\n",
    "- 파이썬의 딕셔너리는 해시 테이블로 구현되어 있다. 오픈 어드레싱 방법으로!!\n",
    "- why? 연결 리스트를 만들기 위한 추가 메모리 할당이 상대적으로 느린 작업이므로\n",
    "\n",
    "<img src='img/11_9.png' width='300'>\n",
    "\n",
    "\n",
    "- 선형 탐사 방식은 일반적으로 체이닝에 비해 성능이 더 좋으나, 슬롯의 80% 이상이 차게 되면 급격한 성능 저하가 일어나며 로드 팩터 1이상은 저장 불가\n",
    "- 파이썬의 로드 팩터는 0.66 (루비는 0.5)\n",
    "\n",
    "<img src='img/11_10.png' width='200'>"
   ]
  },
  {
   "cell_type": "markdown",
   "metadata": {},
   "source": [
    "### 28. 해시맵 디자인  \n",
    "<img src='img/11_11.png' width='450'>"
   ]
  },
  {
   "cell_type": "markdown",
   "metadata": {},
   "source": [
    "#### 정답\n",
    "#### 1) 개별 체이닝 방식을 이용한 해시 테이블 구현"
   ]
  },
  {
   "cell_type": "code",
   "execution_count": 2,
   "metadata": {},
   "outputs": [],
   "source": [
    "class ListNode:\n",
    "    def __init__(self, key=None, value=None):\n",
    "        self.key = key\n",
    "        self.value = value\n",
    "        self.next = None"
   ]
  },
  {
   "cell_type": "code",
   "execution_count": null,
   "metadata": {},
   "outputs": [],
   "source": [
    "class MyHashMap:\n",
    "    def __init__(self):\n",
    "        self.size = 1000\n",
    "        self.table = collections.defaultdict(ListNode) \n",
    "        \n",
    "            # 각 ListNode를 담게 될 기본 자료형 defaultdict는\n",
    "            # 존재하지 않는 키를 조회할 경우 자동으로 디폴르를 생성해 줌\n",
    "    \n",
    "    # 삽입\n",
    "    def put(self, key: int, value: int) -> None:\n",
    "        index = key % self.size  # 모듈로(Modulo)연산을 한 나머지를 해시 값으로\n",
    "        \n",
    "        # 인덱스에 노드가 없다면 삽입 후 종료\n",
    "        if self.table[index].value is None:\n",
    "            self.table[index] = ListNode(key, value)\n",
    "            \n",
    "            # 여기서 굳이 value의 존재 유무를 확인한 이유는 defaultdict가 \n",
    "            # 없는 인덱스로 조회할 경우, 디폴트 객체를 생성하기 때문\n",
    "        \n",
    "        # 인덱스에 노드가 존재하는 경우 연결리스트로 처리\n",
    "        p = self.table[index]\n",
    "        while p:\n",
    "            # 이미 키가 존재할 경우, 값을 업데이트하고 빠저나감\n",
    "            if p.key == key:\n",
    "                p.value = value\n",
    "                return \n",
    "            if p.next is None: # 아무것도 안하고 루프를 나가서 next에 키-값 저장\n",
    "                break\n",
    "            p = p.next\n",
    "        p.next = ListNode(key, value)\n",
    "        \n",
    "    # 조회  \n",
    "    def get(self, key: int) -> int:\n",
    "        index = key % self.size\n",
    "        if self.table[index].value is None:\n",
    "            return -1\n",
    "        \n",
    "        # 노드가 존재할 대 일치하는 키 탐색\n",
    "        p = self.table[index]\n",
    "        while p:\n",
    "            if p.key == key:\n",
    "                return p.value\n",
    "            p = p.next\n",
    "        return -1\n",
    "    \n",
    "    # 삭제\n",
    "    def remove(self, key: int) -> None:\n",
    "        index = key % self.size\n",
    "        if self.table[index].vale is None:\n",
    "            return\n",
    "        \n",
    "        # 인덱스의 첫 번째 노드일 때 삭제 처리\n",
    "        p = self.table[index]\n",
    "        if p.key == key:\n",
    "            self.table[index] = ListNode() if p.next is None else p.next\n",
    "            return \n",
    "        \n",
    "        # 연결 리스트 노드 삭제\n",
    "        prev = p   # 이전 노드\n",
    "        while p:\n",
    "            if p.key == key:\n",
    "                prev.next = p.next\n",
    "                return\n",
    "            prev, p = p, p.next"
   ]
  },
  {
   "cell_type": "markdown",
   "metadata": {},
   "source": [
    "### 29. 보석과 돌\n",
    "- J는 보석이며, S는 갖고 있는 돌이다. S에는 보석이 몇 개나 있을까? (대소문자 구분)"
   ]
  },
  {
   "cell_type": "code",
   "execution_count": 4,
   "metadata": {},
   "outputs": [],
   "source": [
    "J = 'aA'; S = 'aAAbbbb'  # 3"
   ]
  },
  {
   "cell_type": "markdown",
   "metadata": {},
   "source": [
    "#### 시도"
   ]
  },
  {
   "cell_type": "code",
   "execution_count": null,
   "metadata": {},
   "outputs": [],
   "source": [
    "import collections"
   ]
  },
  {
   "cell_type": "code",
   "execution_count": 13,
   "metadata": {},
   "outputs": [],
   "source": [
    "c = collections.Counter(S)\n",
    "result = 0\n",
    "\n",
    "for i in J:\n",
    "    result += c[i]"
   ]
  },
  {
   "cell_type": "code",
   "execution_count": 14,
   "metadata": {},
   "outputs": [
    {
     "data": {
      "text/plain": [
       "3"
      ]
     },
     "execution_count": 14,
     "metadata": {},
     "output_type": "execute_result"
    }
   ],
   "source": [
    "result"
   ]
  },
  {
   "cell_type": "markdown",
   "metadata": {},
   "source": [
    "#### 정답\n",
    "#### 1) 해시 테이블을 이용한 풀이"
   ]
  },
  {
   "cell_type": "code",
   "execution_count": 16,
   "metadata": {},
   "outputs": [],
   "source": [
    "def numJewelsInStones(J: str, S: str) -> int:\n",
    "    freqs = {}\n",
    "    count = 0\n",
    "    \n",
    "    # 돌(S)의 빈도 수 계산\n",
    "    for char in S:\n",
    "        if char not in freqs:\n",
    "            freqs[char] = 1\n",
    "        else:\n",
    "            freqs[char] += 1\n",
    "        \n",
    "    # 보석(J)의 빈도수 합산\n",
    "    for char in J:\n",
    "        if char in freqs:\n",
    "            count += freqs[char]\n",
    "    \n",
    "    return count"
   ]
  },
  {
   "cell_type": "markdown",
   "metadata": {},
   "source": [
    "#### 2) defaultdict를 이용한 비교 생략"
   ]
  },
  {
   "cell_type": "code",
   "execution_count": 18,
   "metadata": {},
   "outputs": [],
   "source": [
    "def numJewelsInStones(J: str, S: str) -> int:\n",
    "    freqs = collections.defaultdict(int)  # 존재하지 않는 키에 대해 디폴트를 리턴\n",
    "    count = 0\n",
    "    \n",
    "    # 비교 없이 돌(S) 빈도 수 계산\n",
    "    for char in S:\n",
    "        freqs[char] += 1\n",
    "        \n",
    "    # 비교 없이 보석(J) 빈도 수 계산\n",
    "    for char in J:\n",
    "        count += freqs[char]\n",
    "        \n",
    "    return count"
   ]
  },
  {
   "cell_type": "markdown",
   "metadata": {},
   "source": [
    "#### 3) Counter로 계산 생략"
   ]
  },
  {
   "cell_type": "code",
   "execution_count": 19,
   "metadata": {},
   "outputs": [],
   "source": [
    "def numJewelsInStones(J: str, S: str) -> int:\n",
    "    freqs = collections.Counter(S)  # 돌(S) 빈도 수 계산\n",
    "            # 존재하지 않는 키의 경우, KeyError X -> 0을 출력!!\n",
    "        \n",
    "    count = 0\n",
    "    \n",
    "    # 비교 없이 보석(J) 빈도 수 합산\n",
    "    for char in J:\n",
    "        count +=  freqs[char]\n",
    "        \n",
    "    return count"
   ]
  },
  {
   "cell_type": "markdown",
   "metadata": {},
   "source": [
    "#### 4) 파이썬 다운 방식\n",
    "- 해시 테이블과는 관련 X"
   ]
  },
  {
   "cell_type": "code",
   "execution_count": 20,
   "metadata": {},
   "outputs": [],
   "source": [
    "def numJewelsInStones(J: str, S: str) -> int:\n",
    "    return sum(s in J for s in S)"
   ]
  },
  {
   "cell_type": "markdown",
   "metadata": {},
   "source": [
    "<img src='img/11_12.png' width='300'>"
   ]
  },
  {
   "cell_type": "markdown",
   "metadata": {},
   "source": [
    "### 30. 중복 문자 없는 가장 긴 부분 문자열\n"
   ]
  },
  {
   "cell_type": "code",
   "execution_count": 21,
   "metadata": {},
   "outputs": [],
   "source": [
    "s = 'abcabcbb'  # 3 (abc)\n",
    "s = 'bbbbb'     # 1 (b)\n",
    "s = 'pwwkew'    # 3 (wke)"
   ]
  },
  {
   "cell_type": "markdown",
   "metadata": {},
   "source": [
    "#### 시도\n",
    "- 이중 for문 밖에 생각이 안남"
   ]
  },
  {
   "cell_type": "markdown",
   "metadata": {},
   "source": [
    "#### 정답"
   ]
  },
  {
   "cell_type": "markdown",
   "metadata": {},
   "source": [
    "#### 1) 슬라이딩 윈도우와 투 포인터로 사이즈 조절\n",
    "- 슬라이딩 윈도우(20장 참조)로 한 칸씩 우측으로 이동하면서 윈도우 내에 모든 문자가 중복이 없도록 투 포인터로 윈도우 사이즈 조절\n",
    "- 슬라이딩 윈도우의 각 단계별로 중복 문자가 없는 윈도우 최대 길이를 순서대로 표시\n",
    "- 투 포인터로 문제를 풀이하되, 2개 모두 왼쪽에서 출발  \n",
    "<img src='img/11_13.png' width='250'>"
   ]
  },
  {
   "cell_type": "code",
   "execution_count": null,
   "metadata": {},
   "outputs": [],
   "source": [
    "def lengthOfLongestSubstring(s: str) -> int:\n",
    "    used = {}\n",
    "    max_length = start = 0\n",
    "    \n",
    "    for index, char in enumerate(s):\n",
    "        # 이미 등장했던 문자라면 'start' 위치 갱신\n",
    "        if char in used and start <= used[char]:\n",
    "            start = used[char] + 1\n",
    "        else:  # 최대 부분 문자열 길이 갱신\n",
    "            max_length = max(max_length, index - start + 1)\n",
    "            \n",
    "        # 현재 문자의 위치 삽입\n",
    "        used[char] = index\n",
    "        \n",
    "    return max_length"
   ]
  },
  {
   "cell_type": "markdown",
   "metadata": {},
   "source": [
    "<img src='img/11_14.png' width='350'>"
   ]
  },
  {
   "cell_type": "markdown",
   "metadata": {},
   "source": [
    "### 31. 상위 K 빈도 요소\n",
    "- 등장하는 횟수가 상위 k등에 속하는 숫자 추출 (총 k개)"
   ]
  },
  {
   "cell_type": "code",
   "execution_count": 45,
   "metadata": {},
   "outputs": [],
   "source": [
    "nums = [1, 1, 1, 2, 2, 3]; k=2   # [1, 2]"
   ]
  },
  {
   "cell_type": "markdown",
   "metadata": {},
   "source": [
    "#### 시도"
   ]
  },
  {
   "cell_type": "code",
   "execution_count": 47,
   "metadata": {},
   "outputs": [
    {
     "data": {
      "text/plain": [
       "[1, 2]"
      ]
     },
     "execution_count": 47,
     "metadata": {},
     "output_type": "execute_result"
    }
   ],
   "source": [
    "c = collections.Counter(nums)\n",
    "topk_value = sorted(c.values(), reverse=True)[:k]\n",
    "[i for i in range(len(c)) if c[i] in topk_value]"
   ]
  },
  {
   "cell_type": "markdown",
   "metadata": {},
   "source": [
    "#### 1) Counter를 이용한 음수 순 추출"
   ]
  },
  {
   "cell_type": "code",
   "execution_count": 48,
   "metadata": {},
   "outputs": [],
   "source": [
    "def topKFrequent(nums: list, k: int) -> list:\n",
    "    freqs = collections.Counter(nums)\n",
    "    freqs_head = []\n",
    "    \n",
    "    # 힙에 음수로 삽입\n",
    "    for f in freqs:\n",
    "        heaps.heappush(freq_heap, (-freqs[f], f))\n",
    "    \n",
    "    topk = []\n",
    "    # k번 만큼 추출, 최소 힙(Min Heap)이므로 가장 작음 음수 순으로 추출\n",
    "    for _ in range(k):\n",
    "        topk.append(heapq.heappop(freqs_heap)[1])\n",
    "    \n",
    "    return topk"
   ]
  },
  {
   "cell_type": "markdown",
   "metadata": {},
   "source": [
    "#### 2) 파이썬다운 방식"
   ]
  },
  {
   "cell_type": "code",
   "execution_count": 58,
   "metadata": {},
   "outputs": [],
   "source": [
    "def topKFrequent(nums: list, k: int) -> list:\n",
    "    return list(zip(*collections.Counter(nums).most_common(k)))[0]"
   ]
  },
  {
   "cell_type": "code",
   "execution_count": 54,
   "metadata": {},
   "outputs": [
    {
     "data": {
      "text/plain": [
       "[(1, 3), (2, 2)]"
      ]
     },
     "execution_count": 54,
     "metadata": {},
     "output_type": "execute_result"
    }
   ],
   "source": [
    "c.most_common(k)"
   ]
  },
  {
   "cell_type": "code",
   "execution_count": 57,
   "metadata": {},
   "outputs": [
    {
     "data": {
      "text/plain": [
       "[(1, 2), (3, 2)]"
      ]
     },
     "execution_count": 57,
     "metadata": {},
     "output_type": "execute_result"
    }
   ],
   "source": [
    "list(zip(*c.most_common(k)))"
   ]
  },
  {
   "cell_type": "markdown",
   "metadata": {},
   "source": [
    "#### cf) zip 함수\n",
    "- 2개 이상의 시퀀스를 짧은 길이를 기준으로 일대일 대응하는 새로운 튜플 시퀀스를 만드는 역할"
   ]
  },
  {
   "cell_type": "code",
   "execution_count": 59,
   "metadata": {},
   "outputs": [],
   "source": [
    "a = [1, 2, 3, 4, 5]\n",
    "b = [2, 3, 4, 5]\n",
    "c = [3, 4, 5]"
   ]
  },
  {
   "cell_type": "code",
   "execution_count": 60,
   "metadata": {},
   "outputs": [
    {
     "data": {
      "text/plain": [
       "[(1, 2), (2, 3), (3, 4), (4, 5)]"
      ]
     },
     "execution_count": 60,
     "metadata": {},
     "output_type": "execute_result"
    }
   ],
   "source": [
    "list(zip(a, b))"
   ]
  },
  {
   "cell_type": "code",
   "execution_count": 61,
   "metadata": {},
   "outputs": [
    {
     "data": {
      "text/plain": [
       "[(1, 2, 3), (2, 3, 4), (3, 4, 5)]"
      ]
     },
     "execution_count": 61,
     "metadata": {},
     "output_type": "execute_result"
    }
   ],
   "source": [
    "list(zip(a, b, c))"
   ]
  },
  {
   "cell_type": "markdown",
   "metadata": {},
   "source": [
    "#### cf) 아스테리스트(*)\n",
    "- \\* : 언팩(Unpack), 즉 시퀀스를 풀어헤치는 연산자. 주로 튜플이나 리스트를 언패킹하는 데 사용"
   ]
  },
  {
   "cell_type": "code",
   "execution_count": 62,
   "metadata": {},
   "outputs": [
    {
     "data": {
      "text/plain": [
       "[(1, 3), (2, 2)]"
      ]
     },
     "execution_count": 62,
     "metadata": {},
     "output_type": "execute_result"
    }
   ],
   "source": [
    "collections.Counter(nums).most_common(k)"
   ]
  },
  {
   "cell_type": "code",
   "execution_count": 63,
   "metadata": {},
   "outputs": [
    {
     "data": {
      "text/plain": [
       "[(1, 2), (3, 2)]"
      ]
     },
     "execution_count": 63,
     "metadata": {},
     "output_type": "execute_result"
    }
   ],
   "source": [
    "# 언패킹 O\n",
    "list(zip(*collections.Counter(nums).most_common(k)))"
   ]
  },
  {
   "cell_type": "code",
   "execution_count": 64,
   "metadata": {},
   "outputs": [
    {
     "data": {
      "text/plain": [
       "[((1, 3),), ((2, 2),)]"
      ]
     },
     "execution_count": 64,
     "metadata": {},
     "output_type": "execute_result"
    }
   ],
   "source": [
    "# 언패킹 X\n",
    "list(zip(collections.Counter(nums).most_common(k)))"
   ]
  },
  {
   "cell_type": "code",
   "execution_count": 65,
   "metadata": {},
   "outputs": [
    {
     "data": {
      "text/plain": [
       "['lemon', 'pear', 'watermelon', 'tomato']"
      ]
     },
     "execution_count": 65,
     "metadata": {},
     "output_type": "execute_result"
    }
   ],
   "source": [
    "# 다른 예제\n",
    "fruits = ['lemon', 'pear', 'watermelon', 'tomato']\n",
    "fruits"
   ]
  },
  {
   "cell_type": "code",
   "execution_count": 67,
   "metadata": {},
   "outputs": [
    {
     "name": "stdout",
     "output_type": "stream",
     "text": [
      "lemon pear watermelon tomato\n"
     ]
    }
   ],
   "source": [
    "print(fruits[0], fruits[1], fruits[2], fruits[3])"
   ]
  },
  {
   "cell_type": "code",
   "execution_count": 68,
   "metadata": {},
   "outputs": [
    {
     "name": "stdout",
     "output_type": "stream",
     "text": [
      "lemon pear watermelon tomato\n"
     ]
    }
   ],
   "source": [
    "print(*fruits)"
   ]
  },
  {
   "cell_type": "markdown",
   "metadata": {},
   "source": [
    "- 언패킹뿐만 아니라 함수의 파라미터가 되었을 때는 반대로 패킹(Packing)도 가능\n",
    "- 위의 zip 함수 설명해서 파라미터를 여러 개 쓸 수 있다는 얘기 또한 내부적으로 zip 함수 정의에서 *로 패킹하고 있다는 얘기"
   ]
  },
  {
   "cell_type": "code",
   "execution_count": 69,
   "metadata": {},
   "outputs": [],
   "source": [
    "def f(*params):\n",
    "    print(params)"
   ]
  },
  {
   "cell_type": "code",
   "execution_count": 70,
   "metadata": {},
   "outputs": [
    {
     "name": "stdout",
     "output_type": "stream",
     "text": [
      "('a', 'b', 'c')\n"
     ]
    }
   ],
   "source": [
    "f('a', 'b', 'c')   # print의 기본 원리이기도 함"
   ]
  },
  {
   "cell_type": "code",
   "execution_count": 71,
   "metadata": {},
   "outputs": [
    {
     "name": "stdout",
     "output_type": "stream",
     "text": [
      "1\n",
      "[2, 3, 4]\n"
     ]
    }
   ],
   "source": [
    "# 다른 예제\n",
    "a, *b = [1, 2, 3, 4]\n",
    "\n",
    "print(a)\n",
    "print(b)"
   ]
  },
  {
   "cell_type": "markdown",
   "metadata": {},
   "source": [
    "- \\*\\* : 키/값 페어를 언패킹"
   ]
  },
  {
   "cell_type": "code",
   "execution_count": 72,
   "metadata": {},
   "outputs": [
    {
     "data": {
      "text/plain": [
       "{'year': '2020', 'month': '01', 'day': '7'}"
      ]
     },
     "execution_count": 72,
     "metadata": {},
     "output_type": "execute_result"
    }
   ],
   "source": [
    "date_info = {'year': '2020', 'month': '01', 'day': '7'}\n",
    "new_info = {**date_info, 'day': '7'}  # 새로운 값으로 업데이트도 시도\n",
    "new_info"
   ]
  }
 ],
 "metadata": {
  "kernelspec": {
   "display_name": "Python 3",
   "language": "python",
   "name": "python3"
  },
  "language_info": {
   "codemirror_mode": {
    "name": "ipython",
    "version": 3
   },
   "file_extension": ".py",
   "mimetype": "text/x-python",
   "name": "python",
   "nbconvert_exporter": "python",
   "pygments_lexer": "ipython3",
   "version": "3.7.7"
  }
 },
 "nbformat": 4,
 "nbformat_minor": 4
}
