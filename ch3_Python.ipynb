{
 "cells": [
  {
   "cell_type": "markdown",
   "metadata": {},
   "source": [
    "### Type Hint\n",
    "- 함수 정의시, 입력값과 출력값을 미리 알려주어 가독성을 높이고 버그 발생 확률을 줄이는 방법"
   ]
  },
  {
   "cell_type": "code",
   "execution_count": 10,
   "metadata": {},
   "outputs": [],
   "source": [
    "def fn(a: int) -> bool:\n",
    "    if a == 1: \n",
    "        return True\n",
    "    else:\n",
    "        return False"
   ]
  },
  {
   "cell_type": "code",
   "execution_count": 2,
   "metadata": {},
   "outputs": [
    {
     "data": {
      "text/plain": [
       "True"
      ]
     },
     "execution_count": 2,
     "metadata": {},
     "output_type": "execute_result"
    }
   ],
   "source": [
    "fn(1)"
   ]
  },
  {
   "cell_type": "code",
   "execution_count": 3,
   "metadata": {},
   "outputs": [
    {
     "data": {
      "text/plain": [
       "False"
      ]
     },
     "execution_count": 3,
     "metadata": {},
     "output_type": "execute_result"
    }
   ],
   "source": [
    "fn(2)"
   ]
  },
  {
   "cell_type": "code",
   "execution_count": 4,
   "metadata": {},
   "outputs": [
    {
     "data": {
      "text/plain": [
       "False"
      ]
     },
     "execution_count": 4,
     "metadata": {},
     "output_type": "execute_result"
    }
   ],
   "source": [
    "fn('1')"
   ]
  },
  {
   "cell_type": "code",
   "execution_count": 5,
   "metadata": {},
   "outputs": [
    {
     "data": {
      "text/plain": [
       "int"
      ]
     },
     "execution_count": 5,
     "metadata": {},
     "output_type": "execute_result"
    }
   ],
   "source": [
    "# 지양하기\n",
    "\n",
    "a: str = 1\n",
    "type(a)"
   ]
  },
  {
   "cell_type": "markdown",
   "metadata": {},
   "source": [
    "- mypy 라이브러리를 사용하면 타입 힌트에 오류가 없는지 자동으로 확인 가능 (프롬프트에서 nbqa mypy ch3_Python.ipynb 하면 나옴)"
   ]
  },
  {
   "cell_type": "markdown",
   "metadata": {},
   "source": [
    "### 리스트 컴프리헨션\n",
    "- 기존 리스트를 기반으로 새로운 리스트를 만들어내는 구문\n",
    "- 'map, filter 대신 리스트 컴프리헨션을 사용하자'는 말이 있을 정도로 가동성이 좋음"
   ]
  },
  {
   "cell_type": "code",
   "execution_count": 3,
   "metadata": {},
   "outputs": [
    {
     "data": {
      "text/plain": [
       "[11, 12, 13]"
      ]
     },
     "execution_count": 3,
     "metadata": {},
     "output_type": "execute_result"
    }
   ],
   "source": [
    "# map 이용하기\n",
    "\n",
    "list(map(lambda x: x + 10, [1, 2, 3]))"
   ]
  },
  {
   "cell_type": "code",
   "execution_count": 5,
   "metadata": {},
   "outputs": [
    {
     "data": {
      "text/plain": [
       "[2, 6, 10, 14, 18]"
      ]
     },
     "execution_count": 5,
     "metadata": {},
     "output_type": "execute_result"
    }
   ],
   "source": [
    "# 리스트 컴프리헨션 \n",
    "# 홀수인 경우 2를 곱해 출력\n",
    "\n",
    "[n * 2 for n in range(1, 10+1) if n % 2 == 1]"
   ]
  },
  {
   "cell_type": "code",
   "execution_count": null,
   "metadata": {},
   "outputs": [],
   "source": [
    "# 딕셔너리에서도 사용가능\n",
    "\n",
    "a = {key: value for key, value in original.items()}"
   ]
  },
  {
   "cell_type": "markdown",
   "metadata": {},
   "source": [
    "### 제너레이터\n",
    "- 루프의 반복(iteration) 동작을 제어할 수 있는 루틴 형태\n",
    "- ex) 임의의 조건으로 1억개의 숫자를 만들어 계산하는 프로그램을 작성할 때, 숫자를 메모리 어딘가에 넣어두는 것이 아니라 제너레이터만 생성해두고 필요할 때 만들어내는 방식\n",
    "- __yield__ 구문을 사용해 리턴  \n",
    "(실행 중이던 값을 내보낸다는 의미로, 리턴후 종료되지 않고 계속해서 맨 끝에 도달할 때까지 실행됨)"
   ]
  },
  {
   "cell_type": "code",
   "execution_count": 7,
   "metadata": {},
   "outputs": [],
   "source": [
    "def get_natural_number():\n",
    "    n = 0\n",
    "    while True:\n",
    "        n += 1\n",
    "        yield n"
   ]
  },
  {
   "cell_type": "code",
   "execution_count": 8,
   "metadata": {},
   "outputs": [
    {
     "data": {
      "text/plain": [
       "<generator object get_natural_number at 0x000001342C14C0C8>"
      ]
     },
     "execution_count": 8,
     "metadata": {},
     "output_type": "execute_result"
    }
   ],
   "source": [
    "get_natural_number()   # 제너레이터 타입"
   ]
  },
  {
   "cell_type": "markdown",
   "metadata": {},
   "source": [
    "- 다음 값을 생성하기 위해 next()로 추출"
   ]
  },
  {
   "cell_type": "code",
   "execution_count": 10,
   "metadata": {},
   "outputs": [
    {
     "name": "stdout",
     "output_type": "stream",
     "text": [
      "1\n",
      "2\n",
      "3\n",
      "4\n",
      "5\n",
      "6\n",
      "7\n",
      "8\n",
      "9\n",
      "10\n"
     ]
    }
   ],
   "source": [
    "g = get_natural_number()\n",
    "for _ in range(0, 10):\n",
    "    print(next(g))"
   ]
  },
  {
   "cell_type": "markdown",
   "metadata": {},
   "source": [
    "- 여러 타입의 값도 하나의 함수에서 생성 가능"
   ]
  },
  {
   "cell_type": "code",
   "execution_count": 11,
   "metadata": {},
   "outputs": [],
   "source": [
    "def generator():\n",
    "    yield 1\n",
    "    yield 'string'\n",
    "    yield True"
   ]
  },
  {
   "cell_type": "code",
   "execution_count": 12,
   "metadata": {},
   "outputs": [
    {
     "data": {
      "text/plain": [
       "<generator object generator at 0x000001342C14C748>"
      ]
     },
     "execution_count": 12,
     "metadata": {},
     "output_type": "execute_result"
    }
   ],
   "source": [
    "g = generator()\n",
    "g"
   ]
  },
  {
   "cell_type": "code",
   "execution_count": 13,
   "metadata": {},
   "outputs": [
    {
     "data": {
      "text/plain": [
       "1"
      ]
     },
     "execution_count": 13,
     "metadata": {},
     "output_type": "execute_result"
    }
   ],
   "source": [
    "next(g)"
   ]
  },
  {
   "cell_type": "code",
   "execution_count": 14,
   "metadata": {},
   "outputs": [
    {
     "data": {
      "text/plain": [
       "'string'"
      ]
     },
     "execution_count": 14,
     "metadata": {},
     "output_type": "execute_result"
    }
   ],
   "source": [
    "next(g)"
   ]
  },
  {
   "cell_type": "code",
   "execution_count": 15,
   "metadata": {},
   "outputs": [
    {
     "data": {
      "text/plain": [
       "True"
      ]
     },
     "execution_count": 15,
     "metadata": {},
     "output_type": "execute_result"
    }
   ],
   "source": [
    "next(g)"
   ]
  },
  {
   "cell_type": "markdown",
   "metadata": {},
   "source": [
    "### range\n",
    "- 제너레이터의 방식을 활용하는 대표적인 함수"
   ]
  },
  {
   "cell_type": "code",
   "execution_count": 16,
   "metadata": {},
   "outputs": [
    {
     "data": {
      "text/plain": [
       "[0, 1, 2, 3, 4]"
      ]
     },
     "execution_count": 16,
     "metadata": {},
     "output_type": "execute_result"
    }
   ],
   "source": [
    "list(range(5))"
   ]
  },
  {
   "cell_type": "code",
   "execution_count": 17,
   "metadata": {},
   "outputs": [
    {
     "data": {
      "text/plain": [
       "range(0, 5)"
      ]
     },
     "execution_count": 17,
     "metadata": {},
     "output_type": "execute_result"
    }
   ],
   "source": [
    "range(0, 5)"
   ]
  },
  {
   "cell_type": "code",
   "execution_count": 18,
   "metadata": {},
   "outputs": [
    {
     "data": {
      "text/plain": [
       "range"
      ]
     },
     "execution_count": 18,
     "metadata": {},
     "output_type": "execute_result"
    }
   ],
   "source": [
    "type(range(5))"
   ]
  },
  {
   "cell_type": "code",
   "execution_count": 19,
   "metadata": {},
   "outputs": [
    {
     "name": "stdout",
     "output_type": "stream",
     "text": [
      "0 1 2 3 4 "
     ]
    }
   ],
   "source": [
    "for i in range(5):\n",
    "    print(i, end=' ')"
   ]
  },
  {
   "cell_type": "markdown",
   "metadata": {},
   "source": [
    "- 인덱스로 접근 시 바로 생성하도록 구현되어 있기 때문에 불편없이 사용 가능"
   ]
  },
  {
   "cell_type": "code",
   "execution_count": 20,
   "metadata": {},
   "outputs": [
    {
     "data": {
      "text/plain": [
       "2"
      ]
     },
     "execution_count": 20,
     "metadata": {},
     "output_type": "execute_result"
    }
   ],
   "source": [
    "a = range(5)\n",
    "a[2]"
   ]
  },
  {
   "cell_type": "markdown",
   "metadata": {},
   "source": [
    "### enumerate\n",
    "- 순서가 있는 자료형을 인덱스를 포함한 enumerate 객체로 리턴"
   ]
  },
  {
   "cell_type": "code",
   "execution_count": 21,
   "metadata": {},
   "outputs": [
    {
     "data": {
      "text/plain": [
       "[1, 2, 3, 2, 45, 2, 5]"
      ]
     },
     "execution_count": 21,
     "metadata": {},
     "output_type": "execute_result"
    }
   ],
   "source": [
    "a = [1, 2, 3, 2, 45, 2, 5]\n",
    "a"
   ]
  },
  {
   "cell_type": "code",
   "execution_count": 22,
   "metadata": {},
   "outputs": [
    {
     "data": {
      "text/plain": [
       "<enumerate at 0x1342c155368>"
      ]
     },
     "execution_count": 22,
     "metadata": {},
     "output_type": "execute_result"
    }
   ],
   "source": [
    "enumerate(a)"
   ]
  },
  {
   "cell_type": "code",
   "execution_count": 23,
   "metadata": {},
   "outputs": [
    {
     "data": {
      "text/plain": [
       "[(0, 1), (1, 2), (2, 3), (3, 2), (4, 45), (5, 2), (6, 5)]"
      ]
     },
     "execution_count": 23,
     "metadata": {},
     "output_type": "execute_result"
    }
   ],
   "source": [
    "list(enumerate(a))"
   ]
  },
  {
   "cell_type": "code",
   "execution_count": 24,
   "metadata": {},
   "outputs": [
    {
     "name": "stdout",
     "output_type": "stream",
     "text": [
      "0 1\n",
      "1 2\n",
      "2 3\n",
      "3 2\n",
      "4 45\n",
      "5 2\n",
      "6 5\n"
     ]
    }
   ],
   "source": [
    "for i, v in enumerate(a):\n",
    "    print(i, v)"
   ]
  },
  {
   "cell_type": "markdown",
   "metadata": {},
   "source": [
    "### // 몫"
   ]
  },
  {
   "cell_type": "code",
   "execution_count": 25,
   "metadata": {},
   "outputs": [
    {
     "data": {
      "text/plain": [
       "1.6666666666666667"
      ]
     },
     "execution_count": 25,
     "metadata": {},
     "output_type": "execute_result"
    }
   ],
   "source": [
    "5 / 3"
   ]
  },
  {
   "cell_type": "code",
   "execution_count": 26,
   "metadata": {},
   "outputs": [
    {
     "data": {
      "text/plain": [
       "1"
      ]
     },
     "execution_count": 26,
     "metadata": {},
     "output_type": "execute_result"
    }
   ],
   "source": [
    "5 // 3"
   ]
  },
  {
   "cell_type": "code",
   "execution_count": 27,
   "metadata": {},
   "outputs": [
    {
     "data": {
      "text/plain": [
       "1"
      ]
     },
     "execution_count": 27,
     "metadata": {},
     "output_type": "execute_result"
    }
   ],
   "source": [
    "int(5/3)  # 동일"
   ]
  },
  {
   "cell_type": "code",
   "execution_count": 29,
   "metadata": {},
   "outputs": [
    {
     "data": {
      "text/plain": [
       "2"
      ]
     },
     "execution_count": 29,
     "metadata": {},
     "output_type": "execute_result"
    }
   ],
   "source": [
    "5 % 3   # 나머지"
   ]
  },
  {
   "cell_type": "code",
   "execution_count": 30,
   "metadata": {},
   "outputs": [
    {
     "data": {
      "text/plain": [
       "(1, 2)"
      ]
     },
     "execution_count": 30,
     "metadata": {},
     "output_type": "execute_result"
    }
   ],
   "source": [
    "# 몫과 나머지를 한 번에 구할 때\n",
    "\n",
    "divmod(5, 3)"
   ]
  },
  {
   "cell_type": "markdown",
   "metadata": {},
   "source": [
    "### print\n",
    "- 실무에서는 print를 활용하는 디버깅 방법을 추천하지 않지만, 코테에서는 디버거를 사용하거나 TDD 방식으로 접근하기 어렵기 때문에 사실항 유일한 기능"
   ]
  },
  {
   "cell_type": "code",
   "execution_count": 31,
   "metadata": {},
   "outputs": [
    {
     "name": "stdout",
     "output_type": "stream",
     "text": [
      "a b\n"
     ]
    }
   ],
   "source": [
    "print('a', 'b')"
   ]
  },
  {
   "cell_type": "code",
   "execution_count": 32,
   "metadata": {},
   "outputs": [
    {
     "name": "stdout",
     "output_type": "stream",
     "text": [
      "a,b\n"
     ]
    }
   ],
   "source": [
    "print('a', 'b', sep=',')"
   ]
  },
  {
   "cell_type": "markdown",
   "metadata": {},
   "source": [
    "- 리스트 출력시 join으로 묶기"
   ]
  },
  {
   "cell_type": "code",
   "execution_count": 34,
   "metadata": {},
   "outputs": [
    {
     "name": "stdout",
     "output_type": "stream",
     "text": [
      "A B\n"
     ]
    }
   ],
   "source": [
    "a = ['A', 'B']\n",
    "print(' '.join(a))"
   ]
  },
  {
   "cell_type": "markdown",
   "metadata": {},
   "source": [
    "- format 사용"
   ]
  },
  {
   "cell_type": "code",
   "execution_count": 37,
   "metadata": {},
   "outputs": [
    {
     "name": "stdout",
     "output_type": "stream",
     "text": [
      "2: Apple\n",
      "2: Apple\n"
     ]
    }
   ],
   "source": [
    "# idx 값에 1 더해서 fruit와 함께 출력하기\n",
    "idx = 1\n",
    "fruit = 'Apple'\n",
    "\n",
    "print('{0}: {1}'.format(idx + 1, fruit)) \n",
    "print('{}: {}'.format(idx + 1, fruit))   # 인덱스 생략 가능"
   ]
  },
  {
   "cell_type": "markdown",
   "metadata": {},
   "source": [
    "- f-string 방법 (formated string literal)"
   ]
  },
  {
   "cell_type": "code",
   "execution_count": 38,
   "metadata": {},
   "outputs": [
    {
     "name": "stdout",
     "output_type": "stream",
     "text": [
      "2: Apple\n"
     ]
    }
   ],
   "source": [
    "print(f'{idx + 1}: {fruit}')"
   ]
  },
  {
   "cell_type": "markdown",
   "metadata": {},
   "source": [
    "### pass\n",
    "- Null 연산으로 아무것도 하지 않는 기능\n",
    "- 코드의 전체 골격을 잡아 놓고 세부적인 코드를 짜기 위해 불필요한 오류를 방지"
   ]
  },
  {
   "cell_type": "code",
   "execution_count": 41,
   "metadata": {},
   "outputs": [
    {
     "ename": "IndentationError",
     "evalue": "expected an indented block (<ipython-input-41-14150d708759>, line 4)",
     "output_type": "error",
     "traceback": [
      "\u001b[1;36m  File \u001b[1;32m\"<ipython-input-41-14150d708759>\"\u001b[1;36m, line \u001b[1;32m4\u001b[0m\n\u001b[1;33m    def method_a(self):\u001b[0m\n\u001b[1;37m      ^\u001b[0m\n\u001b[1;31mIndentationError\u001b[0m\u001b[1;31m:\u001b[0m expected an indented block\n"
     ]
    }
   ],
   "source": [
    "class MyClass(object):\n",
    "    def method_a(self):\n",
    "    \n",
    "    def method_a(self):\n",
    "        print(\"Method B\")\n",
    "        \n",
    "c = MyClass()"
   ]
  },
  {
   "cell_type": "code",
   "execution_count": 42,
   "metadata": {},
   "outputs": [],
   "source": [
    "class MyClass(object):\n",
    "    def method_a(self):\n",
    "        pass  # 여기에 pass 추가\n",
    "    \n",
    "    def method_a(self):\n",
    "        print(\"Method B\")\n",
    "        \n",
    "c = MyClass()"
   ]
  },
  {
   "cell_type": "markdown",
   "metadata": {},
   "source": [
    "### locals\n",
    "- 로컬 심볼 테이블 딕셔너리를 가져오는 메소드로 업데이터도 가능"
   ]
  },
  {
   "cell_type": "code",
   "execution_count": 45,
   "metadata": {},
   "outputs": [
    {
     "name": "stdout",
     "output_type": "stream",
     "text": [
      "{'In': ['',\n",
      "        '# map 이용하기\\n\\nlist(map(Lamda x: x + 10, [1, 2, 3]))',\n",
      "        '# map 이용하기\\n\\nlist(map(lamda x: x + 10, [1, 2, 3]))',\n",
      "        '# map 이용하기\\n\\nlist(map(lambda x: x + 10, [1, 2, 3]))',\n",
      "        '# 리스트 컴프리헨션\\n\\n[n * 2 for n in range(1, 10+1) if n % 2 == 0]',\n",
      "        '# 리스트 컴프리헨션\\n\\n[n * 2 for n in range(1, 10+1) if n % 2 == 1]',\n",
      "        'original.items()',\n",
      "        'def get_natural_number():\\n'\n",
      "        '    n = 0\\n'\n",
      "        '    while True:\\n'\n",
      "        '        n += 1\\n'\n",
      "        '        yield n',\n",
      "        'get_natural_number()',\n",
      "        'g = get_natural_number()\\nfor _ in range(0, 100):\\n    print(next(g))',\n",
      "        'g = get_natural_number()\\nfor _ in range(0, 10):\\n    print(next(g))',\n",
      "        \"def generator():\\n    yield 1\\n    yield 'string'\\n    yield True\",\n",
      "        'g = generator()\\ng',\n",
      "        'next(g)',\n",
      "        'next(g)',\n",
      "        'next(g)',\n",
      "        'list(range(5))',\n",
      "        'range(0, 5)',\n",
      "        'type(range(5))',\n",
      "        \"for i in range(5):\\n    print(i, end=' ')\",\n",
      "        'a = range(5)\\na[2]',\n",
      "        'a = [1, 2, 3, 2, 45, 2, 5]\\na',\n",
      "        'enumerate(a)',\n",
      "        'list(enumerate(a))',\n",
      "        'for i, v in enumerate(a):\\n    print(i, v)',\n",
      "        '5 / 3',\n",
      "        '5 // 3',\n",
      "        'int(5/3)',\n",
      "        '5 % 3',\n",
      "        '5 % 3   # 나머지',\n",
      "        '# 몫과 나머지를 한 번에 구할 때\\n\\ndivmod(5, 3)',\n",
      "        \"print('a', 'b')\",\n",
      "        \"print('a', 'b', sep=',')\",\n",
      "        '# 리스트 출력시 join으로 묶기',\n",
      "        \"# 리스트 출력시 join으로 묶기\\n\\na = ['A', 'B']\\nprint(' '.join(a))\",\n",
      "        \"idx = 1\\nfruit = 'Apple'\",\n",
      "        'idx = 1\\n'\n",
      "        \"fruit = 'Apple'\\n\"\n",
      "        '\\n'\n",
      "        \"print('{0}: {1}'.format(idx + 1, fruit))\\n\"\n",
      "        \"print('{}: {}'.format(idx + 1, fruit))\",\n",
      "        '# idx 값에 1 더해서 fruit와 함께 출력하기\\n'\n",
      "        'idx = 1\\n'\n",
      "        \"fruit = 'Apple'\\n\"\n",
      "        '\\n'\n",
      "        \"print('{0}: {1}'.format(idx + 1, fruit)) \\n\"\n",
      "        \"print('{}: {}'.format(idx + 1, fruit))   # 인덱스 생략 가능\",\n",
      "        \"print(f'{idx + 1}: {fruit}')\",\n",
      "        'Class MyClass(object):\\n'\n",
      "        '    def method_a(self):\\n'\n",
      "        '    \\n'\n",
      "        '    def method_a(self):\\n'\n",
      "        '        print(\"Method B\")',\n",
      "        'Class MyClass(object):\\n'\n",
      "        '    def method_a(self):\\n'\n",
      "        '    \\n'\n",
      "        '    def method_a(self):\\n'\n",
      "        '        print(\"Method B\")\\n'\n",
      "        '        \\n'\n",
      "        'c = MyClass()',\n",
      "        'class MyClass(object):\\n'\n",
      "        '    def method_a(self):\\n'\n",
      "        '    \\n'\n",
      "        '    def method_a(self):\\n'\n",
      "        '        print(\"Method B\")\\n'\n",
      "        '        \\n'\n",
      "        'c = MyClass()',\n",
      "        'class MyClass(object):\\n'\n",
      "        '    def method_a(self):\\n'\n",
      "        '        # 여기에 pass 추가\\n'\n",
      "        '        pass\\n'\n",
      "        '    \\n'\n",
      "        '    def method_a(self):\\n'\n",
      "        '        print(\"Method B\")\\n'\n",
      "        '        \\n'\n",
      "        'c = MyClass()',\n",
      "        'import pprint\\npprint.pprint(locals())',\n",
      "        'import pprint\\nprint(locals())',\n",
      "        'import pprint\\npprint.pprint(locals())'],\n",
      " 'MyClass': <class '__main__.MyClass'>,\n",
      " 'Out': {3: [11, 12, 13],\n",
      "         4: [4, 8, 12, 16, 20],\n",
      "         5: [2, 6, 10, 14, 18],\n",
      "         8: <generator object get_natural_number at 0x000001342C14C0C8>,\n",
      "         12: <generator object generator at 0x000001342C14C748>,\n",
      "         13: 1,\n",
      "         14: 'string',\n",
      "         15: True,\n",
      "         16: [0, 1, 2, 3, 4],\n",
      "         17: range(0, 5),\n",
      "         18: <class 'range'>,\n",
      "         20: 2,\n",
      "         21: [1, 2, 3, 2, 45, 2, 5],\n",
      "         22: <enumerate object at 0x000001342C155368>,\n",
      "         23: [(0, 1), (1, 2), (2, 3), (3, 2), (4, 45), (5, 2), (6, 5)],\n",
      "         25: 1.6666666666666667,\n",
      "         26: 1,\n",
      "         27: 1,\n",
      "         28: 2,\n",
      "         29: 2,\n",
      "         30: (1, 2)},\n",
      " '_': 9,\n",
      " '_12': <generator object generator at 0x000001342C14C748>,\n",
      " '_13': 1,\n",
      " '_14': 'string',\n",
      " '_15': True,\n",
      " '_16': [0, 1, 2, 3, 4],\n",
      " '_17': range(0, 5),\n",
      " '_18': <class 'range'>,\n",
      " '_20': 2,\n",
      " '_21': [1, 2, 3, 2, 45, 2, 5],\n",
      " '_22': <enumerate object at 0x000001342C155368>,\n",
      " '_23': [(0, 1), (1, 2), (2, 3), (3, 2), (4, 45), (5, 2), (6, 5)],\n",
      " '_25': 1.6666666666666667,\n",
      " '_26': 1,\n",
      " '_27': 1,\n",
      " '_28': 2,\n",
      " '_29': 2,\n",
      " '_3': [11, 12, 13],\n",
      " '_30': (1, 2),\n",
      " '_4': [4, 8, 12, 16, 20],\n",
      " '_5': [2, 6, 10, 14, 18],\n",
      " '_8': <generator object get_natural_number at 0x000001342C14C0C8>,\n",
      " '__': [2, 6, 10, 14, 18],\n",
      " '___': [4, 8, 12, 16, 20],\n",
      " '__builtin__': <module 'builtins' (built-in)>,\n",
      " '__builtins__': <module 'builtins' (built-in)>,\n",
      " '__doc__': 'Automatically created module for IPython interactive environment',\n",
      " '__loader__': None,\n",
      " '__name__': '__main__',\n",
      " '__package__': None,\n",
      " '__spec__': None,\n",
      " '_dh': ['C:\\\\Users\\\\hj\\\\Desktop\\\\Study\\\\Python\\\\Algorithm_Interview'],\n",
      " '_i': 'import pprint\\nprint(locals())',\n",
      " '_i1': '# map 이용하기\\n\\nlist(map(Lamda x: x + 10, [1, 2, 3]))',\n",
      " '_i10': 'g = get_natural_number()\\nfor _ in range(0, 10):\\n    print(next(g))',\n",
      " '_i11': \"def generator():\\n    yield 1\\n    yield 'string'\\n    yield True\",\n",
      " '_i12': 'g = generator()\\ng',\n",
      " '_i13': 'next(g)',\n",
      " '_i14': 'next(g)',\n",
      " '_i15': 'next(g)',\n",
      " '_i16': 'list(range(5))',\n",
      " '_i17': 'range(0, 5)',\n",
      " '_i18': 'type(range(5))',\n",
      " '_i19': \"for i in range(5):\\n    print(i, end=' ')\",\n",
      " '_i2': '# map 이용하기\\n\\nlist(map(lamda x: x + 10, [1, 2, 3]))',\n",
      " '_i20': 'a = range(5)\\na[2]',\n",
      " '_i21': 'a = [1, 2, 3, 2, 45, 2, 5]\\na',\n",
      " '_i22': 'enumerate(a)',\n",
      " '_i23': 'list(enumerate(a))',\n",
      " '_i24': 'for i, v in enumerate(a):\\n    print(i, v)',\n",
      " '_i25': '5 / 3',\n",
      " '_i26': '5 // 3',\n",
      " '_i27': 'int(5/3)',\n",
      " '_i28': '5 % 3',\n",
      " '_i29': '5 % 3   # 나머지',\n",
      " '_i3': '# map 이용하기\\n\\nlist(map(lambda x: x + 10, [1, 2, 3]))',\n",
      " '_i30': '# 몫과 나머지를 한 번에 구할 때\\n\\ndivmod(5, 3)',\n",
      " '_i31': \"print('a', 'b')\",\n",
      " '_i32': \"print('a', 'b', sep=',')\",\n",
      " '_i33': '# 리스트 출력시 join으로 묶기',\n",
      " '_i34': \"# 리스트 출력시 join으로 묶기\\n\\na = ['A', 'B']\\nprint(' '.join(a))\",\n",
      " '_i35': \"idx = 1\\nfruit = 'Apple'\",\n",
      " '_i36': 'idx = 1\\n'\n",
      "         \"fruit = 'Apple'\\n\"\n",
      "         '\\n'\n",
      "         \"print('{0}: {1}'.format(idx + 1, fruit))\\n\"\n",
      "         \"print('{}: {}'.format(idx + 1, fruit))\",\n",
      " '_i37': '# idx 값에 1 더해서 fruit와 함께 출력하기\\n'\n",
      "         'idx = 1\\n'\n",
      "         \"fruit = 'Apple'\\n\"\n",
      "         '\\n'\n",
      "         \"print('{0}: {1}'.format(idx + 1, fruit)) \\n\"\n",
      "         \"print('{}: {}'.format(idx + 1, fruit))   # 인덱스 생략 가능\",\n",
      " '_i38': \"print(f'{idx + 1}: {fruit}')\",\n",
      " '_i39': 'Class MyClass(object):\\n'\n",
      "         '    def method_a(self):\\n'\n",
      "         '    \\n'\n",
      "         '    def method_a(self):\\n'\n",
      "         '        print(\"Method B\")',\n",
      " '_i4': '# 리스트 컴프리헨션\\n\\n[n * 2 for n in range(1, 10+1) if n % 2 == 0]',\n",
      " '_i40': 'Class MyClass(object):\\n'\n",
      "         '    def method_a(self):\\n'\n",
      "         '    \\n'\n",
      "         '    def method_a(self):\\n'\n",
      "         '        print(\"Method B\")\\n'\n",
      "         '        \\n'\n",
      "         'c = MyClass()',\n",
      " '_i41': 'class MyClass(object):\\n'\n",
      "         '    def method_a(self):\\n'\n",
      "         '    \\n'\n",
      "         '    def method_a(self):\\n'\n",
      "         '        print(\"Method B\")\\n'\n",
      "         '        \\n'\n",
      "         'c = MyClass()',\n",
      " '_i42': 'class MyClass(object):\\n'\n",
      "         '    def method_a(self):\\n'\n",
      "         '        # 여기에 pass 추가\\n'\n",
      "         '        pass\\n'\n",
      "         '    \\n'\n",
      "         '    def method_a(self):\\n'\n",
      "         '        print(\"Method B\")\\n'\n",
      "         '        \\n'\n",
      "         'c = MyClass()',\n",
      " '_i43': 'import pprint\\npprint.pprint(locals())',\n",
      " '_i44': 'import pprint\\nprint(locals())',\n",
      " '_i45': 'import pprint\\npprint.pprint(locals())',\n",
      " '_i5': '# 리스트 컴프리헨션\\n\\n[n * 2 for n in range(1, 10+1) if n % 2 == 1]',\n",
      " '_i6': 'original.items()',\n",
      " '_i7': 'def get_natural_number():\\n'\n",
      "        '    n = 0\\n'\n",
      "        '    while True:\\n'\n",
      "        '        n += 1\\n'\n",
      "        '        yield n',\n",
      " '_i8': 'get_natural_number()',\n",
      " '_i9': 'g = get_natural_number()\\nfor _ in range(0, 100):\\n    print(next(g))',\n",
      " '_ih': ['',\n",
      "         '# map 이용하기\\n\\nlist(map(Lamda x: x + 10, [1, 2, 3]))',\n",
      "         '# map 이용하기\\n\\nlist(map(lamda x: x + 10, [1, 2, 3]))',\n",
      "         '# map 이용하기\\n\\nlist(map(lambda x: x + 10, [1, 2, 3]))',\n",
      "         '# 리스트 컴프리헨션\\n\\n[n * 2 for n in range(1, 10+1) if n % 2 == 0]',\n",
      "         '# 리스트 컴프리헨션\\n\\n[n * 2 for n in range(1, 10+1) if n % 2 == 1]',\n",
      "         'original.items()',\n",
      "         'def get_natural_number():\\n'\n",
      "         '    n = 0\\n'\n",
      "         '    while True:\\n'\n",
      "         '        n += 1\\n'\n",
      "         '        yield n',\n",
      "         'get_natural_number()',\n",
      "         'g = get_natural_number()\\n'\n",
      "         'for _ in range(0, 100):\\n'\n",
      "         '    print(next(g))',\n",
      "         'g = get_natural_number()\\nfor _ in range(0, 10):\\n    print(next(g))',\n",
      "         \"def generator():\\n    yield 1\\n    yield 'string'\\n    yield True\",\n",
      "         'g = generator()\\ng',\n",
      "         'next(g)',\n",
      "         'next(g)',\n",
      "         'next(g)',\n",
      "         'list(range(5))',\n",
      "         'range(0, 5)',\n",
      "         'type(range(5))',\n",
      "         \"for i in range(5):\\n    print(i, end=' ')\",\n",
      "         'a = range(5)\\na[2]',\n",
      "         'a = [1, 2, 3, 2, 45, 2, 5]\\na',\n",
      "         'enumerate(a)',\n",
      "         'list(enumerate(a))',\n",
      "         'for i, v in enumerate(a):\\n    print(i, v)',\n",
      "         '5 / 3',\n",
      "         '5 // 3',\n",
      "         'int(5/3)',\n",
      "         '5 % 3',\n",
      "         '5 % 3   # 나머지',\n",
      "         '# 몫과 나머지를 한 번에 구할 때\\n\\ndivmod(5, 3)',\n",
      "         \"print('a', 'b')\",\n",
      "         \"print('a', 'b', sep=',')\",\n",
      "         '# 리스트 출력시 join으로 묶기',\n",
      "         \"# 리스트 출력시 join으로 묶기\\n\\na = ['A', 'B']\\nprint(' '.join(a))\",\n",
      "         \"idx = 1\\nfruit = 'Apple'\",\n",
      "         'idx = 1\\n'\n",
      "         \"fruit = 'Apple'\\n\"\n",
      "         '\\n'\n",
      "         \"print('{0}: {1}'.format(idx + 1, fruit))\\n\"\n",
      "         \"print('{}: {}'.format(idx + 1, fruit))\",\n",
      "         '# idx 값에 1 더해서 fruit와 함께 출력하기\\n'\n",
      "         'idx = 1\\n'\n",
      "         \"fruit = 'Apple'\\n\"\n",
      "         '\\n'\n",
      "         \"print('{0}: {1}'.format(idx + 1, fruit)) \\n\"\n",
      "         \"print('{}: {}'.format(idx + 1, fruit))   # 인덱스 생략 가능\",\n",
      "         \"print(f'{idx + 1}: {fruit}')\",\n",
      "         'Class MyClass(object):\\n'\n",
      "         '    def method_a(self):\\n'\n",
      "         '    \\n'\n",
      "         '    def method_a(self):\\n'\n",
      "         '        print(\"Method B\")',\n",
      "         'Class MyClass(object):\\n'\n",
      "         '    def method_a(self):\\n'\n",
      "         '    \\n'\n",
      "         '    def method_a(self):\\n'\n",
      "         '        print(\"Method B\")\\n'\n",
      "         '        \\n'\n",
      "         'c = MyClass()',\n",
      "         'class MyClass(object):\\n'\n",
      "         '    def method_a(self):\\n'\n",
      "         '    \\n'\n",
      "         '    def method_a(self):\\n'\n",
      "         '        print(\"Method B\")\\n'\n",
      "         '        \\n'\n",
      "         'c = MyClass()',\n",
      "         'class MyClass(object):\\n'\n",
      "         '    def method_a(self):\\n'\n",
      "         '        # 여기에 pass 추가\\n'\n",
      "         '        pass\\n'\n",
      "         '    \\n'\n",
      "         '    def method_a(self):\\n'\n",
      "         '        print(\"Method B\")\\n'\n",
      "         '        \\n'\n",
      "         'c = MyClass()',\n",
      "         'import pprint\\npprint.pprint(locals())',\n",
      "         'import pprint\\nprint(locals())',\n",
      "         'import pprint\\npprint.pprint(locals())'],\n",
      " '_ii': 'import pprint\\npprint.pprint(locals())',\n",
      " '_iii': 'class MyClass(object):\\n'\n",
      "         '    def method_a(self):\\n'\n",
      "         '        # 여기에 pass 추가\\n'\n",
      "         '        pass\\n'\n",
      "         '    \\n'\n",
      "         '    def method_a(self):\\n'\n",
      "         '        print(\"Method B\")\\n'\n",
      "         '        \\n'\n",
      "         'c = MyClass()',\n",
      " '_oh': {3: [11, 12, 13],\n",
      "         4: [4, 8, 12, 16, 20],\n",
      "         5: [2, 6, 10, 14, 18],\n",
      "         8: <generator object get_natural_number at 0x000001342C14C0C8>,\n",
      "         12: <generator object generator at 0x000001342C14C748>,\n",
      "         13: 1,\n",
      "         14: 'string',\n",
      "         15: True,\n",
      "         16: [0, 1, 2, 3, 4],\n",
      "         17: range(0, 5),\n",
      "         18: <class 'range'>,\n",
      "         20: 2,\n",
      "         21: [1, 2, 3, 2, 45, 2, 5],\n",
      "         22: <enumerate object at 0x000001342C155368>,\n",
      "         23: [(0, 1), (1, 2), (2, 3), (3, 2), (4, 45), (5, 2), (6, 5)],\n",
      "         25: 1.6666666666666667,\n",
      "         26: 1,\n",
      "         27: 1,\n",
      "         28: 2,\n",
      "         29: 2,\n",
      "         30: (1, 2)},\n",
      " 'a': ['A', 'B'],\n",
      " 'c': <__main__.MyClass object at 0x000001342C165F08>,\n",
      " 'exit': <IPython.core.autocall.ZMQExitAutocall object at 0x000001342C0314C8>,\n",
      " 'fruit': 'Apple',\n",
      " 'g': <generator object generator at 0x000001342C14C748>,\n",
      " 'generator': <function generator at 0x000001342C14B828>,\n",
      " 'get_ipython': <bound method InteractiveShell.get_ipython of <ipykernel.zmqshell.ZMQInteractiveShell object at 0x000001342BF18948>>,\n",
      " 'get_natural_number': <function get_natural_number at 0x000001342C14B678>,\n",
      " 'i': 6,\n",
      " 'idx': 1,\n",
      " 'pprint': <module 'pprint' from 'C:\\\\Users\\\\hj\\\\Anaconda3\\\\envs\\\\test_ten\\\\lib\\\\pprint.py'>,\n",
      " 'quit': <IPython.core.autocall.ZMQExitAutocall object at 0x000001342C0314C8>,\n",
      " 'v': 5}\n"
     ]
    }
   ],
   "source": [
    "import pprint\n",
    "pprint.pprint(locals())  # pprint로 출력하면 줄바꿈 처리가 되어 가독성이 높음"
   ]
  },
  {
   "cell_type": "code",
   "execution_count": null,
   "metadata": {},
   "outputs": [],
   "source": []
  }
 ],
 "metadata": {
  "kernelspec": {
   "display_name": "Python 3",
   "language": "python",
   "name": "python3"
  },
  "language_info": {
   "codemirror_mode": {
    "name": "ipython",
    "version": 3
   },
   "file_extension": ".py",
   "mimetype": "text/x-python",
   "name": "python",
   "nbconvert_exporter": "python",
   "pygments_lexer": "ipython3",
   "version": "3.7.7"
  }
 },
 "nbformat": 4,
 "nbformat_minor": 4
}
