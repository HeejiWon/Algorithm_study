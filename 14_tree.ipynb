{
 "cells": [
  {
   "cell_type": "markdown",
   "metadata": {},
   "source": [
    "### 트리\n",
    "- 계층형 트리 구조를 시뮬레이션 하는 추상 자료형(ADT)으로, 루트 값과 부모-자식 관계의 서브트리로 구성되며, 서로 연결된 노드의 집합\n",
    "- 트리의 중요한 속성은 __재귀로 정의된 자기 참조 자료구조__라는 점 (즉, 자식도 트리고 그 자식도 트리)"
   ]
  },
  {
   "cell_type": "markdown",
   "metadata": {},
   "source": [
    "### 1) 트리의 각 명칭\n",
    "- 항상 루트에서부터 시작되며, 루트는 자식 노드를 가지고 간선(Edge)로 연결됨\n",
    "\n",
    "> - 차수 : 자식 노드의 개수\n",
    "> - 크기 : 자신을 포함한 모든 자식 노드의 개수\n",
    "> - 높이 : 현재 위치에서부터 Leaf까지의 거리\n",
    "> - 깊이 : 루트에서 현재 노드까지의 거리\n",
    "\n",
    "\n",
    "<img src='img/14_1.png' width='400'>\n",
    "\n",
    "\n",
    "- 레벨은 일반적으로 0에서부터 시작\n",
    "- 트리는 항상 단방향 (위에서 아래로)\n",
    "\n",
    "### 2) 그래프 vs 트리\n",
    "- 가장 두드러지는 차이점은 '__트리는 순환 구조를 갖지 않는 그래프__'라는 점이다\n",
    "- 트리는 특수한 형태의 그래프의 일종이지만, 그래프와 달리 어떤한 경우에도 한번 연결된 노드가 다시 연결되는 법이 없다\n",
    "- 이외에도 단방향, 양방향을 모두 가리킬 수 있는 그래프와 달리, 트리는 부모 노드에서 자식 노드를 가리키는 단방향뿐!\n",
    "- 또한, 트리는 하나의 부모 노드를 가져야 하며, 루트 또한 하나여야 한다\n",
    "- 트리가 아닌 예\n",
    "\n",
    "<img src='img/14_2.png' width='400'>\n",
    "\n",
    "### 3) 이진 트리\n",
    "- 트리 중 가장 널리 사용되는 트리 자료구조는 이진 트리와 이진 탐색 트리(BST)이다\n",
    "- 이진 트리 : 모든 노드의 차수가 2이하인 트리\n",
    "<img src='img/14_3.png' width='400'>\n",
    "\n",
    "> - 정 이진 트리 : 모든 노드가 0개 또는 2개의 자식 노드를 갖는다\n",
    "- 완전 이진 트리 : 마지막 레벨을 제외하고 모든 레벨이 완전히 채워져 있으며, 마지막 레벨의 모든 노드는 가장 왼쪽부터 채워져 있다\n",
    "- 포화 이진 트린 : 모든 노드가 2개의 자식 모드를 갖고 있으며, 모든 리프 노드가 동일한 깊이 또는 레벨을 가짐"
   ]
  },
  {
   "cell_type": "markdown",
   "metadata": {},
   "source": [
    "### 42번. 이진 트리의 최대 깊이\n",
    "- 이진 트리의 최대 깊이를 구하라"
   ]
  },
  {
   "cell_type": "code",
   "execution_count": 1,
   "metadata": {},
   "outputs": [],
   "source": [
    "class TreeNode:\n",
    "    def __init__(self, val=0, left=None, right=None):\n",
    "        self.val = val\n",
    "        self.left = left\n",
    "        self.right = right"
   ]
  },
  {
   "cell_type": "code",
   "execution_count": 103,
   "metadata": {},
   "outputs": [],
   "source": [
    "bt = TreeNode(3, TreeNode(9), TreeNode(20, TreeNode(15), TreeNode(7)))"
   ]
  },
  {
   "cell_type": "markdown",
   "metadata": {},
   "source": [
    "#### 시도\n",
    "- 우선순위 큐는 최소힙을 지원하므로, 큐에 (-깊이, 노드)를 넣어서 할 수 있을 것\n",
    "- 노드를 '>' 연산을 할 수 없으므로, 노드를 바로 넣는 것이 아니라 node_list를 만들어 node_list에 해당하는 인덱스를 넣음"
   ]
  },
  {
   "cell_type": "code",
   "execution_count": 68,
   "metadata": {},
   "outputs": [],
   "source": [
    "import heapq\n",
    "import collections"
   ]
  },
  {
   "cell_type": "code",
   "execution_count": 106,
   "metadata": {},
   "outputs": [],
   "source": [
    "def sol(bt):\n",
    "    \n",
    "    Q = [(-1, 0)]\n",
    "    node_list = [bt]\n",
    "    i = idx = 0\n",
    "    \n",
    "    min_depth = -1\n",
    "    \n",
    "    while Q:\n",
    "        depth, idx = heapq.heappop(Q)\n",
    "        node = node_list[idx]\n",
    "        if depth > min_depth:\n",
    "            continue\n",
    "        min_depth = depth\n",
    "        \n",
    "        if node.left:\n",
    "            i += 1\n",
    "            heapq.heappush(Q, (depth-1, i))\n",
    "            node_list.append(node.left)\n",
    "            \n",
    "        if node.right:\n",
    "            i += 1\n",
    "            heapq.heappush(Q, (depth-1, i))\n",
    "            node_list.append(node.right)\n",
    "        \n",
    "    return -min_depth"
   ]
  },
  {
   "cell_type": "code",
   "execution_count": 107,
   "metadata": {},
   "outputs": [
    {
     "data": {
      "text/plain": [
       "3"
      ]
     },
     "execution_count": 107,
     "metadata": {},
     "output_type": "execute_result"
    }
   ],
   "source": [
    "sol(bt)"
   ]
  },
  {
   "cell_type": "markdown",
   "metadata": {},
   "source": [
    "#### 정답\n",
    "#### 1) 반복 구조로 BFS 풀이"
   ]
  },
  {
   "cell_type": "code",
   "execution_count": 118,
   "metadata": {},
   "outputs": [],
   "source": [
    "def maxDepth(root: TreeNode) -> int:\n",
    "    if root is None:\n",
    "        return 0\n",
    "    queue = collections.deque([root])\n",
    "    depth = 0\n",
    "    \n",
    "    while queue:\n",
    "        depth += 1\n",
    "        # 큐 연산 추출 노드의 자식 노드 삽입\n",
    "        for _ in range(len(queue)):\n",
    "            cur_root = queue.popleft()\n",
    "            if cur_root.left:\n",
    "                queue.append(cur_root.left)\n",
    "            if cur_root.right:\n",
    "                queue.append(cur_root.right)\n",
    "        \n",
    "    # BFS 반복 횟수 == 깊이\n",
    "    return depth"
   ]
  },
  {
   "cell_type": "code",
   "execution_count": 119,
   "metadata": {},
   "outputs": [
    {
     "name": "stdout",
     "output_type": "stream",
     "text": [
      "deque([<__main__.TreeNode object at 0x0000020F2DE1D108>, <__main__.TreeNode object at 0x0000020F2DE1D188>])\n",
      "deque([<__main__.TreeNode object at 0x0000020F2DE1D088>, <__main__.TreeNode object at 0x0000020F2DE1D608>])\n",
      "deque([])\n"
     ]
    },
    {
     "data": {
      "text/plain": [
       "3"
      ]
     },
     "execution_count": 119,
     "metadata": {},
     "output_type": "execute_result"
    }
   ],
   "source": [
    "maxDepth(bt)"
   ]
  },
  {
   "cell_type": "markdown",
   "metadata": {},
   "source": [
    "### 43번. 이진 트리의 직경\n",
    "- 이진 트리에서 두 노드 간 가장 긴 경로의 길이를 출력"
   ]
  },
  {
   "cell_type": "code",
   "execution_count": 123,
   "metadata": {},
   "outputs": [],
   "source": [
    "bt = TreeNode(1, TreeNode(2, TreeNode(4), TreeNode(5)), TreeNode(3))  # 3"
   ]
  },
  {
   "cell_type": "markdown",
   "metadata": {},
   "source": [
    "#### 시도\n",
    "- 루트를 기준으로 왼쪽 깊이와 오른쪽 깊이를 더함"
   ]
  },
  {
   "cell_type": "markdown",
   "metadata": {},
   "source": [
    "#### 정답\n",
    "#### 1) 상태값 누적 트리 DFS\n",
    "<img src='img/14_4.png' width='300'>"
   ]
  },
  {
   "cell_type": "code",
   "execution_count": 122,
   "metadata": {},
   "outputs": [],
   "source": [
    "class Solution:\n",
    "    longest: int = 0\n",
    "    \n",
    "    def diameterOfBinaryTree(self, root: TreeNode) -> int:\n",
    "        def dfs(node: TreeNode) -> int:\n",
    "            if not node:\n",
    "                return -1\n",
    "            # 왼쪽, 오른쪽의 각 리프 노드까지 탐색\n",
    "            left = dfs(node.left)\n",
    "            right = dfs(node.right)\n",
    "            \n",
    "            # 가장 긴 경로\n",
    "            self.longest = max(self.longest, left+right+2)  \n",
    "            \n",
    "            # 상태값\n",
    "            return max(left, right) + 1  \n",
    "                                            \n",
    "        \n",
    "        dfs(root)\n",
    "        return self.longest"
   ]
  },
  {
   "cell_type": "markdown",
   "metadata": {},
   "source": [
    "<img src='img/14_5.png' width='500'>"
   ]
  },
  {
   "cell_type": "markdown",
   "metadata": {},
   "source": [
    "#### cf) 중첩 함수에서 클래스 변수를 사용한 이유\n",
    "- 중첩 함수에서 부모 함수의 변수를 재할당하게 되면 참조 ID가 변경되며 별도의 로컬 변수로 선언되므로\n",
    "- 숫자나 문자가 아니라 리스트나 딕셔너리 자료형이라면 append 등을 사용할 수 있지만, 숫자난 문자는 불변 객체이므로 중첩 함수 내에서는 값을 변경할 수 없음"
   ]
  },
  {
   "cell_type": "markdown",
   "metadata": {},
   "source": [
    "### 44번. 가장 긴 동일 값의 경로"
   ]
  },
  {
   "cell_type": "markdown",
   "metadata": {},
   "source": [
    "- 동일한 값을 지닌 가장 긴 경로를 찾아라 (5->5->5)"
   ]
  },
  {
   "cell_type": "markdown",
   "metadata": {},
   "source": [
    "#### 시도\n",
    "- 자식노드에 부모노드와 같은 값이 있을 때, 최대한 깊이 간 다음 max length로 설정"
   ]
  },
  {
   "cell_type": "markdown",
   "metadata": {},
   "source": [
    "#### 정답\n",
    "- 43번의 이진 트리의 직경문제와 매우 유사\n",
    "- 리프노드까지 DFS로 탐색해 내려간 다음, 값이 일치할 경우 아래와 같이 거리를 차곡차곡 쌓아올려가며 백트래킹 형태로 풀이\n",
    "<img src='img/14_6.png' width='200'>"
   ]
  },
  {
   "cell_type": "code",
   "execution_count": null,
   "metadata": {},
   "outputs": [],
   "source": [
    "class Solution:\n",
    "    result: int = 0\n",
    "        \n",
    "    def longestUnivaluePath(self, root: TreeNode) -> int:\n",
    "        def dfs(node: TreeNode):\n",
    "            if node is None:\n",
    "                return 0\n",
    "            \n",
    "            # 존재하지 않는 노드까지 DFS 재귀 탐색\n",
    "            left = dfs(node.left)\n",
    "            right = dfs(node.right)\n",
    "            \n",
    "            # 현재 노드가 자식 노드와 동일한 경우 거리 1 증가\n",
    "            if node.left and node.left.val == node.val:\n",
    "                left += 1\n",
    "            else:\n",
    "                left = 0\n",
    "                \n",
    "            if node.right and node.right.val == node.val:\n",
    "                right += 1\n",
    "            else:\n",
    "                right = 0\n",
    "            \n",
    "            # 왼쪽과 오른쪽 자식 노드 간 거리의 합 최댓값이 결과\n",
    "            self.result = max(self.result, left + right)\n",
    "            # 자식 노드 상태값 중 큰 값 리턴\n",
    "            return max(left, right)\n",
    "        \n",
    "        dfs(root)\n",
    "        return self.result"
   ]
  },
  {
   "cell_type": "markdown",
   "metadata": {},
   "source": [
    "### 45. 이진 트리 반전\n",
    "<img src='img/14_7.png' width='250'>"
   ]
  },
  {
   "cell_type": "code",
   "execution_count": 131,
   "metadata": {},
   "outputs": [],
   "source": [
    "bt = TreeNode(4, TreeNode(2, TreeNode(1), TreeNode(3)), TreeNode(7, TreeNode(6), TreeNode(9)))"
   ]
  },
  {
   "cell_type": "markdown",
   "metadata": {},
   "source": [
    "#### 시도"
   ]
  },
  {
   "cell_type": "code",
   "execution_count": 132,
   "metadata": {},
   "outputs": [],
   "source": [
    "def reverse(node):\n",
    "    \n",
    "    if not node:\n",
    "        return node\n",
    "\n",
    "    node.left, node.right = reverse(node.right), reverse(node.left)        \n",
    "    return node\n",
    "\n",
    "reverse_bt = reverse(bt)"
   ]
  },
  {
   "cell_type": "code",
   "execution_count": 139,
   "metadata": {},
   "outputs": [
    {
     "data": {
      "text/plain": [
       "<__main__.TreeNode at 0x20f2de45cc8>"
      ]
     },
     "execution_count": 139,
     "metadata": {},
     "output_type": "execute_result"
    }
   ],
   "source": [
    "reverse_bt"
   ]
  },
  {
   "cell_type": "markdown",
   "metadata": {},
   "source": [
    "#### 정답\n",
    "#### 1) 파이썬다운 방식"
   ]
  },
  {
   "cell_type": "code",
   "execution_count": 140,
   "metadata": {},
   "outputs": [],
   "source": [
    "def invertTree(root: TreeNode) -> TreeNode:\n",
    "    if root:\n",
    "        root.left, root.right = invertTree(root.right), invertTree(root.left)\n",
    "        return root\n",
    "    return None"
   ]
  },
  {
   "cell_type": "markdown",
   "metadata": {},
   "source": [
    "#### 2) 반복 구조로 BFS\n",
    "- 42번 이진 트리의 최대 깊이 문제를 풀었을 때와 유사하게"
   ]
  },
  {
   "cell_type": "code",
   "execution_count": null,
   "metadata": {},
   "outputs": [],
   "source": [
    "def invertTree(root: TreeNode) -> TreeNode:\n",
    "    queue = collections.deque([root])\n",
    "    \n",
    "    while queue:\n",
    "        node = queue.popleft()\n",
    "        # 부모 노드부터 하향식 스왑\n",
    "        if node:\n",
    "            node.left, node.right = node.right, node.left\n",
    "            \n",
    "            queue.append(node.left)\n",
    "            queue.append(node.right)\n",
    "            \n",
    "    return root"
   ]
  },
  {
   "cell_type": "markdown",
   "metadata": {},
   "source": [
    "#### 3) 반복 구조로 DFS\n",
    "- DFS로 풀이하기 위해 딱 한줄만 수정"
   ]
  },
  {
   "cell_type": "code",
   "execution_count": null,
   "metadata": {},
   "outputs": [],
   "source": [
    "def invertTree(root: TreeNode) -> TreeNode:\n",
    "    stack = collections.deque([root])\n",
    "    \n",
    "    while queue:\n",
    "        node = stack.pop()\n",
    "        # 부모 노드부터 하향식 스왑\n",
    "        if node:\n",
    "            node.left, node.right = node.right, node.left\n",
    "            \n",
    "            stack.append(node.left)\n",
    "            stack.append(node.right)\n",
    "            \n",
    "    return root"
   ]
  },
  {
   "cell_type": "markdown",
   "metadata": {},
   "source": [
    "#### 4) 반복 구조로 DFS 후위 순위\n",
    "- 위의 풀이는 전위(Pre-Order) 순회 형태로 처리했지만 다음과 같이 후위(Post-Order) 순회로 변경할 수도 있다.\n",
    "- 단지 탐색 순서만 달라질 뿐 (순회 방식은 뒤의 '트리 순회'에서 자세히 소개함)"
   ]
  },
  {
   "cell_type": "code",
   "execution_count": 141,
   "metadata": {},
   "outputs": [],
   "source": [
    "def invertTree(root: TreeNode) -> TreeNode:\n",
    "    stack = collections.deque([root])\n",
    "    \n",
    "    while queue:\n",
    "        node = stack.pop()\n",
    "        \n",
    "        if node:\n",
    "            stack.append(node.left)\n",
    "            stack.append(node.right)\n",
    "            \n",
    "            node.left, node.right = node.right, node.left\n",
    "            \n",
    "    return root"
   ]
  },
  {
   "cell_type": "markdown",
   "metadata": {},
   "source": [
    "### 46번. 두 이진 트리 병합\n",
    "<img src='img/14_8.png' width='450'>"
   ]
  },
  {
   "cell_type": "code",
   "execution_count": 142,
   "metadata": {},
   "outputs": [],
   "source": [
    "bt1 = TreeNode(1, TreeNode(3, TreeNode(5)), TreeNode(2))\n",
    "bt2 = TreeNode(2, TreeNode(1, None, TreeNode(4)), TreeNode(3, None, TreeNode(7)))"
   ]
  },
  {
   "cell_type": "markdown",
   "metadata": {},
   "source": [
    "#### 시도\n",
    "- 두 트리를 DFS로 같은 위치를 탐색하면서 새로운 트리에 병합하기"
   ]
  },
  {
   "cell_type": "markdown",
   "metadata": {},
   "source": [
    "#### 정답\n",
    "#### 1) 재귀 탐색\n",
    "- 다양한 방식으로 풀이 가능하나 여기서는 간단한 재귀 풀이만 살펴봄"
   ]
  },
  {
   "cell_type": "code",
   "execution_count": 143,
   "metadata": {},
   "outputs": [],
   "source": [
    "def mergeTrees(t1: TreeNode, t2: TreeNode) -> TreeNode:\n",
    "    if t1 and t2:\n",
    "        node = TreeNode(t1.val + t2.val)\n",
    "        node.left = mergeTrees(t1.left, t2.left)\n",
    "        node.right = mergeTrees(t1.right, t2.right)\n",
    "        \n",
    "        return node\n",
    "    \n",
    "    else:\n",
    "        return t1 or t2"
   ]
  },
  {
   "cell_type": "markdown",
   "metadata": {},
   "source": [
    "### 47번. 이진 트리 직렬화  & 역직렬화\n",
    "<img src='img/14_9.png' width='500'>\n",
    "> - '이진 트리' 데이터 구조는 논리적인 구조이며 이를 파일이나 디스크에 저장하기 위해서는 물리적인 형태로 바꿔줘야 하는데, 이를 직렬화(Serialize)라고 함 (반대는 역직렬화)\n",
    "\n",
    "\n",
    "> - 파이썬에서는 pickle 이라는 직렬화 모듈을 기본으로 제공 (이 모듈의 이름으로 인해 파이썬 객체의 계층 구조를 바이트 스트림으로 변경하는 것을 피클링이라고도 함)\n",
    "\n",
    "\n",
    "<center> <이진 힙의 배열 표현> </center>\n",
    "<img src='img/14_10.png' width='400'>\n",
    "\n",
    "\n",
    ">- 이집 힙은 완전 이진 트리로, 배열로 표현하기 좋은 구조이다. 깊이는 1, 2, 4, 8, ... 순으로 2배씩 증가\n",
    "- 완전 이진 트리의 형태가 아니어도 비어있는 위치는 얼마든지 Null로 표현가능\n",
    "\n",
    "\n",
    "<br/>\n",
    "\n",
    "\n",
    "<center> <이진 트리의 BFS 탐색 결과 표현> </center>\n",
    "<img src='img/14_11.png' width='400'>\n",
    "> - DFS로 구현할수도 있지만, BFS로 구현하는 것이 더 직관적\n",
    "- 또한, 간편한 계산을 위해 배열은 1번 인덱스부터 시작되는 형태로 표현\n",
    "- 위의 결과는 [#, A, B, C, #, #, D, E]"
   ]
  },
  {
   "cell_type": "code",
   "execution_count": 150,
   "metadata": {},
   "outputs": [],
   "source": [
    "class Codec:\n",
    "    # 직렬화\n",
    "    def serialize(self, root: TreeNode) -> str:\n",
    "        queue = collections.deque([root])\n",
    "        result = ['#']\n",
    "        # 트리로 BFS 직렬화\n",
    "        while queue:\n",
    "            node = queue.popleft()\n",
    "            if node:\n",
    "                queue.append(node.left)\n",
    "                queue.append(node.right)\n",
    "                \n",
    "                result.append(str(node.val))\n",
    "            else:\n",
    "                result.append('#')\n",
    "            \n",
    "        return ' '.join(result)\n",
    "    \n",
    "    \n",
    "    # 역직렬화\n",
    "    def deserialize(self, data: str) -> TreeNode:\n",
    "            \n",
    "        # 예외 처리\n",
    "        if data == '# #':\n",
    "            return None\n",
    "        \n",
    "        nodes = data.split()\n",
    "        \n",
    "        root = TreeNode(int(nodes[1]))\n",
    "        queue = collections.deque([root])\n",
    "        index = 2\n",
    "        \n",
    "        # 빠른 런너처럼 자식 노드 결과를 먼저 확인 후 큐 삽입\n",
    "        while queue:\n",
    "            node = queue.popleft()\n",
    "            if nodes[index] is not '#':\n",
    "                node.left = TreeNode(int(nodes[index]))\n",
    "                queue.append(node.left)\n",
    "            index += 1\n",
    "            \n",
    "            if nodes[index] is not '#':\n",
    "                node.right = TreeNode(int(nodes[index]))\n",
    "                queue.append(node.right)\n",
    "            index += 1\n",
    "        return root"
   ]
  },
  {
   "cell_type": "markdown",
   "metadata": {},
   "source": [
    "### 48번. 균형 이진 트리\n",
    "- 이진 트리가 높이 균형 (Height-Balanced) 인지 판단하라\n",
    "- 높이 균형 : 모든 노드의 서브 트리 간의 높이 차이가 1 이하인 것을 말함\n",
    "\n",
    "<img src='img/14_12.png' width='450'>"
   ]
  },
  {
   "cell_type": "markdown",
   "metadata": {},
   "source": [
    "#### 정답\n",
    "#### 1) 재귀 구조로 높이 차이 계산\n",
    "<img src='img/14_13.png' width='175'>"
   ]
  },
  {
   "cell_type": "code",
   "execution_count": null,
   "metadata": {},
   "outputs": [],
   "source": [
    "def isBalanced(root: TreeNode) -> bool:\n",
    "    def check(root):\n",
    "        if not root:\n",
    "            return 0\n",
    "        \n",
    "        left = check(root.left)\n",
    "        right = check(root,right)\n",
    "        \n",
    "        # 높이 차이가 나는 경우의 리턴값을 -1. 이외에는 높이에 따라 차이가 1 증가\n",
    "        if left == -1 or right == -1 or abs(left - right) > 1:\n",
    "            return -1\n",
    "        return max(left, right) + 1\n",
    "    \n",
    "    return check(root) != -1"
   ]
  },
  {
   "cell_type": "markdown",
   "metadata": {},
   "source": [
    "### 49번. 최소 높이 트리\n",
    "- 노드 개수와 무방향 그래프를 입력받아 전체 트리가 최소 높이가 되는 루트 목록을 리턴\n",
    "- 무방향 그래프이므로 아래에서 위로, 위에서 아래로 모두 가능\n",
    "<img src='img/14_14.png' width='500'>"
   ]
  },
  {
   "cell_type": "markdown",
   "metadata": {},
   "source": [
    "#### 정답\n",
    "#### 1) 단계별 리프 노드 제거\n",
    "- 최소 높이를 구성하려면 가장 가운데에 있는 값이 루트여야!\n",
    "- 리프 노드를 하나씩 제거해 나가면서 남아 있는 값 찾기\n",
    "<img src='img/14_15.png' width='150'>\n",
    "<img src='img/14_16.png' width='150'>\n",
    "<img src='img/14_17.png' width='200'>"
   ]
  },
  {
   "cell_type": "code",
   "execution_count": 144,
   "metadata": {},
   "outputs": [],
   "source": [
    "def findMinHeightTrees(n: int, edges: list) -> list:\n",
    "    if n <= 1:\n",
    "        return [0]\n",
    "    \n",
    "    # 양방향 그래프 구성\n",
    "    graph = collections.defaultdict(list)\n",
    "    for i, j in edges:\n",
    "        graph[i].append(j)\n",
    "        graph[j].append(i)\n",
    "        \n",
    "    # 첫 번재 리프 노드 추가\n",
    "    leaves = []\n",
    "    for i in range(n + 1):\n",
    "        if len(graph[i]) == 1:\n",
    "            leaves.append(i)\n",
    "    \n",
    "    # 루트 노드만 남을 때까지 반복 제거\n",
    "    while n > 2:\n",
    "        n -= len(leaves)\n",
    "        for leaf in leaves:\n",
    "            neighbor = graph[leaf].pop()  # leaf 제거 후, neighbor의 graph에도 삭제\n",
    "            graph[neighbor].remove(leaf)\n",
    "            \n",
    "            if len(graph[neighbor]) == 1: # neighbor이 leaf 노드이면 new_leaves에 추가\n",
    "                new_leaves.append(neighbor)\n",
    "                \n",
    "        leaves = new_leaves\n",
    "    \n",
    "    return leaves"
   ]
  },
  {
   "cell_type": "markdown",
   "metadata": {},
   "source": [
    "### 4) 이진 탐색 트리 (BST)\n",
    "- 앞서 이진 트리는 정렬 여부와 관계없이 모든 노드가 둘 이하의 자식을 갖는 단순한 트리 형태를 말함\n",
    "- __이진 '탐색' 트리 : 정렬된 트리__\n",
    "\n",
    "\n",
    "- __노드의 왼쪽 서브트리에는 그 노드의 값보다 작은 값들을 지닌 노드들로 이뤄져 있으나, 노드의 오른쪽 서브트리에는 그 노드의 값과 같거나 큰 값들을 지닌 노드들로 이루어져 있는 트리__\n",
    "\n",
    "\n",
    "- 시간 복잡도가 $O(log n)$으로 훌륭하나, 트리의 모양이 나쁘면 O(n)에 근접할 수 있음 (ex. 1->2->3->4->5 이런 경우) => 이 경우, 자가 균형 이진 탐색 트리 이용!\n",
    "<img src='img/14_18.png' width='200'>"
   ]
  },
  {
   "cell_type": "markdown",
   "metadata": {},
   "source": [
    "#### cf) 자가 균형 이진 탐색 트리\n",
    "- 자가 균형(또는 높이 균형) 이진 탐색 트리는 삽입, 삭제 시 자동으로 높이를 작게 유지하는 노드 기반의 이진 탐색 트리\n",
    "- 대표적인 형태로는 __AVL 트리와 레드-블랙 트리__ 등이 있으며, 특히 레드-블랙 트리는 높은 효율성으로 인해 실무에서도 빈번하게 쓰이는 트리 형태이다\n",
    "\n",
    "<img src='img/14_19.png' width='350'>"
   ]
  },
  {
   "cell_type": "markdown",
   "metadata": {},
   "source": [
    "### 50. 정렬된 배열의 이진 탐색 트리 변환\n",
    "- 오름차순으로 정렬된 배열을 높이 균형 이진 탐색 트리로 변환"
   ]
  },
  {
   "cell_type": "markdown",
   "metadata": {},
   "source": [
    "#### 정답\n",
    "#### 1) 이진 검색 결과로 트리 구성\n",
    "<img src='img/14_20.png' width='200'>"
   ]
  },
  {
   "cell_type": "code",
   "execution_count": 145,
   "metadata": {},
   "outputs": [],
   "source": [
    "def sortedArrayToBST(nums: list) -> TreeNode:\n",
    "    if not nums:\n",
    "        return None\n",
    "    \n",
    "    mid = len(nums) // 2\n",
    "    \n",
    "    # 분할 정복으로 이진 검색 결과 트리 구성\n",
    "    node = TreeNode(nums[mid])\n",
    "    node.left = sortedArrayToBST(nums[:mid])\n",
    "    node.right = sortedArrayToBST(nums[mid:])\n",
    "    \n",
    "    return node"
   ]
  },
  {
   "cell_type": "markdown",
   "metadata": {},
   "source": [
    "### 51. 이진 탐색 트리(BST)를 더 큰 수 합계 트리로\n",
    "- BST의 각 노드를 현재값보다 더 큰 값을 가진 모든 노드의 합으로 만들어라\n",
    "<img src='img/14_21.png' width='200'>"
   ]
  },
  {
   "cell_type": "markdown",
   "metadata": {},
   "source": [
    "#### 정답\n",
    "#### 1) 중회 순회로 노드 값 누적\n",
    "- 자신보다 같거나 큰 값을 구하려면 자기 자신을 포함한 우측 자식 노드의 합을 구하면 됨\n",
    "- BST의 우측 자식 노드는 항상 부모노드보다 큰 값이기 때문"
   ]
  },
  {
   "cell_type": "code",
   "execution_count": 58,
   "metadata": {},
   "outputs": [],
   "source": [
    "ex = TreeNode(4, TreeNode(1, TreeNode(0), TreeNode(2, None, TreeNode(3))), TreeNode(6, TreeNode(5), TreeNode(7, None, TreeNode(8))))"
   ]
  },
  {
   "cell_type": "code",
   "execution_count": 59,
   "metadata": {},
   "outputs": [],
   "source": [
    "class Solution:\n",
    "    val: int = 0\n",
    "    \n",
    "    def bstToGst(self, root: TreeNode) -> TreeNode:\n",
    "        # 중위 순회 노드 값 누적\n",
    "        if root:\n",
    "            self.bstToGst(root.right)\n",
    "            self.val += root.val\n",
    "            root.val = self.val\n",
    "            self.bstToGst(root.left)\n",
    "        \n",
    "        return root"
   ]
  },
  {
   "cell_type": "code",
   "execution_count": 60,
   "metadata": {},
   "outputs": [],
   "source": [
    "root = Solution().bstToGst(ex)"
   ]
  },
  {
   "cell_type": "code",
   "execution_count": 61,
   "metadata": {},
   "outputs": [
    {
     "data": {
      "text/plain": [
       "30"
      ]
     },
     "execution_count": 61,
     "metadata": {},
     "output_type": "execute_result"
    }
   ],
   "source": [
    "root.val"
   ]
  },
  {
   "cell_type": "markdown",
   "metadata": {},
   "source": [
    "### 52번. 이진 탐색 트리(BST) 합의 범위\n",
    "- 이진 탐색 트리(BST)가 주어졌을 때, L이상 R이하의 값을 지닌 노드의 합을 구하라"
   ]
  },
  {
   "cell_type": "code",
   "execution_count": 68,
   "metadata": {},
   "outputs": [],
   "source": [
    "root = TreeNode(10, TreeNode(5, TreeNode(3), TreeNode(7)), TreeNode(15, None, TreeNode(18)))"
   ]
  },
  {
   "cell_type": "markdown",
   "metadata": {},
   "source": [
    "#### 정답\n",
    "#### 1) 재귀 구조 DFS로 브루트 포스 탐색"
   ]
  },
  {
   "cell_type": "code",
   "execution_count": 69,
   "metadata": {},
   "outputs": [],
   "source": [
    "def rangeSumBST(root: TreeNode, L: int, R: int) -> int:\n",
    "    if not root:\n",
    "        return 0\n",
    "    \n",
    "    return (root.val if L <= root.val <= R else 0) + \\\n",
    "            rangeSumBST(root.left, L, R) + \\\n",
    "            rangeSumBST(root.right, L, R)"
   ]
  },
  {
   "cell_type": "code",
   "execution_count": 70,
   "metadata": {},
   "outputs": [
    {
     "data": {
      "text/plain": [
       "32"
      ]
     },
     "execution_count": 70,
     "metadata": {},
     "output_type": "execute_result"
    }
   ],
   "source": [
    "rangeSumBST(root, 7, 15)"
   ]
  },
  {
   "cell_type": "markdown",
   "metadata": {},
   "source": [
    "#### 2) DFS 가지치기로 필요한 노드 탐색\n",
    "- 불필요한 탐색은 배제하게 되므로 탐색 효율이 매우 높다"
   ]
  },
  {
   "cell_type": "code",
   "execution_count": 71,
   "metadata": {},
   "outputs": [],
   "source": [
    "def rangeSumBST(root: TreeNode, L: int, R: int) -> int:\n",
    "    def dfs(node: TreeNode):\n",
    "        if not node:\n",
    "            return 0\n",
    "        \n",
    "        if node.val < L:\n",
    "            return dfs(node.right)\n",
    "        elif node.val > R:\n",
    "            return dfs(node.left)\n",
    "        \n",
    "        return node.val + dfs(node.left) + dfs(node.right)\n",
    "    \n",
    "    return dfs(root)"
   ]
  },
  {
   "cell_type": "code",
   "execution_count": 72,
   "metadata": {},
   "outputs": [
    {
     "data": {
      "text/plain": [
       "32"
      ]
     },
     "execution_count": 72,
     "metadata": {},
     "output_type": "execute_result"
    }
   ],
   "source": [
    "rangeSumBST(root, 7, 15)"
   ]
  },
  {
   "cell_type": "markdown",
   "metadata": {},
   "source": [
    "#### 3) 반복 구조 DFS로 필요한 노드 탐색"
   ]
  },
  {
   "cell_type": "code",
   "execution_count": 73,
   "metadata": {},
   "outputs": [],
   "source": [
    "def rangeSumBST(root: TreeNode, L: int, R: int) -> int:\n",
    "    stack, sum = [root], 0\n",
    "    \n",
    "    # 스택 이용 필요한 노드 DFS 반복\n",
    "    while stack:\n",
    "        node = stack.pop()\n",
    "        if node:\n",
    "            if node.val > L:\n",
    "                stack.append(node.left)\n",
    "            if node.val < R:\n",
    "                stack.append(node.right)\n",
    "            if L <= node.val <= R:\n",
    "                sum += node.val\n",
    "            \n",
    "    return sum"
   ]
  },
  {
   "cell_type": "markdown",
   "metadata": {},
   "source": [
    "#### 4) 반복 구조 BFS로 필요한 노드 탐색\n",
    "- 스택을 단순히 큐로 바꿔서 BFS로 구현할 수 있음\n",
    "- 파이썬의 데크를 사용해야 성능을 높일 수 있지만, 여기서는 편의상 간단히 리스트를 pop(0)으로 구현"
   ]
  },
  {
   "cell_type": "code",
   "execution_count": 74,
   "metadata": {},
   "outputs": [],
   "source": [
    "def rangeSumBST(root: TreeNode, L: int, R: int) -> int:\n",
    "    stack, sum = [root], 0\n",
    "    \n",
    "    # 스택 이용 필요한 노드 DFS 반복\n",
    "    while stack:\n",
    "        node = stack.pop(0)\n",
    "        if node:\n",
    "            if node.val > L:\n",
    "                stack.append(node.left)\n",
    "            if node.val < R:\n",
    "                stack.append(node.right)\n",
    "            if L <= node.val <= R:\n",
    "                sum += node.val\n",
    "            \n",
    "    return sum"
   ]
  },
  {
   "cell_type": "markdown",
   "metadata": {},
   "source": [
    "### 53번. 이진 탐색 트리(BST) 노드 간 최소 거리\n",
    "- 두 노드 간 값의 차이가 가장 작은 노드의 값의 차이를 출력하라"
   ]
  },
  {
   "cell_type": "code",
   "execution_count": 75,
   "metadata": {},
   "outputs": [],
   "source": [
    "root = TreeNode(4, TreeNode(2, TreeNode(1), TreeNode(3)), TreeNode(6))"
   ]
  },
  {
   "cell_type": "markdown",
   "metadata": {},
   "source": [
    "#### 정답\n",
    "#### 1) 재귀 구조로 중위 순회\n",
    "\n",
    "<img src='img/14_23.png' width='150'>\n",
    "- 위의 BST에서, D와 가장 차이가 작을 수 있는 노드는 I와 G이다. (왼쪽으로 갈수록 값이 더 작아지기 때문)\n",
    "- 전체 트리에서 차이가 가장 낮은 노드를 비교하기 위해서는 아래와 같은 순서로 비교해야 함\n",
    "<img src='img/14_24.png' width='250'>"
   ]
  },
  {
   "cell_type": "code",
   "execution_count": 76,
   "metadata": {},
   "outputs": [],
   "source": [
    "import sys"
   ]
  },
  {
   "cell_type": "code",
   "execution_count": null,
   "metadata": {},
   "outputs": [],
   "source": [
    "class Solution:\n",
    "    prev = -sys.maxsize\n",
    "    result = sys.maxsize\n",
    "    \n",
    "    # 재귀 구조 중위 순회 비교 결과\n",
    "    def minDiffInBST(self, root: TreeNode) -> int:\n",
    "        if root.left:\n",
    "            self.minDiffInBST(root.left)\n",
    "            \n",
    "        self.result = min(self.result, root.val - self.prev)\n",
    "        self.prev = root.val  \n",
    "        \n",
    "        if root.right:\n",
    "            self.minDiffInBST(root.right)\n",
    "        \n",
    "        return self.result"
   ]
  },
  {
   "cell_type": "markdown",
   "metadata": {},
   "source": [
    "- 위의 BST에서 이 Solution을 진행한다면, root.val이 1, 2, 3 순으로 바뀜"
   ]
  },
  {
   "cell_type": "markdown",
   "metadata": {},
   "source": [
    "#### 2) 반복 구조로 중위 순회"
   ]
  },
  {
   "cell_type": "code",
   "execution_count": null,
   "metadata": {},
   "outputs": [],
   "source": [
    "# 재귀 구조 중위 순회 비교 결과\n",
    "def minDiffInBST(self, root: TreeNode) -> int:\n",
    "\n",
    "    # 함수내 prev, result 처리가능\n",
    "    prev = -sys.maxsize\n",
    "    result = sys.maxsize\n",
    "\n",
    "    stack = []\n",
    "    node = root\n",
    "        \n",
    "    # 반복 구조 중위 순회 비교 결과\n",
    "    while stack or node:\n",
    "        while node:\n",
    "            stack.append(node)\n",
    "            node = node.left\n",
    "        \n",
    "        node = stack.pop()\n",
    "        \n",
    "        result = min(result, node.val - prev)\n",
    "        prev = node.val\n",
    "        \n",
    "        node = node.right\n",
    "        \n",
    "    return result"
   ]
  },
  {
   "cell_type": "markdown",
   "metadata": {},
   "source": [
    "### 트리 순회\n",
    "- 트리 순회란 그래프 순회의 한 형태로 트리 자료구조에서 각 노드를 정확히 한 번 방문하는 과정\n",
    "- 그래프 순회와 마찬가지로 트리 순회 또한 DFS 또는 BFS로 탐색하는 데, 특히 DFS는 노드의 방문 순서에 따라 다음과 같이 3가지 방식으로 구분됨\n",
    "> 1) 전위(Pre-Order) 순회 (NLR)  \n",
    "> 2) 중위(In-Order) 순회 (LNR)  \n",
    "> 2) 후위(Post-Order) 순회 (LRN)\n",
    "\n",
    "<img src='img/14_25.png' width='250'>\n",
    "- 왼편의 짙은 회식 점은 전위, 아래의 하얀 점은 중위, 오른쪽의 옅은 점은 후위 순회를 나타내며, 순회결과는 다음과 같다.\n",
    "\n",
    "<img src='img/14_26.png' width='300'>\n",
    "- 구현\n",
    "<img src='img/14_27.png' width='200'>\n",
    "<img src='img/14_28.png' width='200'>\n",
    "<img src='img/14_29.png' width='200'>\n",
    "<img src='img/14_30.png' width='200'>"
   ]
  },
  {
   "cell_type": "markdown",
   "metadata": {},
   "source": [
    "### 54번. 전위, 중위 순회 결과로 이진 트리 구축  \n",
    "\n",
    "<img src='img/14_31.png' width='400'>"
   ]
  },
  {
   "cell_type": "code",
   "execution_count": 79,
   "metadata": {},
   "outputs": [],
   "source": [
    "def buildTree(preorder: list, inorder: list) -> TreeNode:\n",
    "    \n",
    "    if inorder:\n",
    "        # 전위 순회 결과는 중위 순회 분할 인덱스\n",
    "        index = inorder.index(preorder.pop(0))\n",
    "        \n",
    "        # 중위 순회 결과 분해 정복\n",
    "        node = TreeNode(inorder[index])\n",
    "        node.left = buildTree(preorder, inorder[0:index])\n",
    "        node.right = buildTree(preorder, inorder[index+1:])\n",
    "        \n",
    "        return node"
   ]
  },
  {
   "cell_type": "code",
   "execution_count": 82,
   "metadata": {},
   "outputs": [],
   "source": [
    "tree = buildTree([3, 9, 20, 15, 7], [9, 3, 15, 20, 7])"
   ]
  },
  {
   "cell_type": "code",
   "execution_count": 83,
   "metadata": {},
   "outputs": [
    {
     "data": {
      "text/plain": [
       "3"
      ]
     },
     "execution_count": 83,
     "metadata": {},
     "output_type": "execute_result"
    }
   ],
   "source": [
    "tree.val"
   ]
  }
 ],
 "metadata": {
  "kernelspec": {
   "display_name": "Python 3",
   "language": "python",
   "name": "python3"
  },
  "language_info": {
   "codemirror_mode": {
    "name": "ipython",
    "version": 3
   },
   "file_extension": ".py",
   "mimetype": "text/x-python",
   "name": "python",
   "nbconvert_exporter": "python",
   "pygments_lexer": "ipython3",
   "version": "3.7.7"
  }
 },
 "nbformat": 4,
 "nbformat_minor": 4
}
