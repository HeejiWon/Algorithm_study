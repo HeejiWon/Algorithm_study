{
 "cells": [
  {
   "cell_type": "markdown",
   "metadata": {},
   "source": [
    "## 그래프\n",
    "- 수학에서, 좀 더 구체적으로 그래프 이론에서 그래프는 객체의 일부 쌍(pair)들이 '연관되어' 있는 객체 집합 구조\n",
    "\n",
    "### 1) 그래프 이론의 시작, 오일러 경로\n",
    "<img src='img/12_1.png' width='300'>  \n",
    "- '__이 7개의 다리를 한 번씩만 건너서 모두 지나갈 수 있을까__?'\n",
    "- 오일러는 모든 정점이 짝수 개의 차수(degree)를 갖는다면 모든 다리를 한 번씩만 건너서 도달하는 것이 성립한다고 말했다. "
   ]
  },
  {
   "cell_type": "markdown",
   "metadata": {},
   "source": [
    "### 2) 해밀턴 경로\n",
    "- 해밀턴 경로는 __각 정점을 한 번씩 방문하는 무향 또는 유향 그래프 경로__\n",
    "- 간선을 기준으로 하는 오일러 경로와 달리, 해밀턴 경로는 정점을 기준으로 한다. \n",
    "- 이 간단한 차이에도 불구하고 해밀턴 경로를 찾는 문제는 최적 알고리즘이 없는 대표적인 NP-완전 문제다.  \n",
    "<img src='img/12_2.png' width='300'>    \n",
    "\n",
    "\n",
    "\n",
    "- 위와 같이, 원래의 출발점으로 돌아오는 경로는 특별히 __해밀턴 순환__이라 한다. 최단 거리를 찾는 문제는 외판원 문제로도 유명하다.\n",
    "\n",
    "\n",
    "- __외판원 문제란, 각 도시를 방문하고 돌아오는 가장 짧은 경로를 찾는 문제__이다.\n",
    "- 외판원 문제는 다이나믹 프로그래밍 기법으로 최적화할 수 있다. -> $O(n^2 2^n)$ \n",
    "\n",
    "<img src='img/12_3.png' width='300'>   \n",
    "\n",
    "\n",
    "\n",
    "<center> <span style=\"color:gray\"> <del>(온라인에서 판매하라는 개발자 조크)</del> </span> </center> "
   ]
  },
  {
   "cell_type": "markdown",
   "metadata": {},
   "source": [
    "#### <span style=\"color:cornflowerblue\"> cf) 포함 관계 </span>\n",
    "\n",
    "- 해밀턴 경로: 한 번만 방문하는 경로\n",
    "- 해밀턴 순환: 한 번만 방문하여 출발지로 돌아오는 경로\n",
    "- 외판원 문제: 한 번만 방문하여 출발지로 돌아오는 경로 중 가장 짧은 경로  \n",
    "\n",
    "\n",
    "\n",
    "=> 포함 관계 : 해밀턴 경로 > 해밀턴 순환 > 외판원 문제"
   ]
  },
  {
   "cell_type": "markdown",
   "metadata": {},
   "source": [
    "### 3) 그래프 순회\n",
    "- 그래프 순회란 그래프 탐색(Search)라고도 불리며, 그래프의 각 정점을 방문하는 과정\n",
    "- 깊이 우선 탐색(Depth-First Search, DFS)과 너비 우선 탐색(Breadth-First Search, BFS)\n",
    "- 일반적으로 DTFS가 BFS에 비해 더 널리 쓰임\n",
    "\n",
    "\n",
    "- DFS는 주로 스택으로 구현하거나 재귀로 구현, 이후에 살펴볼 백트래킹을 통해 뛰어난 효용을 보임\n",
    "- BFS는 큐로 구현하며, 그래프의 최단 경로를 구하는 문제 등에 사용됨\n",
    "\n",
    "<img src='img/12_4.png' width='150'>\n",
    "\n",
    "- 위와 같은 순회 그래프를 표현하는 방법에는 크게 인접 행렬과 인접 리스트의 2가지 방법이 있음 (아래는 인접 리스트로 구현한 코드 with 딕셔너리 자료형)"
   ]
  },
  {
   "cell_type": "code",
   "execution_count": 1,
   "metadata": {},
   "outputs": [],
   "source": [
    "graph = {\n",
    "    1: [2, 3, 4], \n",
    "    2: [5],\n",
    "    3: [5],\n",
    "    4: [],\n",
    "    5: [6, 7],\n",
    "    6: [],\n",
    "    7: [3]\n",
    "}"
   ]
  },
  {
   "cell_type": "markdown",
   "metadata": {},
   "source": [
    "### DFS (깊이 우선 탐색)\n",
    "- __깊이 우선 탐색__이라고도 하며, 그래프에서 깊은 부분을 우선적으로 탐색하는 알고리즘\n",
    "- __스택 자료구조(혹은 재귀 함수)__를 이용\n",
    "- 일반적으로 스택으로 구현, 재귀를 이용하면 좀 더 간단하게 가능\n",
    "- 코테시에도 재귀 구현이 더 선호됨\n",
    "\n",
    "\n",
    "- 동작과정 (스택 이용)  \n",
    "    ① 탐색 시작 노드를 스택에 삽입하고 방문 처리함  \n",
    "    ② 스택의 최상단 노드에 방문하지 않은 인접 노드가 하나라도 있으면 그 노드를 스택에 넣고 방문 처리. 방문하지 않은 인접 노드가 없으면 스택에서 최상단 노드를 꺼냄  \n",
    "    ③ 더이상 2번의 과정을 수행할 수 없을 때까지 반복  \n",
    "    \n",
    "    \n",
    "<img src='img/12_8.png' width='800'>  \n",
    "<img src='img/12_9.png' width='800'>\n",
    "<img src='img/12_10.png' width='800'>\n",
    "<img src='img/12_11.png' width='800'>\n",
    "\n",
    "출처 : Youtube 동빈나 이코테 2021 - 3. DFS & BFS [link](https://www.youtube.com/watch?v=7C9RgOcvkvo&list=PLRx0vPvlEmdAghTr5mXQxGpHjWqSz0dgC&index=3)\n"
   ]
  },
  {
   "cell_type": "markdown",
   "metadata": {},
   "source": [
    "#### <span style=\"color:cornflowerblue\">  재귀 구조로 구현 </span>\n",
    "<img src='img/12_5.png' width='500'>\n",
    "\n",
    "\n",
    "<img src='img/12_6.png' width='150'>"
   ]
  },
  {
   "cell_type": "code",
   "execution_count": 2,
   "metadata": {},
   "outputs": [],
   "source": [
    "# 재귀 구조 구현\n",
    "\n",
    "def recursive_dfs(v, discovered=[]):\n",
    "    discovered.append(v)\n",
    "    for w in graph[v]:\n",
    "        if w not in discovered:\n",
    "            discovered = recursive_dfs(w, discovered)  \n",
    "                # discovered를 인자로 넣어주므로 계속 append 됨!\n",
    "    return discovered"
   ]
  },
  {
   "cell_type": "code",
   "execution_count": 3,
   "metadata": {},
   "outputs": [
    {
     "data": {
      "text/plain": [
       "[1, 2, 5, 6, 7, 3, 4]"
      ]
     },
     "execution_count": 3,
     "metadata": {},
     "output_type": "execute_result"
    }
   ],
   "source": [
    "recursive_dfs(1)"
   ]
  },
  {
   "cell_type": "markdown",
   "metadata": {},
   "source": [
    "#### <span style=\"color:cornflowerblue\">  스택을 이용한 반복 구조로 구현 </span>\n",
    "<img src='img/12_7.png' width='500'>"
   ]
  },
  {
   "cell_type": "code",
   "execution_count": 3,
   "metadata": {},
   "outputs": [],
   "source": [
    "# 스택을 이용한 반복 구조로 구현\n",
    "\n",
    "def iterative_dfs(start_v):\n",
    "    discovered = []\n",
    "    stack = [start_v]\n",
    "    \n",
    "    while stack:\n",
    "        v = stack.pop()\n",
    "        if v not in discovered:\n",
    "            discovered.append(v)\n",
    "            for w in graph[v]:\n",
    "                stack.append(w)\n",
    "                \n",
    "    return discovered"
   ]
  },
  {
   "cell_type": "code",
   "execution_count": 6,
   "metadata": {},
   "outputs": [
    {
     "data": {
      "text/plain": [
       "[1, 4, 3, 5, 7, 6, 2]"
      ]
     },
     "execution_count": 6,
     "metadata": {},
     "output_type": "execute_result"
    }
   ],
   "source": [
    "iterative_dfs(1)"
   ]
  },
  {
   "cell_type": "markdown",
   "metadata": {},
   "source": [
    "- __재귀 DFS는 사전식 순서로 방문__한 데 반해, __반복 DFS는 역순으로 방문 (가장 최근에 담긴 노드부터 방문)__하여 방문한 순서는 다름"
   ]
  },
  {
   "cell_type": "markdown",
   "metadata": {},
   "source": [
    "### BFS (너비 우선 탐색)\n",
    "- __너비 우선 탐색__이라고 부르며, 그래프에서 가까운 노드부터 우선적으로 탐색하는 알고리즘\n",
    "- __큐 자료구조__를 이용\n",
    "- DFS보다 쓰임새는 적지만, 최단 경로를 찾는 다익스트라 알고리즘 등에 매우 유용하게 쓰임\n",
    "- 첫번째 노드와의 거리를 기준으로 가까운 것부터 (거리가 1인 노드)\n",
    "\n",
    "\n",
    "- 동작과정  \n",
    "    ① 탐색 시작 노드를 큐에 삽입하고 방문 처리  \n",
    "    ② 큐에서 노드를 꺼낸 뒤 해당 노드의 인접 노드 중 방문하지 않은 노드를 모두 큐에 삽입하고 방문 처리  \n",
    "    ③ 더이상 2번의 과정을 수행할 수 없을 때까지 반복\n",
    "    \n",
    "<img src='img/12_12.png' width='800'>\n",
    "<img src='img/12_13.png' width='800'>\n",
    "<img src='img/12_14.png' width='800'>\n",
    "\n",
    "출처 : Youtube 동빈나 이코테 2021 - 3. DFS & BFS [link](https://www.youtube.com/watch?v=7C9RgOcvkvo&list=PLRx0vPvlEmdAghTr5mXQxGpHjWqSz0dgC&index=3)"
   ]
  },
  {
   "cell_type": "markdown",
   "metadata": {},
   "source": [
    "#### <span style=\"color:cornflowerblue\"> 큐를 이용한 반복 구조로 구현 </span>\n",
    "<img src='img/12_15.png' width='500'>"
   ]
  },
  {
   "cell_type": "code",
   "execution_count": 8,
   "metadata": {},
   "outputs": [],
   "source": [
    "# 큐를 이용한 반복구조로 구현\n",
    "\n",
    "def iteratve_bfs(start_v):\n",
    "    discovered = [start_v]\n",
    "    queue = [start_v]\n",
    "    \n",
    "    while queue:\n",
    "        v = queue.pop(0)\n",
    "        for w in graph[v]:\n",
    "            if w not in discovered:\n",
    "                discovered.append(w)\n",
    "                queue.append(w) # w에 인접한 노드들을 이후에 살펴보기 위해\n",
    "                \n",
    "    return discovered"
   ]
  },
  {
   "cell_type": "markdown",
   "metadata": {},
   "source": [
    "#### <span style=\"color:cornflowerblue\"> 재귀 구현 불가 </span>\n",
    "- BFS는 재귀로 동작하지 않는다. \n",
    "- 큐로만 구현가능하므로 명심하기!"
   ]
  },
  {
   "cell_type": "markdown",
   "metadata": {},
   "source": [
    "### 4) 백트래킹\n",
    "- 백트래킹(Backtracking)은 해결책에 대한 후보를 구축해 나아가다 __가능성이 없다고 판단되는 즉시 후보를 포기(백트랙)해__ 정답을 찾아가는 범용적인 알고리즘\n",
    "- 백트래킹은 DFS와 같은 방식으로 탐색하는 모든 방법을 뜻하며, DFS보다 더 넓은 의미\n",
    "- 가보고 되돌아오고를 반복!\n",
    "- 제약 충족 문제에 특히 유용\n",
    "\n",
    "\n",
    "\n",
    "<img src='img/12_16.png' width='450'>\n",
    "\n",
    "\n",
    "- 위와 같이 큰 트리에서 가능성이 없는 후보를 즉시 포기하고 백트래킹을 한다면, 트리의 불필요한 거의 대부분을 버릴 수 있다\n",
    "- 이를 트리의 __가지치기(Pruning)__이라고 하며, 트리의 탐색 최적화 문제와도 관련이 깊다"
   ]
  },
  {
   "cell_type": "markdown",
   "metadata": {},
   "source": [
    "### 5) 제약 충족 문제\n",
    "- 제약 충족 문제란 수많은 제약 조건을 충족하는 상태를 찾아내는 수학문제\n",
    "- 백트래킹은 제약 충족 문제를 풀이하는데 필수적! (가지치기를 통해 최적화)\n",
    "- 합리적인 시간 내에 문제를 풀기 위해 휴리스틱과 조합 탐색 같은 개념을 함께 결합해 문제를 풀이\n",
    "- 대표적으로 스토쿠, 십자말 풀이, 8퀸 문제, 4색 문제 등"
   ]
  },
  {
   "cell_type": "markdown",
   "metadata": {},
   "source": [
    "### 32번. 섬의 개수\n",
    "- 1을 육지로, 0을 물로 가정한 2D 그리드 맵이 주어졌을 때, 섬의 개수를 계산하라 \n",
    "- 연결되어 있는 1의 덩어리 개수를 구하라"
   ]
  },
  {
   "cell_type": "code",
   "execution_count": 67,
   "metadata": {},
   "outputs": [],
   "source": [
    "grid = [[1, 1, 1, 1, 0],\n",
    "       [1, 1, 0, 1, 0],\n",
    "       [1, 1, 0, 0, 0],\n",
    "       [0, 0, 0, 0, 0]]"
   ]
  },
  {
   "cell_type": "markdown",
   "metadata": {},
   "source": [
    "#### 시도"
   ]
  },
  {
   "cell_type": "code",
   "execution_count": null,
   "metadata": {},
   "outputs": [],
   "source": [
    "import numpy as np"
   ]
  },
  {
   "cell_type": "code",
   "execution_count": 66,
   "metadata": {},
   "outputs": [],
   "source": [
    "def check(current, stack=[]):\n",
    "    \n",
    "    # check\n",
    "    if grid[current[0]][current[1]] == 1:\n",
    "        grid[current[0]][current[1]] = 0\n",
    "        stack.append([current[0], current[1]])\n",
    "    else:\n",
    "        return stack\n",
    "    \n",
    "    while stack:\n",
    "        # move\n",
    "        s = stack.pop()\n",
    "        moved = np.array(s) + np.array(position)\n",
    "\n",
    "        # left\n",
    "        if moved[0][0] >= 0:\n",
    "            tmp = list(moved[0])\n",
    "            stack = check(tmp, stack)\n",
    "\n",
    "        # right\n",
    "        if moved[1][0] < len(grid[0]):\n",
    "            tmp = list(moved[1])\n",
    "            stack = check(tmp, stack)\n",
    "\n",
    "        # up\n",
    "        if moved[2][1] >= 0:\n",
    "            tmp = list(moved[2])\n",
    "            stack = check(tmp, stack)\n",
    "\n",
    "        # down\n",
    "        if moved[3][1] < len(grid):\n",
    "            down = list(moved[3])\n",
    "            stack = check(tmp, stack)\n",
    "    \n",
    "    return stack"
   ]
  },
  {
   "cell_type": "code",
   "execution_count": 68,
   "metadata": {},
   "outputs": [],
   "source": [
    "stack = []\n",
    "\n",
    "for i in range(len(grid)):\n",
    "    for j in range(len(grid[0])):\n",
    "        stack = check([i, j], stack)"
   ]
  },
  {
   "cell_type": "markdown",
   "metadata": {},
   "source": [
    "- 구현은 했으나, count를 언제 세어야 하는지 모르겠음"
   ]
  },
  {
   "cell_type": "markdown",
   "metadata": {},
   "source": [
    "#### 정답"
   ]
  },
  {
   "cell_type": "code",
   "execution_count": 72,
   "metadata": {},
   "outputs": [],
   "source": [
    "def numIslands(grid: list) -> int:\n",
    "    def dfs(i, j):\n",
    "        # 더이상 땅이 아닌 경우 종료\n",
    "        if i < 0 or i >= len(grid) or\\\n",
    "            j < 0  or j >= len(grid[0]) or\\\n",
    "            grid[i][j] != 1:\n",
    "                return\n",
    "            \n",
    "        grid[i][j] = 0\n",
    "        # 동서남북 탐색\n",
    "        dfs(i+1, j)\n",
    "        dfs(i-1, j)\n",
    "        dfs(i, j+1)\n",
    "        dfs(i, j-1)\n",
    "        \n",
    "    count = 0\n",
    "    for i in range(len(grid)):\n",
    "        for j in range(len(grid[0])):\n",
    "            if grid[i][j] == 1:\n",
    "                dfs(i, j)\n",
    "                # 모든 육지 탐색 후 카운트 1 증가\n",
    "                count += 1\n",
    "        \n",
    "    return count"
   ]
  },
  {
   "cell_type": "markdown",
   "metadata": {},
   "source": [
    "#### <span style=\"color:cornflowerblue\">cf) 중첩함수</span>\n",
    "- 함수 내에 위치한 또 다른 함수로, 바깥에 위치한 함수들과 달리 부모 함수의 변수를 자유롭게 읽을 수 있다\n",
    "- 하지만, 재할당(=)이 일어날 경우 참조 ID가 변경되"
   ]
  },
  {
   "cell_type": "code",
   "execution_count": 2,
   "metadata": {},
   "outputs": [],
   "source": [
    "# 예제 코드\n",
    "def outer_function(t: str):\n",
    "    text: str = t\n",
    "        \n",
    "    def inner_function():\n",
    "        print(text)\n",
    "    \n",
    "    inner_function()"
   ]
  },
  {
   "cell_type": "code",
   "execution_count": 3,
   "metadata": {},
   "outputs": [
    {
     "name": "stdout",
     "output_type": "stream",
     "text": [
      "Hello!\n"
     ]
    }
   ],
   "source": [
    "outer_function('Hello!')"
   ]
  },
  {
   "cell_type": "markdown",
   "metadata": {},
   "source": [
    "- 연산자 조작을 하는 경우"
   ]
  },
  {
   "cell_type": "code",
   "execution_count": 8,
   "metadata": {},
   "outputs": [],
   "source": [
    "# 연산자 조작\n",
    "def outer_function(a: list):\n",
    "    b: list = a\n",
    "    print(id(b), b)\n",
    "    \n",
    "    def inner_function1():\n",
    "        b.append(4)\n",
    "        print(id(b), b)\n",
    "        \n",
    "    def inner_function2():\n",
    "        print(id(b), b)\n",
    "        \n",
    "    inner_function1()\n",
    "    inner_function2()"
   ]
  },
  {
   "cell_type": "code",
   "execution_count": 9,
   "metadata": {},
   "outputs": [
    {
     "name": "stdout",
     "output_type": "stream",
     "text": [
      "2546265635336 [1, 2, 3]\n",
      "2546265635336 [1, 2, 3, 4]\n",
      "2546265635336 [1, 2, 3, 4]\n"
     ]
    }
   ],
   "source": [
    "outer_function([1, 2, 3])"
   ]
  },
  {
   "cell_type": "markdown",
   "metadata": {},
   "source": [
    "- 재할당을 하는 경우 -> 재할당된 값은 부모 함수에 적용되지 않음"
   ]
  },
  {
   "cell_type": "code",
   "execution_count": 10,
   "metadata": {},
   "outputs": [],
   "source": [
    "# 재할당\n",
    "def outer_function(t: str):\n",
    "    text: str = t\n",
    "    print(id(text), text)\n",
    "    \n",
    "    def inner_function1():\n",
    "        text = 'World!'\n",
    "        print(id(text), text)\n",
    "        \n",
    "    def inner_function2():\n",
    "        print(id(text), text)\n",
    "    \n",
    "    inner_function1()\n",
    "    inner_function2()"
   ]
  },
  {
   "cell_type": "code",
   "execution_count": 12,
   "metadata": {},
   "outputs": [
    {
     "name": "stdout",
     "output_type": "stream",
     "text": [
      "2546266126064 Hello!\n",
      "2546265635248 World!\n",
      "2546266126064 Hello!\n"
     ]
    }
   ],
   "source": [
    "outer_function('Hello!')"
   ]
  },
  {
   "cell_type": "markdown",
   "metadata": {},
   "source": [
    "### 33번. 전화번호 문자 조합\n",
    "- 2에서 9까지 숫자가 주어졌을 때, 전화 번호로 조합 가능한 모든 문자를 출력하여라\n",
    "\n",
    "<img src='img/12_17.png' width='200'>"
   ]
  },
  {
   "cell_type": "code",
   "execution_count": 13,
   "metadata": {},
   "outputs": [],
   "source": [
    "s = '23'  # ['ad', 'ae', 'af', 'bd', 'be', 'bf', 'cd', 'ce', 'cf']"
   ]
  },
  {
   "cell_type": "code",
   "execution_count": 81,
   "metadata": {},
   "outputs": [],
   "source": [
    "alphabet = list(map(chr, range(97, 123)))"
   ]
  },
  {
   "cell_type": "code",
   "execution_count": 51,
   "metadata": {},
   "outputs": [],
   "source": [
    "# 숫자와 알파벳 매핑하기\n",
    "mapping = {}\n",
    "start = 0 \n",
    "\n",
    "for n in range(2, 10):\n",
    "    cnt = 3\n",
    "    if n == 7 or n == 9:\n",
    "        cnt += 1\n",
    "    end = start + cnt\n",
    "        \n",
    "    mapping[str(n)] = alphabet[start:end]\n",
    "    start = end"
   ]
  },
  {
   "cell_type": "code",
   "execution_count": 52,
   "metadata": {},
   "outputs": [
    {
     "data": {
      "text/plain": [
       "{'2': ['a', 'b', 'c'],\n",
       " '3': ['d', 'e', 'f'],\n",
       " '4': ['g', 'h', 'i'],\n",
       " '5': ['j', 'k', 'l'],\n",
       " '6': ['m', 'n', 'o'],\n",
       " '7': ['p', 'q', 'r', 's'],\n",
       " '8': ['t', 'u', 'v'],\n",
       " '9': ['w', 'x', 'y', 'z']}"
      ]
     },
     "execution_count": 52,
     "metadata": {},
     "output_type": "execute_result"
    }
   ],
   "source": [
    "mapping"
   ]
  },
  {
   "cell_type": "code",
   "execution_count": null,
   "metadata": {},
   "outputs": [],
   "source": [
    "from itertools import product"
   ]
  },
  {
   "cell_type": "code",
   "execution_count": 79,
   "metadata": {},
   "outputs": [],
   "source": [
    "def allstring(s: str) -> list:\n",
    "    result = 1\n",
    "    s_list = list(s)\n",
    "    \n",
    "    total = []\n",
    "    for s_each in s_list:\n",
    "        total.append(mapping[s_each])\n",
    "    \n",
    "    return [''.join(tup) for tup in list(product(*ex))]"
   ]
  },
  {
   "cell_type": "code",
   "execution_count": 80,
   "metadata": {},
   "outputs": [
    {
     "data": {
      "text/plain": [
       "['ad', 'ae', 'af', 'bd', 'be', 'bf', 'cd', 'ce', 'cf']"
      ]
     },
     "execution_count": 80,
     "metadata": {},
     "output_type": "execute_result"
    }
   ],
   "source": [
    "allstring('23')"
   ]
  },
  {
   "cell_type": "markdown",
   "metadata": {},
   "source": [
    "#### 정답"
   ]
  },
  {
   "cell_type": "code",
   "execution_count": 83,
   "metadata": {},
   "outputs": [],
   "source": [
    "def letterCombination(digits: str) -> list:\n",
    "    def dfs(index, path):\n",
    "        # 끝까지 탐색하면 백트래킹\n",
    "        if len(path) == len(digits):\n",
    "            result.append(path)\n",
    "            return\n",
    "        \n",
    "        # 입력값 자릿수 단위 반복\n",
    "        for i in range(index, len(digits)):\n",
    "            # 숫자에 해당하는 모든 문자열 반복\n",
    "            for j in dic[digits[i]]:\n",
    "                dfs(i+1, path+j)\n",
    "                \n",
    "    # 예외처리\n",
    "    if not digits:\n",
    "        return []\n",
    "    \n",
    "    dic = {'2': 'abc', '3': 'def', '4': 'ghi', '5': 'jkl', '6': 'mno', '7': 'pqrs',\n",
    "           '8': 'tuv', '9': 'wxyz'}\n",
    "    \n",
    "    result = []\n",
    "    dfs(0, '')\n",
    "    \n",
    "    return result"
   ]
  },
  {
   "cell_type": "code",
   "execution_count": null,
   "metadata": {},
   "outputs": [],
   "source": []
  }
 ],
 "metadata": {
  "kernelspec": {
   "display_name": "Python 3",
   "language": "python",
   "name": "python3"
  },
  "language_info": {
   "codemirror_mode": {
    "name": "ipython",
    "version": 3
   },
   "file_extension": ".py",
   "mimetype": "text/x-python",
   "name": "python",
   "nbconvert_exporter": "python",
   "pygments_lexer": "ipython3",
   "version": "3.7.7"
  }
 },
 "nbformat": 4,
 "nbformat_minor": 4
}
