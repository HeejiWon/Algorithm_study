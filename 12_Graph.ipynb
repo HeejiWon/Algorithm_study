{
 "cells": [
  {
   "cell_type": "markdown",
   "metadata": {},
   "source": [
    "## 그래프\n",
    "- 수학에서, 좀 더 구체적으로 그래프 이론에서 그래프는 객체의 일부 쌍(pair)들이 '연관되어' 있는 객체 집합 구조\n",
    "- 코테에서 빈출되고, 기술면접에서도 잘 나오는 유형\n",
    "\n",
    "### 1) 그래프 이론의 시작, 오일러 경로\n",
    "<img src='img/12_1.png' width='300'>  \n",
    "- '__이 7개의 다리를 한 번씩만 건너서 모두 지나갈 수 있을까__?'\n",
    "- 오일러는 모든 정점이 짝수 개의 차수(degree)를 갖는다면 모든 다리를 한 번씩만 건너서 도달하는 것이 성립한다고 말했다. "
   ]
  },
  {
   "cell_type": "markdown",
   "metadata": {},
   "source": [
    "### 2) 해밀턴 경로\n",
    "- 해밀턴 경로는 __각 정점을 한 번씩 방문하는 무향 또는 유향 그래프 경로__\n",
    "- 간선을 기준으로 하는 오일러 경로와 달리, 해밀턴 경로는 정점을 기준으로 한다. \n",
    "- 이 간단한 차이에도 불구하고 해밀턴 경로를 찾는 문제는 최적 알고리즘이 없는 대표적인 NP-완전 문제다.  \n",
    "<img src='img/12_2.png' width='300'>    \n",
    "\n",
    "\n",
    "\n",
    "- 위와 같이, 원래의 출발점으로 돌아오는 경로는 특별히 __해밀턴 순환__이라 한다. 최단 거리를 찾는 문제는 외판원 문제로도 유명하다.\n",
    "\n",
    "\n",
    "- __외판원 문제란, 각 도시를 방문하고 돌아오는 가장 짧은 경로를 찾는 문제__이다.\n",
    "- 외판원 문제는 다이나믹 프로그래밍 기법으로 최적화할 수 있다. -> $O(n^2 2^n)$ \n",
    "\n",
    "<img src='img/12_3.png' width='300'>   \n",
    "\n",
    "\n",
    "\n",
    "<center> <span style=\"color:gray\"> <del>(온라인에서 판매하라는 개발자 조크)</del> </span> </center> "
   ]
  },
  {
   "cell_type": "markdown",
   "metadata": {},
   "source": [
    "#### <span style=\"color:cornflowerblue\"> cf) 포함 관계 </span>\n",
    "\n",
    "- 해밀턴 경로: 한 번만 방문하는 경로\n",
    "- 해밀턴 순환: 한 번만 방문하여 출발지로 돌아오는 경로\n",
    "- 외판원 문제: 한 번만 방문하여 출발지로 돌아오는 경로 중 가장 짧은 경로  \n",
    "\n",
    "\n",
    "\n",
    "=> 포함 관계 : 해밀턴 경로 > 해밀턴 순환 > 외판원 문제"
   ]
  },
  {
   "cell_type": "markdown",
   "metadata": {},
   "source": [
    "### 3) 그래프 순회\n",
    "- 그래프 순회란 그래프 탐색(Search)라고도 불리며, 그래프의 각 정점을 방문하는 과정\n",
    "- 깊이 우선 탐색(Depth-First Search, DFS)과 너비 우선 탐색(Breadth-First Search, BFS)\n",
    "- 일반적으로 DTFS가 BFS에 비해 더 널리 쓰임\n",
    "\n",
    "\n",
    "- DFS는 주로 스택으로 구현하거나 재귀로 구현, 이후에 살펴볼 백트래킹을 통해 뛰어난 효용을 보임\n",
    "- BFS는 큐로 구현하며, 그래프의 최단 경로를 구하는 문제 등에 사용됨\n",
    "\n",
    "<img src='img/12_4.png' width='150'>\n",
    "\n",
    "- 위와 같은 순회 그래프를 표현하는 방법에는 크게 인접 행렬과 인접 리스트의 2가지 방법이 있음 (아래는 인접 리스트로 구현한 코드 with 딕셔너리 자료형)"
   ]
  },
  {
   "cell_type": "code",
   "execution_count": 1,
   "metadata": {},
   "outputs": [],
   "source": [
    "graph = {\n",
    "    1: [2, 3, 4], \n",
    "    2: [5],\n",
    "    3: [5],\n",
    "    4: [],\n",
    "    5: [6, 7],\n",
    "    6: [],\n",
    "    7: [3]\n",
    "}"
   ]
  },
  {
   "cell_type": "markdown",
   "metadata": {},
   "source": [
    "### DFS (깊이 우선 탐색)\n",
    "- __깊이 우선 탐색__이라고도 하며, 그래프에서 깊은 부분을 우선적으로 탐색하는 알고리즘\n",
    "- __스택 자료구조(혹은 재귀 함수)__를 이용\n",
    "- 일반적으로 스택으로 구현, 재귀를 이용하면 좀 더 간단하게 가능\n",
    "- 코테시에도 재귀 구현이 더 선호됨\n",
    "\n",
    "\n",
    "- 동작과정 (스택 이용)  \n",
    "    ① 탐색 시작 노드를 스택에 삽입하고 방문 처리함  \n",
    "    ② 스택의 최상단 노드에 방문하지 않은 인접 노드가 하나라도 있으면 그 노드를 스택에 넣고 방문 처리. 방문하지 않은 인접 노드가 없으면 스택에서 최상단 노드를 꺼냄  \n",
    "    ③ 더이상 2번의 과정을 수행할 수 없을 때까지 반복  \n",
    "    \n",
    "    \n",
    "<img src='img/12_8.png' width='800'>  \n",
    "<img src='img/12_9.png' width='800'>\n",
    "<img src='img/12_10.png' width='800'>\n",
    "<img src='img/12_11.png' width='800'>\n",
    "\n",
    "출처 : Youtube 동빈나 이코테 2021 - 3. DFS & BFS [link](https://www.youtube.com/watch?v=7C9RgOcvkvo&list=PLRx0vPvlEmdAghTr5mXQxGpHjWqSz0dgC&index=3)\n"
   ]
  },
  {
   "cell_type": "markdown",
   "metadata": {},
   "source": [
    "#### <span style=\"color:cornflowerblue\">  재귀 구조로 구현 </span>\n",
    "<img src='img/12_5.png' width='500'>\n",
    "\n",
    "\n",
    "<img src='img/12_6.png' width='150'>"
   ]
  },
  {
   "cell_type": "code",
   "execution_count": 2,
   "metadata": {},
   "outputs": [],
   "source": [
    "# 재귀 구조 구현\n",
    "\n",
    "def recursive_dfs(v, discovered=[]):\n",
    "    discovered.append(v)\n",
    "    for w in graph[v]:\n",
    "        if w not in discovered:\n",
    "            discovered = recursive_dfs(w, discovered)  \n",
    "                # discovered를 인자로 넣어주므로 계속 append 됨!\n",
    "    return discovered"
   ]
  },
  {
   "cell_type": "code",
   "execution_count": 3,
   "metadata": {},
   "outputs": [
    {
     "data": {
      "text/plain": [
       "[1, 2, 5, 6, 7, 3, 4]"
      ]
     },
     "execution_count": 3,
     "metadata": {},
     "output_type": "execute_result"
    }
   ],
   "source": [
    "recursive_dfs(1)"
   ]
  },
  {
   "cell_type": "markdown",
   "metadata": {},
   "source": [
    "#### <span style=\"color:cornflowerblue\">  스택을 이용한 반복 구조로 구현 </span>\n",
    "<img src='img/12_7.png' width='500'>"
   ]
  },
  {
   "cell_type": "code",
   "execution_count": 3,
   "metadata": {},
   "outputs": [],
   "source": [
    "# 스택을 이용한 반복 구조로 구현\n",
    "\n",
    "def iterative_dfs(start_v):\n",
    "    discovered = []\n",
    "    stack = [start_v]\n",
    "    \n",
    "    while stack:\n",
    "        v = stack.pop()\n",
    "        if v not in discovered:\n",
    "            discovered.append(v)\n",
    "            for w in graph[v]:\n",
    "                stack.append(w)\n",
    "                \n",
    "    return discovered"
   ]
  },
  {
   "cell_type": "code",
   "execution_count": 6,
   "metadata": {},
   "outputs": [
    {
     "data": {
      "text/plain": [
       "[1, 4, 3, 5, 7, 6, 2]"
      ]
     },
     "execution_count": 6,
     "metadata": {},
     "output_type": "execute_result"
    }
   ],
   "source": [
    "iterative_dfs(1)"
   ]
  },
  {
   "cell_type": "markdown",
   "metadata": {},
   "source": [
    "- __재귀 DFS는 사전식 순서로 방문__한 데 반해, __반복 DFS는 역순으로 방문 (가장 최근에 담긴 노드부터 방문)__하여 방문한 순서는 다름"
   ]
  },
  {
   "cell_type": "markdown",
   "metadata": {},
   "source": [
    "### BFS (너비 우선 탐색)\n",
    "- __너비 우선 탐색__이라고 부르며, 그래프에서 가까운 노드부터 우선적으로 탐색하는 알고리즘\n",
    "- __큐 자료구조__를 이용\n",
    "- DFS보다 쓰임새는 적지만, 최단 경로를 찾는 다익스트라 알고리즘 등에 매우 유용하게 쓰임\n",
    "- 첫번째 노드와의 거리를 기준으로 가까운 것부터 (거리가 1인 노드)\n",
    "\n",
    "\n",
    "- 동작과정  \n",
    "    ① 탐색 시작 노드를 큐에 삽입하고 방문 처리  \n",
    "    ② 큐에서 노드를 꺼낸 뒤 해당 노드의 인접 노드 중 방문하지 않은 노드를 모두 큐에 삽입하고 방문 처리  \n",
    "    ③ 더이상 2번의 과정을 수행할 수 없을 때까지 반복\n",
    "    \n",
    "<img src='img/12_12.png' width='800'>\n",
    "<img src='img/12_13.png' width='800'>\n",
    "<img src='img/12_14.png' width='800'>\n",
    "\n",
    "출처 : Youtube 동빈나 이코테 2021 - 3. DFS & BFS [link](https://www.youtube.com/watch?v=7C9RgOcvkvo&list=PLRx0vPvlEmdAghTr5mXQxGpHjWqSz0dgC&index=3)"
   ]
  },
  {
   "cell_type": "markdown",
   "metadata": {},
   "source": [
    "#### <span style=\"color:cornflowerblue\"> 큐를 이용한 반복 구조로 구현 </span>\n",
    "<img src='img/12_15.png' width='500'>"
   ]
  },
  {
   "cell_type": "code",
   "execution_count": 8,
   "metadata": {},
   "outputs": [],
   "source": [
    "# 큐를 이용한 반복구조로 구현\n",
    "\n",
    "def iteratve_bfs(start_v):\n",
    "    discovered = [start_v]\n",
    "    queue = [start_v]\n",
    "    \n",
    "    while queue:\n",
    "        v = queue.pop(0)\n",
    "        for w in graph[v]:\n",
    "            if w not in discovered:\n",
    "                discovered.append(w)\n",
    "                queue.append(w) # w에 인접한 노드들을 이후에 살펴보기 위해\n",
    "                \n",
    "    return discovered"
   ]
  },
  {
   "cell_type": "markdown",
   "metadata": {},
   "source": [
    "#### <span style=\"color:cornflowerblue\"> 재귀 구현 불가 </span>\n",
    "- BFS는 재귀로 동작하지 않는다. \n",
    "- 큐로만 구현가능하므로 명심하기!"
   ]
  },
  {
   "cell_type": "markdown",
   "metadata": {},
   "source": [
    "### 4) 백트래킹\n",
    "- 백트래킹(Backtracking)은 해결책에 대한 후보를 구축해 나아가다 __가능성이 없다고 판단되는 즉시 후보를 포기(백트랙)해__ 정답을 찾아가는 범용적인 알고리즘\n",
    "- 백트래킹은 DFS와 같은 방식으로 탐색하는 모든 방법을 뜻하며, DFS보다 더 넓은 의미\n",
    "- 가보고 되돌아오고를 반복!\n",
    "- 제약 충족 문제에 특히 유용\n",
    "\n",
    "\n",
    "\n",
    "<img src='img/12_16.png' width='450'>\n",
    "\n",
    "\n",
    "- 위와 같이 큰 트리에서 가능성이 없는 후보를 즉시 포기하고 백트래킹을 한다면, 트리의 불필요한 거의 대부분을 버릴 수 있다\n",
    "- 이를 트리의 __가지치기(Pruning)__이라고 하며, 트리의 탐색 최적화 문제와도 관련이 깊다"
   ]
  },
  {
   "cell_type": "markdown",
   "metadata": {},
   "source": [
    "### 5) 제약 충족 문제\n",
    "- 제약 충족 문제란 수많은 제약 조건을 충족하는 상태를 찾아내는 수학문제\n",
    "- 백트래킹은 제약 충족 문제를 풀이하는데 필수적! (가지치기를 통해 최적화)\n",
    "- 합리적인 시간 내에 문제를 풀기 위해 휴리스틱과 조합 탐색 같은 개념을 함께 결합해 문제를 풀이\n",
    "- 대표적으로 스토쿠, 십자말 풀이, 8퀸 문제, 4색 문제 등"
   ]
  },
  {
   "cell_type": "markdown",
   "metadata": {},
   "source": [
    "### 32번. 섬의 개수\n",
    "- 1을 육지로, 0을 물로 가정한 2D 그리드 맵이 주어졌을 때, 섬의 개수를 계산하라 \n",
    "- 연결되어 있는 1의 덩어리 개수를 구하라"
   ]
  },
  {
   "cell_type": "code",
   "execution_count": 67,
   "metadata": {},
   "outputs": [],
   "source": [
    "grid = [[1, 1, 1, 1, 0],\n",
    "       [1, 1, 0, 1, 0],\n",
    "       [1, 1, 0, 0, 0],\n",
    "       [0, 0, 0, 0, 0]]"
   ]
  },
  {
   "cell_type": "markdown",
   "metadata": {},
   "source": [
    "#### 시도"
   ]
  },
  {
   "cell_type": "code",
   "execution_count": null,
   "metadata": {},
   "outputs": [],
   "source": [
    "import numpy as np"
   ]
  },
  {
   "cell_type": "code",
   "execution_count": 66,
   "metadata": {},
   "outputs": [],
   "source": [
    "def check(current, stack=[]):\n",
    "    \n",
    "    # check\n",
    "    if grid[current[0]][current[1]] == 1:\n",
    "        grid[current[0]][current[1]] = 0\n",
    "        stack.append([current[0], current[1]])\n",
    "    else:\n",
    "        return stack\n",
    "    \n",
    "    while stack:\n",
    "        # move\n",
    "        s = stack.pop()\n",
    "        moved = np.array(s) + np.array(position)\n",
    "\n",
    "        # left\n",
    "        if moved[0][0] >= 0:\n",
    "            tmp = list(moved[0])\n",
    "            stack = check(tmp, stack)\n",
    "\n",
    "        # right\n",
    "        if moved[1][0] < len(grid[0]):\n",
    "            tmp = list(moved[1])\n",
    "            stack = check(tmp, stack)\n",
    "\n",
    "        # up\n",
    "        if moved[2][1] >= 0:\n",
    "            tmp = list(moved[2])\n",
    "            stack = check(tmp, stack)\n",
    "\n",
    "        # down\n",
    "        if moved[3][1] < len(grid):\n",
    "            down = list(moved[3])\n",
    "            stack = check(tmp, stack)\n",
    "    \n",
    "    return stack"
   ]
  },
  {
   "cell_type": "code",
   "execution_count": 68,
   "metadata": {},
   "outputs": [],
   "source": [
    "stack = []\n",
    "\n",
    "for i in range(len(grid)):\n",
    "    for j in range(len(grid[0])):\n",
    "        stack = check([i, j], stack)"
   ]
  },
  {
   "cell_type": "markdown",
   "metadata": {},
   "source": [
    "- 구현은 했으나, count를 언제 세어야 하는지 모르겠음"
   ]
  },
  {
   "cell_type": "markdown",
   "metadata": {},
   "source": [
    "#### 정답"
   ]
  },
  {
   "cell_type": "code",
   "execution_count": 72,
   "metadata": {},
   "outputs": [],
   "source": [
    "def numIslands(grid: list) -> int:\n",
    "    def dfs(i, j):\n",
    "        # 더이상 땅이 아닌 경우 종료\n",
    "        if i < 0 or i >= len(grid) or\\\n",
    "            j < 0  or j >= len(grid[0]) or\\\n",
    "            grid[i][j] != 1:\n",
    "                return\n",
    "            \n",
    "        grid[i][j] = 0\n",
    "        # 동서남북 탐색\n",
    "        dfs(i+1, j)\n",
    "        dfs(i-1, j)\n",
    "        dfs(i, j+1)\n",
    "        dfs(i, j-1)\n",
    "        \n",
    "    count = 0\n",
    "    for i in range(len(grid)):\n",
    "        for j in range(len(grid[0])):\n",
    "            if grid[i][j] == 1:\n",
    "                dfs(i, j)\n",
    "                # 모든 육지 탐색 후 카운트 1 증가\n",
    "                count += 1\n",
    "        \n",
    "    return count"
   ]
  },
  {
   "cell_type": "markdown",
   "metadata": {},
   "source": [
    "#### <span style=\"color:cornflowerblue\">cf) 중첩함수</span>\n",
    "- 함수 내에 위치한 또 다른 함수로, 바깥에 위치한 함수들과 달리 부모 함수의 변수를 자유롭게 읽을 수 있다\n",
    "- 하지만, 재할당(=)이 일어날 경우 참조 ID가 변경되므로 주의!"
   ]
  },
  {
   "cell_type": "code",
   "execution_count": 2,
   "metadata": {},
   "outputs": [],
   "source": [
    "# 예제 코드\n",
    "def outer_function(t: str):\n",
    "    text: str = t\n",
    "        \n",
    "    def inner_function():\n",
    "        print(text)\n",
    "    \n",
    "    inner_function()"
   ]
  },
  {
   "cell_type": "code",
   "execution_count": 3,
   "metadata": {},
   "outputs": [
    {
     "name": "stdout",
     "output_type": "stream",
     "text": [
      "Hello!\n"
     ]
    }
   ],
   "source": [
    "outer_function('Hello!')"
   ]
  },
  {
   "cell_type": "markdown",
   "metadata": {},
   "source": [
    "- 연산자 조작을 하는 경우"
   ]
  },
  {
   "cell_type": "code",
   "execution_count": 8,
   "metadata": {},
   "outputs": [],
   "source": [
    "# 연산자 조작\n",
    "def outer_function(a: list):\n",
    "    b: list = a\n",
    "    print(id(b), b)\n",
    "    \n",
    "    def inner_function1():\n",
    "        b.append(4)\n",
    "        print(id(b), b)\n",
    "        \n",
    "    def inner_function2():\n",
    "        print(id(b), b)\n",
    "        \n",
    "    inner_function1()\n",
    "    inner_function2()"
   ]
  },
  {
   "cell_type": "code",
   "execution_count": 9,
   "metadata": {},
   "outputs": [
    {
     "name": "stdout",
     "output_type": "stream",
     "text": [
      "2546265635336 [1, 2, 3]\n",
      "2546265635336 [1, 2, 3, 4]\n",
      "2546265635336 [1, 2, 3, 4]\n"
     ]
    }
   ],
   "source": [
    "outer_function([1, 2, 3])"
   ]
  },
  {
   "cell_type": "markdown",
   "metadata": {},
   "source": [
    "- 재할당을 하는 경우 -> 재할당된 값은 부모 함수에 적용되지 않음"
   ]
  },
  {
   "cell_type": "code",
   "execution_count": 10,
   "metadata": {},
   "outputs": [],
   "source": [
    "# 재할당\n",
    "def outer_function(t: str):\n",
    "    text: str = t\n",
    "    print(id(text), text)\n",
    "    \n",
    "    def inner_function1():\n",
    "        text = 'World!'\n",
    "        print(id(text), text)\n",
    "        \n",
    "    def inner_function2():\n",
    "        print(id(text), text)\n",
    "    \n",
    "    inner_function1()\n",
    "    inner_function2()"
   ]
  },
  {
   "cell_type": "code",
   "execution_count": 12,
   "metadata": {},
   "outputs": [
    {
     "name": "stdout",
     "output_type": "stream",
     "text": [
      "2546266126064 Hello!\n",
      "2546265635248 World!\n",
      "2546266126064 Hello!\n"
     ]
    }
   ],
   "source": [
    "outer_function('Hello!')"
   ]
  },
  {
   "cell_type": "markdown",
   "metadata": {},
   "source": [
    "### 33번. 전화번호 문자 조합\n",
    "- 2에서 9까지 숫자가 주어졌을 때, 전화 번호로 조합 가능한 모든 문자를 출력하여라\n",
    "\n",
    "<img src='img/12_17.png' width='200'>"
   ]
  },
  {
   "cell_type": "code",
   "execution_count": 13,
   "metadata": {},
   "outputs": [],
   "source": [
    "s = '23'  # ['ad', 'ae', 'af', 'bd', 'be', 'bf', 'cd', 'ce', 'cf']"
   ]
  },
  {
   "cell_type": "code",
   "execution_count": 81,
   "metadata": {},
   "outputs": [],
   "source": [
    "alphabet = list(map(chr, range(97, 123)))"
   ]
  },
  {
   "cell_type": "code",
   "execution_count": 51,
   "metadata": {},
   "outputs": [],
   "source": [
    "# 숫자와 알파벳 매핑하기\n",
    "mapping = {}\n",
    "start = 0 \n",
    "\n",
    "for n in range(2, 10):\n",
    "    cnt = 3\n",
    "    if n == 7 or n == 9:\n",
    "        cnt += 1\n",
    "    end = start + cnt\n",
    "        \n",
    "    mapping[str(n)] = alphabet[start:end]\n",
    "    start = end"
   ]
  },
  {
   "cell_type": "code",
   "execution_count": 52,
   "metadata": {},
   "outputs": [
    {
     "data": {
      "text/plain": [
       "{'2': ['a', 'b', 'c'],\n",
       " '3': ['d', 'e', 'f'],\n",
       " '4': ['g', 'h', 'i'],\n",
       " '5': ['j', 'k', 'l'],\n",
       " '6': ['m', 'n', 'o'],\n",
       " '7': ['p', 'q', 'r', 's'],\n",
       " '8': ['t', 'u', 'v'],\n",
       " '9': ['w', 'x', 'y', 'z']}"
      ]
     },
     "execution_count": 52,
     "metadata": {},
     "output_type": "execute_result"
    }
   ],
   "source": [
    "mapping"
   ]
  },
  {
   "cell_type": "code",
   "execution_count": null,
   "metadata": {},
   "outputs": [],
   "source": [
    "from itertools import product"
   ]
  },
  {
   "cell_type": "code",
   "execution_count": 79,
   "metadata": {},
   "outputs": [],
   "source": [
    "def allstring(s: str) -> list:\n",
    "    result = 1\n",
    "    s_list = list(s)\n",
    "    \n",
    "    total = []\n",
    "    for s_each in s_list:\n",
    "        total.append(mapping[s_each])\n",
    "    \n",
    "    return [''.join(tup) for tup in list(product(*ex))]"
   ]
  },
  {
   "cell_type": "code",
   "execution_count": 80,
   "metadata": {},
   "outputs": [
    {
     "data": {
      "text/plain": [
       "['ad', 'ae', 'af', 'bd', 'be', 'bf', 'cd', 'ce', 'cf']"
      ]
     },
     "execution_count": 80,
     "metadata": {},
     "output_type": "execute_result"
    }
   ],
   "source": [
    "allstring('23')"
   ]
  },
  {
   "cell_type": "markdown",
   "metadata": {},
   "source": [
    "#### 정답\n",
    "#### DFS로 모든 조합 탐색\n",
    "<img src='img/12_21.png' width='200'>"
   ]
  },
  {
   "cell_type": "code",
   "execution_count": 83,
   "metadata": {},
   "outputs": [],
   "source": [
    "def letterCombination(digits: str) -> list:\n",
    "    def dfs(index, path):\n",
    "        # 끝까지 탐색하면 백트래킹\n",
    "        if len(path) == len(digits):\n",
    "            result.append(path)\n",
    "            return\n",
    "        \n",
    "        # 입력값 자릿수 단위 반복\n",
    "        for i in range(index, len(digits)):\n",
    "            # 숫자에 해당하는 모든 문자열 반복\n",
    "            for j in dic[digits[i]]:\n",
    "                dfs(i+1, path+j)\n",
    "                \n",
    "    # 예외처리\n",
    "    if not digits:\n",
    "        return []\n",
    "    \n",
    "    dic = {'2': 'abc', '3': 'def', '4': 'ghi', '5': 'jkl', '6': 'mno', '7': 'pqrs',\n",
    "           '8': 'tuv', '9': 'wxyz'}\n",
    "    \n",
    "    result = []\n",
    "    dfs(0, '')\n",
    "    \n",
    "    return result"
   ]
  },
  {
   "cell_type": "markdown",
   "metadata": {},
   "source": [
    "<img src='img/12_18.png' width='350'>"
   ]
  },
  {
   "cell_type": "markdown",
   "metadata": {},
   "source": [
    "### 34번. 순열\n",
    "- 서로 다른 순열을 입력받아 가능한 모든 순열을 리턴"
   ]
  },
  {
   "cell_type": "code",
   "execution_count": 84,
   "metadata": {},
   "outputs": [],
   "source": [
    "ex = [1, 2, 3]   # [[1, 2, 3], [1, 3, 2], ..., [3, 2, 1]]  총 3*2*1개 "
   ]
  },
  {
   "cell_type": "markdown",
   "metadata": {},
   "source": [
    "#### 정답\n",
    "#### 1) DFS를 활용한 순열 생성\n",
    "\n",
    "<img src='img/12_22.png' width='300'>"
   ]
  },
  {
   "cell_type": "code",
   "execution_count": 88,
   "metadata": {},
   "outputs": [
    {
     "data": {
      "text/plain": [
       "False"
      ]
     },
     "execution_count": 88,
     "metadata": {},
     "output_type": "execute_result"
    }
   ],
   "source": [
    "def permute(nums: list) -> list:\n",
    "    results = []\n",
    "    prev_elements = []\n",
    "    \n",
    "    def dfs(elements):\n",
    "        # 리프 노드일 때 결과 추가\n",
    "        if len(elements) == 0:\n",
    "            results.append(prev_elements[:])  \n",
    "        \n",
    "        # 순열 생성 재귀 호출\n",
    "        for e in elements:\n",
    "            next_elements = elements[:]   # 복잡한 리스트는 deepcopy 이용\n",
    "            next_elements.remove(e)\n",
    "            \n",
    "            prev_elements.append(e)\n",
    "            dfs(next_elements)\n",
    "            prev_elements.pop()\n",
    "            \n",
    "    dfs(nums)\n",
    "    return results"
   ]
  },
  {
   "cell_type": "markdown",
   "metadata": {},
   "source": [
    "<img src='img/12_19.png' width='400'>"
   ]
  },
  {
   "cell_type": "markdown",
   "metadata": {},
   "source": [
    "#### 2) itertools 모듈 사용"
   ]
  },
  {
   "cell_type": "code",
   "execution_count": 89,
   "metadata": {},
   "outputs": [],
   "source": [
    "from itertools import permutations"
   ]
  },
  {
   "cell_type": "code",
   "execution_count": 92,
   "metadata": {},
   "outputs": [],
   "source": [
    "def permute(num: list) -> list:\n",
    "    return list(map(list, permutations(nums)))  # 튜플이므로 map list"
   ]
  },
  {
   "cell_type": "markdown",
   "metadata": {},
   "source": [
    "#### <span style=\"color:cornflowerblue\"> cf) 객체 복사 </span>\n",
    "- 파이썬은 모든 것이 객체이므로 값을 복사하지 않는 한, 값을 할당하는 것은 객체에 대한 참조가 됨 \n",
    "- 참조가 되지 않도록 하기 위해 아래와 같은 방법들을 사용\n",
    "----\n",
    "\n",
    "\n",
    "(1) [:]로 처리하기"
   ]
  },
  {
   "cell_type": "code",
   "execution_count": 95,
   "metadata": {},
   "outputs": [
    {
     "data": {
      "text/plain": [
       "(2546266269000, 2546266269000, 2546266288840)"
      ]
     },
     "execution_count": 95,
     "metadata": {},
     "output_type": "execute_result"
    }
   ],
   "source": [
    "a = [1, 2, 3]\n",
    "b = a   # 객체 참조\n",
    "c = a[:]\n",
    "id(a), id(b), id(c)"
   ]
  },
  {
   "cell_type": "markdown",
   "metadata": {},
   "source": [
    "(2) copy() 메서드 이용"
   ]
  },
  {
   "cell_type": "code",
   "execution_count": 97,
   "metadata": {},
   "outputs": [
    {
     "data": {
      "text/plain": [
       "(2546266269000, 2546265537288)"
      ]
     },
     "execution_count": 97,
     "metadata": {},
     "output_type": "execute_result"
    }
   ],
   "source": [
    "d = a.copy()\n",
    "id(a), id(d)"
   ]
  },
  {
   "cell_type": "markdown",
   "metadata": {},
   "source": [
    "(3) copy.deepcopy()  ->  복잡한 리스트의 경우"
   ]
  },
  {
   "cell_type": "code",
   "execution_count": 101,
   "metadata": {},
   "outputs": [
    {
     "data": {
      "text/plain": [
       "(2546266289544, 2546266339208)"
      ]
     },
     "execution_count": 101,
     "metadata": {},
     "output_type": "execute_result"
    }
   ],
   "source": [
    "import copy\n",
    "a = [1, 2, [3, 5], 4]\n",
    "b = copy.deepcopy(a)\n",
    "id(a), id(b)"
   ]
  },
  {
   "cell_type": "markdown",
   "metadata": {},
   "source": [
    "### 35번. 조합\n",
    "- 전체 수 n을 입력받아 k개의 조합을 리턴하라"
   ]
  },
  {
   "cell_type": "code",
   "execution_count": 105,
   "metadata": {},
   "outputs": [],
   "source": [
    "n = 4; k = 2   # [1, 2], [1, 3], ..., [3, 4]  : 1, 2, 3, 4 중 2개"
   ]
  },
  {
   "cell_type": "markdown",
   "metadata": {},
   "source": [
    "#### 시도"
   ]
  },
  {
   "cell_type": "code",
   "execution_count": 141,
   "metadata": {},
   "outputs": [],
   "source": [
    "# 왜 안되는지 모르겠다\n",
    "\n",
    "def combination(n, k):\n",
    "    elements = list(range(1, n+1))\n",
    "    result = []\n",
    "    prev_elements = []\n",
    "    \n",
    "    def dfs(elements):\n",
    "        if len(prev_elements) == k:\n",
    "            result.append(prev_elements)\n",
    "            return\n",
    "        \n",
    "        for e in elements:\n",
    "            next_elements = elements[:]\n",
    "            next_elements.remove(e)\n",
    "            \n",
    "            prev_elements.append(e)\n",
    "#             print(prev_elements)\n",
    "#             print(result)\n",
    "            dfs(next_elements)\n",
    "            prev_elements.pop()\n",
    "    \n",
    "    dfs(elements)\n",
    "    return result"
   ]
  },
  {
   "cell_type": "code",
   "execution_count": 142,
   "metadata": {},
   "outputs": [
    {
     "data": {
      "text/plain": [
       "[[], [], [], [], [], [], [], [], [], [], [], []]"
      ]
     },
     "execution_count": 142,
     "metadata": {},
     "output_type": "execute_result"
    }
   ],
   "source": [
    "combination(4, 2)"
   ]
  },
  {
   "cell_type": "markdown",
   "metadata": {},
   "source": [
    "#### 정답"
   ]
  },
  {
   "cell_type": "markdown",
   "metadata": {},
   "source": [
    "#### 1) DFS로 k개 조합 생성\n",
    "- 순열의 경우, 자기 자신을 제외하고 모든 요소를 next_elements로 처리했으나,  \n",
    " 조합의 경우 자기 자신뿐만 아니라 앞의 모든 요소를 배체해고 next_elements(여기서는 elements)를 구상\n",
    "\n",
    "<img src='img/12_23.png' width='500'>"
   ]
  },
  {
   "cell_type": "code",
   "execution_count": null,
   "metadata": {},
   "outputs": [],
   "source": [
    "def combine(n: int, k: int) -> list:\n",
    "    results = []\n",
    "    \n",
    "    def dfs(elements, start: int, k: int):\n",
    "        if k == 0:\n",
    "            result.append(elements[:])\n",
    "            return\n",
    "        \n",
    "        # 자신 이전의 모든 값을 고정하여 재귀 호출\n",
    "        for i in range(start, n+1):\n",
    "            elements.append(i)\n",
    "            dfs(elements, i+1, k-1)\n",
    "            elements.pop()\n",
    "            \n",
    "    dfs([], 1, k)\n",
    "    return results"
   ]
  },
  {
   "cell_type": "markdown",
   "metadata": {},
   "source": [
    "<img src='img/12_20.png' width='400'>"
   ]
  },
  {
   "cell_type": "markdown",
   "metadata": {},
   "source": [
    "#### 2) itertools 사용"
   ]
  },
  {
   "cell_type": "code",
   "execution_count": 143,
   "metadata": {},
   "outputs": [],
   "source": [
    "from itertools import combinations"
   ]
  },
  {
   "cell_type": "code",
   "execution_count": 144,
   "metadata": {},
   "outputs": [],
   "source": [
    "def combine(n: int, k: int) -> list:\n",
    "    return list(map(list, combinations(range(1, n+1, k)))"
   ]
  },
  {
   "cell_type": "markdown",
   "metadata": {},
   "source": [
    "### 36번. 조합의 합\n",
    "- 숫자 집합 candidates를 조합하여 합이 target이 되는 원소를 나열하라. \n",
    "- 각 원소는 중복으로 나열 가능하다\n"
   ]
  },
  {
   "cell_type": "code",
   "execution_count": 213,
   "metadata": {},
   "outputs": [],
   "source": [
    "candidates = [2, 3, 6, 7]\n",
    "target = 7   # [[7], [2, 2, 3]]"
   ]
  },
  {
   "cell_type": "markdown",
   "metadata": {},
   "source": [
    "#### 시도"
   ]
  },
  {
   "cell_type": "code",
   "execution_count": 211,
   "metadata": {},
   "outputs": [],
   "source": [
    "def whichone(candidates, target):\n",
    "    result = []\n",
    "    \n",
    "    # target이 그대로 candidates에 있는 경우\n",
    "    if target in candidates:\n",
    "        result.append([target])\n",
    "        candidates.remove(target)\n",
    "    \n",
    "    def dfs(tmp):\n",
    "        \n",
    "        # target이 되기 위해 더해야 할 값(정답코드에서는 csum)이 \n",
    "        # candidate의 min값 보다 작을 경우 return\n",
    "        if target - sum(tmp) < min(candidates):\n",
    "            tmp = [c]\n",
    "            return \n",
    "        \n",
    "        # csum이 candidate에 있으면 바로 append\n",
    "        if target - sum(tmp) in candidates:\n",
    "            tmp.append(target - sum(tmp))\n",
    "            if set(tmp) not in list(map(set, result)):\n",
    "                result.append(tmp[:])\n",
    "       \n",
    "        # 아닌 경우, 또 candidates들을 더하기!\n",
    "        else:\n",
    "            for other in candidates:\n",
    "                tmp.append(other)\n",
    "                dfs(tmp)\n",
    "                tmp.pop()\n",
    "\n",
    "                \n",
    "    for c in candidates:\n",
    "        dfs([c])\n",
    "            \n",
    "    return result"
   ]
  },
  {
   "cell_type": "code",
   "execution_count": 212,
   "metadata": {},
   "outputs": [
    {
     "data": {
      "text/plain": [
       "[[7], [2, 2, 3]]"
      ]
     },
     "execution_count": 212,
     "metadata": {},
     "output_type": "execute_result"
    }
   ],
   "source": [
    "whichone(candidates, target)"
   ]
  },
  {
   "cell_type": "markdown",
   "metadata": {},
   "source": [
    "#### 정답 \n",
    "#### DFS로 중복 조합 그래프 탐색\n",
    "\n",
    "<img src='img/12_24.png' width='300'>"
   ]
  },
  {
   "cell_type": "code",
   "execution_count": 215,
   "metadata": {},
   "outputs": [],
   "source": [
    "def combinationsum(cadidates: list, target: int) -> list:\n",
    "    result = []\n",
    "    \n",
    "    def dfs(csum, index, path):\n",
    "        # 종료 조건\n",
    "        if csum < 0:\n",
    "            return\n",
    "        if csum == 0:\n",
    "            result.append(path)\n",
    "            return\n",
    "        \n",
    "        # 자신부터 하위원소까지의 나열 재귀 호출\n",
    "        for i in range(index, len(candidates)):\n",
    "            dfs(csum - candidates[i], i, path + [candidates[i]])\n",
    "    \n",
    "    dfs(target, 0, [])\n",
    "    print(result)"
   ]
  },
  {
   "cell_type": "code",
   "execution_count": 218,
   "metadata": {},
   "outputs": [
    {
     "name": "stdout",
     "output_type": "stream",
     "text": [
      "[[2, 2, 3], [7]]\n"
     ]
    }
   ],
   "source": [
    "combinationsum(candidates, target)"
   ]
  },
  {
   "cell_type": "markdown",
   "metadata": {},
   "source": [
    "- <span style='color:red'>Note : 조합의 경우, index가 필요하다!</span>"
   ]
  },
  {
   "cell_type": "markdown",
   "metadata": {},
   "source": [
    "### 37번. 부분 집합\n",
    "- 모든 부분집합을 리턴하라"
   ]
  },
  {
   "cell_type": "code",
   "execution_count": 277,
   "metadata": {},
   "outputs": [],
   "source": [
    "nums = [1, 2, 3]"
   ]
  },
  {
   "cell_type": "code",
   "execution_count": 281,
   "metadata": {},
   "outputs": [],
   "source": [
    "def solution(nums: list) -> list:\n",
    "    \n",
    "    result = [[]]  # 공집합 포함\n",
    "    \n",
    "    def dfs(start, end):\n",
    "        \n",
    "        # k개의 list인 경우\n",
    "        if len(tmp) == k:\n",
    "            result.append(tmp[:])\n",
    "            return\n",
    "        \n",
    "        # 부족한 경우, 더 채우기\n",
    "        elif len(tmp) < k and end < len(nums) :\n",
    "            tmp.append(nums[end + 1])\n",
    "            dfs(start, end + 1)\n",
    "            tmp.pop()\n",
    "\n",
    "    \n",
    "    for i in range(len(nums)):               # 시작하는 index에 따라\n",
    "        for k in range(1, len(nums) - i + 1):# 부분집합의 원소가 될수 있는 집합의 길이\n",
    "            tmp = [nums[i]]\n",
    "            dfs(i, i)\n",
    "    \n",
    "    return result"
   ]
  },
  {
   "cell_type": "code",
   "execution_count": 282,
   "metadata": {},
   "outputs": [
    {
     "data": {
      "text/plain": [
       "[[], [1], [1, 2], [1, 2, 3], [2], [2, 3], [3]]"
      ]
     },
     "execution_count": 282,
     "metadata": {},
     "output_type": "execute_result"
    }
   ],
   "source": [
    "solution(nums)"
   ]
  },
  {
   "cell_type": "markdown",
   "metadata": {},
   "source": [
    "#### 정답\n",
    "#### 트리의 모든 DFS 결과\n",
    "<img src='img/12_25.png' width='200'>"
   ]
  },
  {
   "cell_type": "code",
   "execution_count": 283,
   "metadata": {},
   "outputs": [],
   "source": [
    "def subsets(nums: list) -> list:\n",
    "    result = []\n",
    "    \n",
    "    def dfs(index, path):\n",
    "        # 매변 결과 추가\n",
    "        result.append(path)\n",
    "        \n",
    "        # 경로를 만들면서 DFS\n",
    "        for i in range(index, len(nums)):\n",
    "            dfs(i+1, path + [nums[i]])\n",
    "    \n",
    "    dfs(0, [])\n",
    "    return result"
   ]
  },
  {
   "cell_type": "code",
   "execution_count": 284,
   "metadata": {},
   "outputs": [
    {
     "data": {
      "text/plain": [
       "[[], [1], [1, 2], [1, 2, 3], [1, 3], [2], [2, 3], [3]]"
      ]
     },
     "execution_count": 284,
     "metadata": {},
     "output_type": "execute_result"
    }
   ],
   "source": [
    "subsets(nums)"
   ]
  },
  {
   "cell_type": "markdown",
   "metadata": {},
   "source": [
    "### 38번. 일정 재구성\n",
    "- [from, to]로 구성된 항공권 목록을 이용해 JFK에서 출발하는 여행 일정을 구성하라\n",
    "- 여러 일정이 있는 경우 사전 어휘순으로 방문"
   ]
  },
  {
   "cell_type": "code",
   "execution_count": 317,
   "metadata": {},
   "outputs": [],
   "source": [
    "flights = [['JFK', 'SFO'], ['JFK', 'ATL'], ['SFO', 'ATL'], ['ATL', 'JFK'], ['ATL', 'SFO']]\n",
    "# ['JFK', 'ATL', 'JFK' ,'SFO', 'ATL', 'SFO']"
   ]
  },
  {
   "cell_type": "code",
   "execution_count": 327,
   "metadata": {},
   "outputs": [],
   "source": [
    "def plan_making(flights):\n",
    "    \n",
    "    first = 'JFK'\n",
    "    plan = [first]\n",
    "    routes = dict()\n",
    "    \n",
    "    # 딕셔너리 만들어주기\n",
    "    for i in range(len(flights)):\n",
    "        \n",
    "        if flights[i][0] not in routes:\n",
    "            routes[flights[i][0]] = [flights[i][1]]\n",
    "        else:\n",
    "            routes[flights[i][0]] = sorted([*routes[flights[i][0]], flights[i][1]])\n",
    "            \n",
    "    \n",
    "    def dfs(start):\n",
    "        if len(routes[start]) == 0:\n",
    "            return\n",
    "        \n",
    "        else:\n",
    "            end = routes[start].pop(0)\n",
    "            plan.append(end)\n",
    "            dfs(end)\n",
    "    \n",
    "    dfs(first)\n",
    "    return plan"
   ]
  },
  {
   "cell_type": "code",
   "execution_count": 328,
   "metadata": {},
   "outputs": [
    {
     "data": {
      "text/plain": [
       "['JFK', 'ATL', 'JFK', 'SFO', 'ATL', 'SFO']"
      ]
     },
     "execution_count": 328,
     "metadata": {},
     "output_type": "execute_result"
    }
   ],
   "source": [
    "plan_making(flights)"
   ]
  },
  {
   "cell_type": "markdown",
   "metadata": {},
   "source": [
    "#### 정답\n",
    "#### 1) DFS로 일정 그래프 구성"
   ]
  },
  {
   "cell_type": "code",
   "execution_count": 355,
   "metadata": {},
   "outputs": [],
   "source": [
    "import collections\n",
    "\n",
    "def findItinerary(tickets: list) -> list:\n",
    "    graph = collections.defaultdict(list)\n",
    "    \n",
    "    # 그래프 순서대로 구성\n",
    "    for a, b in sorted(tickets):\n",
    "        graph[a].append(b)\n",
    "        \n",
    "    print(graph)\n",
    "    route = []\n",
    "    def dfs(a):\n",
    "        # 첫 번째 값을 읽어 어휘순 방문\n",
    "        while graph[a]:\n",
    "            dfs(graph[a].pop(0))\n",
    "        route.append(a)\n",
    "        \n",
    "    dfs('JFK')\n",
    "    # 다시 뒤집어 어휘 순 결과로\n",
    "    return route[::-1]"
   ]
  },
  {
   "cell_type": "code",
   "execution_count": 357,
   "metadata": {},
   "outputs": [
    {
     "name": "stdout",
     "output_type": "stream",
     "text": [
      "defaultdict(<class 'list'>, {'ATL': ['JFK', 'SFO'], 'JFK': ['ATL', 'SFO'], 'SFO': ['ATL']})\n"
     ]
    },
    {
     "data": {
      "text/plain": [
       "['JFK', 'ATL', 'JFK', 'SFO', 'ATL', 'SFO']"
      ]
     },
     "execution_count": 357,
     "metadata": {},
     "output_type": "execute_result"
    }
   ],
   "source": [
    "findItinerary(flights)"
   ]
  },
  {
   "cell_type": "markdown",
   "metadata": {},
   "source": [
    "<img src='img/12_26.png' width='400'>"
   ]
  },
  {
   "cell_type": "markdown",
   "metadata": {},
   "source": [
    "#### 2) 스택 연산으로 큐 연산 최적화 시도\n",
    "- pop(0)의 시간복잡도를 줄이기 위해  스택의 연산으로 큐 연산이 처리될 수 있도록!!\n",
    "- 즉, pop()으로! <- 사전을 역순으로 만들어서"
   ]
  },
  {
   "cell_type": "code",
   "execution_count": 333,
   "metadata": {},
   "outputs": [],
   "source": [
    "def findItinerary(tickets: list) -> list:\n",
    "    graph = collections.defaultdict(list)\n",
    "    \n",
    "    # 그래프 뒤집어서 구성 (뒤집어서 : 사전 역순)\n",
    "    for a, b in sorted(tickets, reverse=True):\n",
    "        graph[a].append(b)\n",
    "        \n",
    "    print(graph)\n",
    "        \n",
    "    route = []\n",
    "    def dfs(a):\n",
    "        # 마지막 값을 읽어 어휘순 방문\n",
    "        while graph[a]:\n",
    "            dfs(graph[a].pop())\n",
    "        route.append(a)\n",
    "        \n",
    "    dfs('JFK')\n",
    "    # 다시 뒤집어 어휘 순 결과로\n",
    "    return route[::-1]"
   ]
  },
  {
   "cell_type": "code",
   "execution_count": 334,
   "metadata": {},
   "outputs": [
    {
     "name": "stdout",
     "output_type": "stream",
     "text": [
      "defaultdict(<class 'list'>, {'SFO': ['ATL'], 'JFK': ['SFO', 'ATL'], 'ATL': ['SFO', 'JFK']})\n"
     ]
    },
    {
     "data": {
      "text/plain": [
       "['JFK', 'ATL', 'JFK', 'SFO', 'ATL', 'SFO']"
      ]
     },
     "execution_count": 334,
     "metadata": {},
     "output_type": "execute_result"
    }
   ],
   "source": [
    "findItinerary(flights)"
   ]
  },
  {
   "cell_type": "markdown",
   "metadata": {},
   "source": [
    "#### 3) 일정 그래프 반복\n",
    "- 대부분의 재귀 문제는 반복으로 치환할 수 있으며, 스택으로 풀이가 가능"
   ]
  },
  {
   "cell_type": "code",
   "execution_count": 352,
   "metadata": {},
   "outputs": [],
   "source": [
    "def findItinerary(tickets: list) -> list:\n",
    "    graph = collections.defaultdict(list)\n",
    "    \n",
    "    # 그래프 순서대로 구성 \n",
    "    for a, b in sorted(tickets):\n",
    "        graph[a].append(b)\n",
    "        \n",
    "    route, stack = [], ['JFK']\n",
    "    \n",
    "    while stack:\n",
    "\n",
    "        # 반복으로 스택을 구성하되 막히는 부분에서 풀어내는 처리\n",
    "        while graph[stack[-1]]:\n",
    "            stack.append(graph[stack[-1]].pop(0))\n",
    "        route.append(stack.pop())\n",
    "        \n",
    "    # 다시 뒤집어 어휘순 결과로\n",
    "    return route[::-1]"
   ]
  },
  {
   "cell_type": "code",
   "execution_count": 353,
   "metadata": {},
   "outputs": [],
   "source": [
    "ex = [['JFK', 'KUL'], ['JFK', 'NRT'], ['NRT', 'JFK']]"
   ]
  },
  {
   "cell_type": "code",
   "execution_count": 354,
   "metadata": {},
   "outputs": [
    {
     "data": {
      "text/plain": [
       "['JFK', 'NRT', 'JFK', 'KUL']"
      ]
     },
     "execution_count": 354,
     "metadata": {},
     "output_type": "execute_result"
    }
   ],
   "source": [
    "findItinerary(ex)"
   ]
  },
  {
   "cell_type": "markdown",
   "metadata": {},
   "source": [
    "- [Visulize Execution by Python Tutor](http://pythontutor.com/visualize.html#code=%23%20graph%20%3D%20%7B'ATL'%3A%20%5B'JFK',%20'SFO'%5D,%20'JFK'%3A%20%5B'ATL',%20'SFO'%5D,%20'SFO'%3A%20%5B'ATL'%5D%7D%0Agraph%20%3D%20%20%7B'JFK'%3A%20%5B'KUL',%20'NRT'%5D,%20'NRT'%3A%20%5B'JFK'%5D,%20'KUL'%3A%20None%7D%0Aroute,%20stack%20%3D%20%5B%5D,%20%5B'JFK'%5D%0A%0Awhile%20stack%3A%0A%20%20%20%20%20%20%20%20%0A%20%20%20%20%23%20%EC%95%84%EB%9E%98%EC%9D%98%20while%EB%AC%B8%EC%97%90%EC%84%9C%20%EB%AA%A8%EB%93%A0%20%EA%B2%BD%EB%A1%9C%20%EA%B9%8C%EC%A7%80%20%EA%B0%84%20%ED%9B%84,%20%EB%AA%A8%EB%91%90%20route.append%28%29%20%ED%95%B4%EC%A3%BC%EA%B8%B0%0A%20%20%20%20%23%20%EB%B0%98%EB%B3%B5%EC%9C%BC%EB%A1%9C%20%EC%8A%A4%ED%83%9D%EC%9D%84%20%EA%B5%AC%EC%84%B1%ED%95%98%EB%90%98%20%EB%A7%89%ED%9E%88%EB%8A%94%20%EB%B6%80%EB%B6%84%EC%97%90%EC%84%9C%20%ED%92%80%EC%96%B4%EB%82%B4%EB%8A%94%20%EC%B2%98%EB%A6%AC%0A%20%20%20%20%0A%20%20%20%20while%20graph%5Bstack%5B-1%5D%5D%3A%0A%20%20%20%20%20%20%20%20stack.append%28graph%5Bstack%5B-1%5D%5D.pop%280%29%29%0A%20%20%20%20route.append%28stack.pop%28%29%29&cumulative=false&curInstr=0&heapPrimitives=nevernest&mode=display&origin=opt-frontend.js&py=3&rawInputLstJSON=%5B%5D&textReferences=false)"
   ]
  },
  {
   "cell_type": "markdown",
   "metadata": {},
   "source": [
    "### 39번. 코스 스케줄\n",
    "- 코스 0을 완료하기 위해서는 코스 1을 끝내야 한다는 것을 [0, 1] 쌍으로 표현하는 n개의 코스가 있다. \n",
    "- 코스 개수 n과 이 쌍들을 입력으로 받았을 때 모든 코스가 완료 가능한지 판별하라"
   ]
  },
  {
   "cell_type": "code",
   "execution_count": 361,
   "metadata": {},
   "outputs": [],
   "source": [
    "n, course = 2, [[1, 0]]  # True\n",
    "n, course = 2, [[1, 0], [0, 1]]  # False"
   ]
  },
  {
   "cell_type": "markdown",
   "metadata": {},
   "source": [
    "#### 시도\n",
    "- 순환 구조인지 파악해야 함"
   ]
  },
  {
   "cell_type": "code",
   "execution_count": 366,
   "metadata": {},
   "outputs": [],
   "source": [
    "def solution(n: int, course: list) -> bool:\n",
    "    result = True\n",
    "    \n",
    "    dic = collections.defaultdict(list)\n",
    "    for i, j in course:\n",
    "        dic[i].append(j)\n",
    "    \n",
    "    print(dic)\n",
    "    \n",
    "    def dfs(first, nex):\n",
    "        nex_nex = dic[nex]\n",
    "        dfs()\n",
    "        pass\n",
    "\n",
    "    while course:\n",
    "        seen = []\n",
    "        dfs(course.pop())"
   ]
  },
  {
   "cell_type": "markdown",
   "metadata": {},
   "source": [
    "- 재귀함수로 하면 되지 않을까? \n",
    "- 근데 dictionary랑 list를 쓰려고 하니까 어떻게 해야할지 모르겠다"
   ]
  },
  {
   "cell_type": "code",
   "execution_count": 367,
   "metadata": {},
   "outputs": [
    {
     "name": "stdout",
     "output_type": "stream",
     "text": [
      "defaultdict(<class 'list'>, {1: [0], 0: [1]})\n"
     ]
    }
   ],
   "source": [
    "solution(n, course)"
   ]
  },
  {
   "cell_type": "markdown",
   "metadata": {},
   "source": [
    "#### 정답\n",
    "#### 1) DFS로 순환 구조 판별 (920ms)"
   ]
  },
  {
   "cell_type": "markdown",
   "metadata": {},
   "source": [
    "- 순환 구조인지 판별!\n",
    "\n",
    "\n",
    "- 리스트를 따로 쓰는 것이 아니라, list(dic) 이런 식으로 키만 리스트로 뽑아서 사용해야!\n",
    "- 원래 dictionary의 경우 `for k in dict:`로 사용할 수 있으나, defaultdict이므로 `list(dict)`를 해줌!"
   ]
  },
  {
   "cell_type": "code",
   "execution_count": 373,
   "metadata": {},
   "outputs": [],
   "source": [
    "def canFinish(numCourses: int, prerequisites: list) -> bool:\n",
    "    \n",
    "    # 그래프 구성\n",
    "    graph = collections.defaultdict(list)\n",
    "    for x, y in course:\n",
    "        graph[x].append(y)\n",
    "    \n",
    "    traced = set()\n",
    "    \n",
    "    def dfs(i):\n",
    "        # 순환 구조이면 False\n",
    "        if i in traced:\n",
    "            return False\n",
    "        \n",
    "        traced.add(i)\n",
    "        for y in graph[i]:\n",
    "            if not dfs(y):\n",
    "                return False\n",
    "        \n",
    "        # 탐색 종료 후 순환 노드 삭제\n",
    "        traced.remove(i)\n",
    "        \n",
    "        return True\n",
    "    \n",
    "    # 순환 구조 판별\n",
    "    for x in list(graph):  # list(graph) : 키만 모아서 list로 \n",
    "        if not dfs(x):\n",
    "            return False\n",
    "    \n",
    "    return True"
   ]
  },
  {
   "cell_type": "code",
   "execution_count": 374,
   "metadata": {},
   "outputs": [
    {
     "data": {
      "text/plain": [
       "False"
      ]
     },
     "execution_count": 374,
     "metadata": {},
     "output_type": "execute_result"
    }
   ],
   "source": [
    "canFinish(2, course)"
   ]
  },
  {
   "cell_type": "markdown",
   "metadata": {},
   "source": [
    "#### 2) 가지치기를 이용한 최적화 <span style='color:red'> (96ms) </span>\n",
    "- 한 번 방문했던 그래프는 두 번 이상 방문하지 않도록"
   ]
  },
  {
   "cell_type": "code",
   "execution_count": null,
   "metadata": {},
   "outputs": [],
   "source": [
    "def canFinish(numCourses: int, prerequisites: list) -> bool:\n",
    "    \n",
    "    # 그래프 구성\n",
    "    graph = collections.defaultdict(list)\n",
    "    for x, y in course:\n",
    "        graph[x].append(y)\n",
    "    \n",
    "    traced = set()\n",
    "    visited = set()\n",
    "    \n",
    "    def dfs(i):\n",
    "        # 순환 구조이면 False\n",
    "        if i in traced:\n",
    "            return False\n",
    "        \n",
    "        # 이미 방문했던 노드면 True\n",
    "        if i in visied:\n",
    "            return True\n",
    "        \n",
    "        traced.add(i)\n",
    "        for y in graph[i]:\n",
    "            if not dfs(y):\n",
    "                return False\n",
    "        \n",
    "        # 탐색 종료 후 순환 노드 삭제\n",
    "        traced.remove(i)\n",
    "        # 탐색 종료후 방문 노드 추가\n",
    "        visited.add(i)\n",
    "        \n",
    "        return True\n",
    "    \n",
    "    # 순환 구조 판별\n",
    "    for x in list(graph):  # list(graph) : 키만 모아서 list로 \n",
    "        if not dfs(x):\n",
    "            return False\n",
    "    \n",
    "    return True"
   ]
  }
 ],
 "metadata": {
  "kernelspec": {
   "display_name": "Python 3",
   "language": "python",
   "name": "python3"
  },
  "language_info": {
   "codemirror_mode": {
    "name": "ipython",
    "version": 3
   },
   "file_extension": ".py",
   "mimetype": "text/x-python",
   "name": "python",
   "nbconvert_exporter": "python",
   "pygments_lexer": "ipython3",
   "version": "3.7.7"
  }
 },
 "nbformat": 4,
 "nbformat_minor": 4
}
