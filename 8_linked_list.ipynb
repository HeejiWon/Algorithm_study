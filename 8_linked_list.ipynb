{
 "cells": [
  {
   "cell_type": "markdown",
   "metadata": {},
   "source": [
    "### 8. 연결 리스트\n",
    "- 연결 리스트는 데이터 요소의 선형 집합으로, 데이터의 순서가 메모리에 물리적인 순서대로 저장되지는 않는다\n",
    "- 배열과 함께 가장 기본이 되는 대표적인 선형 자료구조 중 하나로 __추상 자료형(ADT)__ 구현의 기반이 된다\n",
    "- 새로운 노드를 삽입하거나 삭제하기가 간편하며, 연결 구조를 통해 실제 메모리를 연속적으로 사용하지 않아도 되기 떄문에 관리도 쉽다 (실제 메모리는 아래와 같이 나타난다)\n",
    "- 또한 데이터를 구조체로 묶어서 포인터로 연결한다는 개념은 다양하게 활용 가능하다\n",
    "<img src='img/8_1.png' width='200'>"
   ]
  },
  {
   "cell_type": "markdown",
   "metadata": {},
   "source": [
    "- 배열과는 달리, 인덱스에 접근하기 위해서는 전체를 순서대로 읽어야 하므로 탐색에는 $O(n)$이 소요되지만, 시작 또는 끝 지점에 아이템을 추가하거나 삭제, 추출하는 작업은 $O(1)$에 가능하다"
   ]
  },
  {
   "cell_type": "markdown",
   "metadata": {},
   "source": [
    "### 13번. 팰린드롬 연결리스트\n",
    "- 연결 리스트가 팰린드롬 구조인지 판별하라"
   ]
  },
  {
   "cell_type": "code",
   "execution_count": 2,
   "metadata": {},
   "outputs": [],
   "source": [
    "class ListNode:\n",
    "    def __init__(self, val=0, next=None):\n",
    "        self.val = val\n",
    "        self.next = next"
   ]
  },
  {
   "cell_type": "code",
   "execution_count": 55,
   "metadata": {},
   "outputs": [],
   "source": [
    "head = ListNode(1,ListNode(2, ListNode(2, ListNode(1))))"
   ]
  },
  {
   "cell_type": "markdown",
   "metadata": {},
   "source": [
    "#### 정답\n",
    "#### 1) 리스트 변환"
   ]
  },
  {
   "cell_type": "code",
   "execution_count": 21,
   "metadata": {},
   "outputs": [],
   "source": [
    "def isPalindrome(head: ListNode) -> bool:\n",
    "    q: list = []\n",
    "    \n",
    "    if not head:\n",
    "        return True\n",
    "    \n",
    "    node = head\n",
    "    \n",
    "    # 리스트 변환\n",
    "    while node is not None:\n",
    "        q.append(node.val)\n",
    "        node = node.next\n",
    "        \n",
    "    # 팰린드롬 판별\n",
    "    while len(q) > 1:\n",
    "        if q.pop(0) != q.pop():\n",
    "            return False\n",
    "    \n",
    "    return True"
   ]
  },
  {
   "cell_type": "code",
   "execution_count": 22,
   "metadata": {},
   "outputs": [
    {
     "data": {
      "text/plain": [
       "True"
      ]
     },
     "execution_count": 22,
     "metadata": {},
     "output_type": "execute_result"
    }
   ],
   "source": [
    "isPalindrome(head)"
   ]
  },
  {
   "cell_type": "markdown",
   "metadata": {},
   "source": [
    "#### 2) 데크를 이용한 최적화\n",
    "- q.pop(0)을 하면 모든 값이 한 칸씩 shifting아므로 시간 복잡도가 O(n)이 된다. 따라서 데크를 이용해보자 (양쪽 방향 모두 추출하는 데 시간 복잡도가 O(1))"
   ]
  },
  {
   "cell_type": "code",
   "execution_count": 33,
   "metadata": {},
   "outputs": [],
   "source": [
    "import collections"
   ]
  },
  {
   "cell_type": "code",
   "execution_count": 34,
   "metadata": {},
   "outputs": [],
   "source": [
    "def isPalindrome(head: ListNode) -> bool:\n",
    "    q: Deque = collections.deque()  # 이 부분만 변경\n",
    "    \n",
    "    if not head:\n",
    "        return True\n",
    "    \n",
    "    node = head\n",
    "    \n",
    "    # 리스트 변환\n",
    "    while node is not None:\n",
    "        q.append(node.val)\n",
    "        node = node.next\n",
    "        \n",
    "    # 팰린드롬 판별\n",
    "    while len(q) > 1:\n",
    "        if q.leftpop(0) != q.pop():  # 이 부분만 변경\n",
    "            return False\n",
    "    \n",
    "    return True"
   ]
  },
  {
   "cell_type": "code",
   "execution_count": 35,
   "metadata": {},
   "outputs": [
    {
     "data": {
      "text/plain": [
       "True"
      ]
     },
     "execution_count": 35,
     "metadata": {},
     "output_type": "execute_result"
    }
   ],
   "source": [
    "isPalindrome(head)"
   ]
  },
  {
   "cell_type": "markdown",
   "metadata": {},
   "source": [
    "#### 3) 런너(Runner)를 이용한 우아한 풀이\n",
    "<img src='img/8_2.png' width='300'>  "
   ]
  },
  {
   "cell_type": "markdown",
   "metadata": {},
   "source": [
    "- 왼쪽의 파란색으로 표시된 번호 1, 2, 3, 4는 실행 순서를 보여준다. \n",
    "- 순서에 따라 2개의 런너, 즉 빠른 런너와 느린 런너를 각각 출발시키면, 빠른 런너가 끝에 다다를 때 느린 런너는 정확히 중간 지점에 도달. \n",
    "- 느린 런너는 중간까지 이동하면서 역순으로 연결 리스트 rev를 만들어 나간다. 중간에 도달한 느린 런너가 나머지 경로를 이동할 때, 역순으로 만든 연결 리스트의 값들과 일치하는지 확인해나가면 된다."
   ]
  },
  {
   "cell_type": "code",
   "execution_count": 102,
   "metadata": {},
   "outputs": [],
   "source": [
    "def isPalindrome(head: ListNode) -> bool:\n",
    "    rev = None\n",
    "    slow = fast = head\n",
    "    \n",
    "    # 런너를 이용해 역순 연결 리스트 구성\n",
    "    while fast and fast.next:\n",
    "        fast = fast.next.next   # fast 런너는 두 칸씩\n",
    "        rev, rev.next, slow = slow, rev, slow.next\n",
    "        \n",
    "    if fast:   # length가 홀수인 경우를 체크에서 배재하기 위해 slow를 한 칸 더 이동\n",
    "        slow = slow.next\n",
    "        \n",
    "    # 팰린드롬 여부 확인\n",
    "    while rev and rev.val == slow.val:\n",
    "        slow, rev = slow.next, rev.next\n",
    "        \n",
    "    return not rev  # 만약, slow와 rev를 모두 확인하면 둘다 None이 될 것\n",
    "                     # 하나라도 남아있으면, not 했을 때 False가 나옴"
   ]
  },
  {
   "cell_type": "code",
   "execution_count": 103,
   "metadata": {},
   "outputs": [
    {
     "data": {
      "text/plain": [
       "True"
      ]
     },
     "execution_count": 103,
     "metadata": {},
     "output_type": "execute_result"
    }
   ],
   "source": [
    "isPalindrome(head)"
   ]
  },
  {
   "cell_type": "markdown",
   "metadata": {},
   "source": [
    "#### cf) 런너 기법\n",
    "- 연결 리스트를 순회할 때 2개의 포인터를 동시에 사용하는 기법. 한 포인터가 다른 포인터보다 앞서게 하여 병합 지점이나 중간 위치, 길이 등을 판별할 때 유용하게 사용됨\n",
    "- 빠른 런너가 끝에 다다를 때 느린 런너는 정확히 중간 지점에 도달하므로 여기서부터 값을 비교하거나 뒤집기를 시도하는 등 여러모로 활용가능"
   ]
  },
  {
   "cell_type": "markdown",
   "metadata": {},
   "source": [
    "#### cf) 다중 할당\n",
    "- 2개 이상의 값을 2개 이상의 변수에 동시에 할당하는 방법\n",
    "- 위의 코드에서 다중 할당 부분을 아래와 같이 하면 안될까?"
   ]
  },
  {
   "cell_type": "code",
   "execution_count": null,
   "metadata": {},
   "outputs": [],
   "source": [
    "# 두 줄 코드\n",
    "\n",
    "rev, rev.next = slow, rev\n",
    "slow = slow.next"
   ]
  },
  {
   "cell_type": "markdown",
   "metadata": {},
   "source": [
    "- 첫 번째 코드에서 rev = slow가 있으므로 서로 같은 값을 참조하게 됨\n",
    "- 코드를 정답 코드처럼 한 줄로 만들게 되면, 중간 과정 없이 한 번의 트랜잭션으로 끝나게 됨"
   ]
  },
  {
   "cell_type": "markdown",
   "metadata": {},
   "source": [
    "### 14번. 두 정렬 리스트의 병합\n",
    "- 정렬되어 있는 두 연결 리스트를 합쳐라"
   ]
  },
  {
   "cell_type": "code",
   "execution_count": 151,
   "metadata": {},
   "outputs": [],
   "source": [
    "a, b = ListNode(1, ListNode(2, ListNode(4))), ListNode(1, ListNode(3, ListNode(4))) \n",
    "# 출력 : 1 -> 1 -> 2 -> 3 -> 4 -> 4"
   ]
  },
  {
   "cell_type": "markdown",
   "metadata": {},
   "source": [
    "#### 시도"
   ]
  },
  {
   "cell_type": "code",
   "execution_count": 144,
   "metadata": {},
   "outputs": [],
   "source": [
    "q = []\n",
    "\n",
    "while a or b:\n",
    "    \n",
    "    if a.val > b.val:\n",
    "        q.append(b.val)\n",
    "        b = b.next\n",
    "\n",
    "    elif a.val < b.val:\n",
    "        q.append(a.val)\n",
    "        a = a.next\n",
    "    else:\n",
    "        q.append(a.val)\n",
    "        q.append(b.val)\n",
    "        a = a.next\n",
    "        b = b.next"
   ]
  },
  {
   "cell_type": "code",
   "execution_count": 145,
   "metadata": {},
   "outputs": [
    {
     "data": {
      "text/plain": [
       "[1, 1, 2, 3, 4, 4]"
      ]
     },
     "execution_count": 145,
     "metadata": {},
     "output_type": "execute_result"
    }
   ],
   "source": [
    "q"
   ]
  },
  {
   "cell_type": "markdown",
   "metadata": {},
   "source": [
    "#### 정답\n",
    "#### 1) 재귀 구조로 연결\n",
    "- 정렬된 리스트라는 점이 중요! \n",
    "- 병합 정렬 (17장 참조)에서 마지막 조합시 첫 번재 값부터 차례대로만 비교하면 한 번에 해결되듯이, 동일한 방식으로 첫 번째부터 비교!"
   ]
  },
  {
   "cell_type": "code",
   "execution_count": 152,
   "metadata": {},
   "outputs": [],
   "source": [
    "a, b = ListNode(1, ListNode(2, ListNode(4))), ListNode(1, ListNode(3, ListNode(4))) "
   ]
  },
  {
   "cell_type": "code",
   "execution_count": 153,
   "metadata": {},
   "outputs": [],
   "source": [
    "def mergeTwoLists(l1: ListNode, l2: ListNode) -> ListNode:\n",
    "    if (not l1) or (l2 and l1.val > l2.val):\n",
    "        l1, l2 = l2, l1\n",
    "    if l1:\n",
    "        l1.next = mergeTwoLists(l1.next, l2)\n",
    "    return l1"
   ]
  },
  {
   "cell_type": "code",
   "execution_count": 155,
   "metadata": {},
   "outputs": [
    {
     "data": {
      "text/plain": [
       "<__main__.ListNode at 0x185736deb88>"
      ]
     },
     "execution_count": 155,
     "metadata": {},
     "output_type": "execute_result"
    }
   ],
   "source": [
    "mergeTwoLists(a, b)"
   ]
  },
  {
   "cell_type": "markdown",
   "metadata": {},
   "source": [
    "<img src='img/8_7.png' width='200'>"
   ]
  },
  {
   "cell_type": "markdown",
   "metadata": {},
   "source": [
    "#### cf) 연산자 우선순위\n",
    "<img src='img/8_5.png' width='400'>  \n",
    "- 모호할 떈, 괄호씌우기!"
   ]
  },
  {
   "cell_type": "markdown",
   "metadata": {},
   "source": [
    "### 15번. 역순 연결 리스트\n",
    "- 연결리스트를 뒤집어라"
   ]
  },
  {
   "cell_type": "code",
   "execution_count": 25,
   "metadata": {},
   "outputs": [],
   "source": [
    "head = ListNode(1, ListNode(2, ListNode(3, ListNode(4, ListNode(5)))))"
   ]
  },
  {
   "cell_type": "markdown",
   "metadata": {},
   "source": [
    "#### 시도"
   ]
  },
  {
   "cell_type": "code",
   "execution_count": 20,
   "metadata": {},
   "outputs": [],
   "source": [
    "ex = ListNode(None)\n",
    "\n",
    "while head:\n",
    "    ex.next, ex.val = ex, head.val  # 먼가 안됨\n",
    "    head = head.next"
   ]
  },
  {
   "cell_type": "markdown",
   "metadata": {},
   "source": [
    "#### 정답\n",
    "#### 1) 재귀 구조로 뒤집기 (40ms)"
   ]
  },
  {
   "cell_type": "code",
   "execution_count": 26,
   "metadata": {},
   "outputs": [],
   "source": [
    "def reverseList(head: ListNode) -> ListNode:\n",
    "    def reverse(node: ListNode, prev: ListNode = None):\n",
    "        if not node:\n",
    "            return prev\n",
    "        next, node.next = node.next, prev\n",
    "        return reverse(next, node)\n",
    "\n",
    "    return reverse(head)"
   ]
  },
  {
   "cell_type": "code",
   "execution_count": 27,
   "metadata": {},
   "outputs": [
    {
     "data": {
      "text/plain": [
       "<__main__.ListNode at 0x2944cb67c08>"
      ]
     },
     "execution_count": 27,
     "metadata": {},
     "output_type": "execute_result"
    }
   ],
   "source": [
    "reverseList(head)"
   ]
  },
  {
   "cell_type": "markdown",
   "metadata": {},
   "source": [
    "<img src='img/8_9.png' width='400'>"
   ]
  },
  {
   "cell_type": "markdown",
   "metadata": {},
   "source": [
    "- (next가 변화를 보면) 하나씩 뒤로 가면서 prev에는 그전에 본 것들 다 저장해놓기!"
   ]
  },
  {
   "cell_type": "markdown",
   "metadata": {},
   "source": [
    "#### 2) 반복 구조로 뒤집기 (32ms)"
   ]
  },
  {
   "cell_type": "code",
   "execution_count": null,
   "metadata": {},
   "outputs": [],
   "source": [
    "def reverseList(head: ListNode) -> ListNode:\n",
    "    node, prev = head, None\n",
    "    \n",
    "    while node:\n",
    "        next, node.next = node.next, prev\n",
    "        prev, node = node, next\n",
    "        \n",
    "    return prev"
   ]
  },
  {
   "cell_type": "markdown",
   "metadata": {},
   "source": [
    "- 가독성은 비슷하나, 반복이 재귀에 비해 70%수준의 메모리를 차지에 공간복잡도는 더 낮은 편이며, 속도도 조금 더 빠르다"
   ]
  },
  {
   "cell_type": "markdown",
   "metadata": {},
   "source": [
    "### 16. 두 수의 덧셈\n",
    "- 역순으로 저장됨 연결 리스트의 숫자를 더하라\n",
    "<img src='img/8_10.png' width='500'>"
   ]
  },
  {
   "cell_type": "code",
   "execution_count": 94,
   "metadata": {},
   "outputs": [],
   "source": [
    "a, b = ListNode(2, ListNode(4, ListNode(3))), ListNode(5, ListNode(6, ListNode(4))) "
   ]
  },
  {
   "cell_type": "markdown",
   "metadata": {},
   "source": [
    "#### 시도"
   ]
  },
  {
   "cell_type": "code",
   "execution_count": 95,
   "metadata": {},
   "outputs": [],
   "source": [
    "cnt = 0\n",
    "total = 0\n",
    "\n",
    "while a:\n",
    "    val = a.val + b.val\n",
    "    a, b = a.next, b.next\n",
    "    total += val * 10**cnt\n",
    "    cnt += 1"
   ]
  },
  {
   "cell_type": "code",
   "execution_count": 96,
   "metadata": {},
   "outputs": [
    {
     "data": {
      "text/plain": [
       "'807'"
      ]
     },
     "execution_count": 96,
     "metadata": {},
     "output_type": "execute_result"
    }
   ],
   "source": [
    "total = str(total)\n",
    "total"
   ]
  },
  {
   "cell_type": "code",
   "execution_count": 97,
   "metadata": {},
   "outputs": [],
   "source": [
    "prev: ListNode = None\n",
    "\n",
    "for i in range(len(total)):\n",
    "    tmp = total[i]\n",
    "    node = ListNode(tmp)\n",
    "    node.next = prev\n",
    "    prev = node"
   ]
  },
  {
   "cell_type": "code",
   "execution_count": 98,
   "metadata": {},
   "outputs": [
    {
     "name": "stdout",
     "output_type": "stream",
     "text": [
      "7\n",
      "0\n",
      "8\n"
     ]
    }
   ],
   "source": [
    "while node:\n",
    "    print(node.val)\n",
    "    node = node.next"
   ]
  },
  {
   "cell_type": "markdown",
   "metadata": {},
   "source": [
    "#### 정답 "
   ]
  },
  {
   "cell_type": "markdown",
   "metadata": {},
   "source": [
    "#### 1) 자료형 변환\n",
    "- 연결리스트 -> 뒤집고 이어붙여서 숫자로 -> 계산 -> 뒤집어서 연결리스트로"
   ]
  },
  {
   "cell_type": "code",
   "execution_count": null,
   "metadata": {},
   "outputs": [],
   "source": [
    "# 연결 리스트 뒤집기 (15번 코드)\n",
    "def reverseList(head: ListNode) -> ListNode:\n",
    "    node, prev = head, None\n",
    "    \n",
    "    while node:\n",
    "        next, node.next = node.next, prev\n",
    "        prev, node = node, next\n",
    "    \n",
    "    return prev\n",
    "\n",
    "# 연결 리스트를 파이썬 리스트로 변환\n",
    "def toLisT(node: ListNode) -> list:\n",
    "    l: list = []\n",
    "    \n",
    "    while node:\n",
    "        l.append(node.val)\n",
    "        node = node.next\n",
    "    return l\n",
    "\n",
    "# 파이썬 리스트를 연결 리스트로 변환\n",
    "def toReversedLinkedList(result: str) -> ListNode:\n",
    "    prev: ListNode = None\n",
    "        \n",
    "        for r in result:\n",
    "            node = ListNode(r)\n",
    "            node.next = prev\n",
    "            prev = node\n",
    "        \n",
    "        return node\n",
    "    \n",
    "# 두 연결 리스트의 덧셈\n",
    "def addTwoNumber(l1: ListNode, l2: ListNode) -> ListNode:\n",
    "    a = toList(reverseList(l1))\n",
    "    b = toList(reverseList(l2))\n",
    "    \n",
    "    resultStr = int(''.join(str(e) for e in a)) + \\\n",
    "                int(''.join(str(e) for e in b))\n",
    "    \n",
    "    # 최종 결과 연결 리스트 변환\n",
    "    return toReversedLinkedList(str(resultStr))"
   ]
  },
  {
   "attachments": {},
   "cell_type": "markdown",
   "metadata": {},
   "source": [
    "#### 2) 전가산기 구현\n",
    "- 논리 회로의 전가산기와 유사한 형태 구현하기 (단, 십진법으로 구현)\n",
    "<img src='img/8_12.png' width='400'>\n",
    "<img src='img/8_13.png' width='200'>"
   ]
  },
  {
   "cell_type": "code",
   "execution_count": null,
   "metadata": {},
   "outputs": [],
   "source": [
    "def addTwoNumbers(l1: ListNode, l2: ListNode) -> ListNode:\n",
    "    root = head = ListNode(0)\n",
    "    carry = 0\n",
    "    \n",
    "    while l1 or l2 or carry:\n",
    "        s = 0\n",
    "        \n",
    "        # 두 입력값의 합 계산\n",
    "        if l1:\n",
    "            s += l1.val\n",
    "            l1 = l1.next\n",
    "        if l2:\n",
    "            s += l2.val\n",
    "            l2 = l2.next\n",
    "            \n",
    "        # 몫(자리올림수)와 나머지(값) 계산\n",
    "        carry, val = divmod(s + carry, 10) \n",
    "        head.next = ListNode(val)\n",
    "        head = head.next\n",
    "        \n",
    "    return root.next"
   ]
  },
  {
   "cell_type": "markdown",
   "metadata": {},
   "source": [
    "#### cf) 숫자형 리스트를 단일 값으로 병합하기"
   ]
  },
  {
   "cell_type": "code",
   "execution_count": 101,
   "metadata": {},
   "outputs": [],
   "source": [
    "a = [1, 2, 3, 4, 5]"
   ]
  },
  {
   "cell_type": "markdown",
   "metadata": {},
   "source": [
    "##### join"
   ]
  },
  {
   "cell_type": "code",
   "execution_count": 106,
   "metadata": {},
   "outputs": [
    {
     "data": {
      "text/plain": [
       "12345"
      ]
     },
     "execution_count": 106,
     "metadata": {},
     "output_type": "execute_result"
    }
   ],
   "source": [
    "# join과 for문 이용하기\n",
    "\n",
    "int(''.join(str(e) for e in a))"
   ]
  },
  {
   "cell_type": "code",
   "execution_count": 107,
   "metadata": {},
   "outputs": [
    {
     "data": {
      "text/plain": [
       "12345"
      ]
     },
     "execution_count": 107,
     "metadata": {},
     "output_type": "execute_result"
    }
   ],
   "source": [
    "# join과 map 이용하기\n",
    "\n",
    "int(''.join(map(str, a)))"
   ]
  },
  {
   "cell_type": "markdown",
   "metadata": {},
   "source": [
    "##### functools"
   ]
  },
  {
   "cell_type": "code",
   "execution_count": 108,
   "metadata": {},
   "outputs": [
    {
     "data": {
      "text/plain": [
       "12345"
      ]
     },
     "execution_count": 108,
     "metadata": {},
     "output_type": "execute_result"
    }
   ],
   "source": [
    "# functools 이용하기\n",
    "import functools\n",
    "\n",
    "functools.reduce(lambda x, y: 10*x + y, a, 0)  # reduce는 누적 적용하라"
   ]
  },
  {
   "cell_type": "code",
   "execution_count": 110,
   "metadata": {},
   "outputs": [
    {
     "data": {
      "text/plain": [
       "15"
      ]
     },
     "execution_count": 110,
     "metadata": {},
     "output_type": "execute_result"
    }
   ],
   "source": [
    "functools.reduce(lambda x, y: x + y, [1, 2, 3, 4, 5])  # ((((1+2))+3)+4)+5"
   ]
  },
  {
   "cell_type": "code",
   "execution_count": 112,
   "metadata": {},
   "outputs": [
    {
     "name": "stdout",
     "output_type": "stream",
     "text": [
      "15\n",
      "120\n"
     ]
    }
   ],
   "source": [
    "from operator import add, mul\n",
    "\n",
    "print(functools.reduce(add, a))  # 함수를 파라미터로 지정가능\n",
    "print(functools.reduce(mul, a))"
   ]
  },
  {
   "cell_type": "markdown",
   "metadata": {},
   "source": [
    "### 17. 페어의 노드 스왑\n",
    "- 연결 리스트를 입력받아 페어 단위로 스왑하라"
   ]
  },
  {
   "cell_type": "code",
   "execution_count": 113,
   "metadata": {},
   "outputs": [],
   "source": [
    "head = ListNode(1, ListNode(2, ListNode(3, ListNode(4))))  # 출력 : 2 -> 1 -> 4 -> 3"
   ]
  },
  {
   "cell_type": "markdown",
   "metadata": {},
   "source": [
    "#### 정답\n",
    "#### 1) 값만 교환\n",
    "- 매우 직관적인 방법으로! 다소 변칙적인 방법\n",
    "- 노드를 변경하는 것이 아닌, 노드 구조는 유지하되 값만 변경하기\n",
    "- 좋지 않은 피드백을 받는다면, 쉽게 풀기 위해 시도한 방법이라고 설명하고 두 번째 방법에 대해 충분히 설명할 수 있어야 함"
   ]
  },
  {
   "cell_type": "code",
   "execution_count": 114,
   "metadata": {},
   "outputs": [],
   "source": [
    "def swapPairs(head: ListNode) -> ListNode:\n",
    "    cur = head\n",
    "    \n",
    "    while cur and cur.next:\n",
    "        # 값만 교환\n",
    "        cur.val, cur.next.val = cur.next.val, cur.val\n",
    "        cur = cur.next.next\n",
    "    \n",
    "    return head"
   ]
  },
  {
   "cell_type": "markdown",
   "metadata": {},
   "source": [
    "#### 2) 반복 구조로 스왑"
   ]
  },
  {
   "cell_type": "code",
   "execution_count": null,
   "metadata": {},
   "outputs": [],
   "source": [
    "def swapPairs(head: ListNode) -> ListNode:\n",
    "    root = prev = ListNode(None)\n",
    "    prev.next = head\n",
    "    \n",
    "    while head and head.next:\n",
    "        # b가 a(head)를 가리키도록 할당\n",
    "        b = head.next\n",
    "        head.next = b.next\n",
    "        b.next = head\n",
    "        \n",
    "        # prev가 b를 가리키도록 할당\n",
    "        prev.next = b\n",
    "        \n",
    "        # 다음번 비교를 위해 이동\n",
    "        head = head.next\n",
    "        prev = prev.next.next\n",
    "        \n",
    "    return root.next"
   ]
  },
  {
   "cell_type": "markdown",
   "metadata": {},
   "source": [
    "<img src='img/8_14.png' width='350'>  "
   ]
  },
  {
   "cell_type": "markdown",
   "metadata": {},
   "source": [
    "- 페어 중, head에서 먼저 할 부분(+뒷부분)를 b에다 넣어두고, b의 뒷부분을 다시 head에 붙여주고, head전체를 b에 붙여줌\n",
    "- root.next를 리턴한 이유는, prev.next.next를 해주었지만, prev가 보는 포인터만 바뀐 것이고, 원래 값들은 저장되어있음! (root에도! 또, 앞에 None이 있으므로 .next를 리턴) "
   ]
  },
  {
   "cell_type": "markdown",
   "metadata": {},
   "source": [
    "#### 3) 재귀 구조로 스왑\n",
    "- 훨씬 더 깔끔하게"
   ]
  },
  {
   "cell_type": "code",
   "execution_count": 115,
   "metadata": {},
   "outputs": [],
   "source": [
    "def swapPairs(head: ListNode) -> ListNode:\n",
    "    \n",
    "    if head and head.next:\n",
    "        p = head.next\n",
    "        \n",
    "        # 스왑된 값 리턴 받음\n",
    "        head.next = swapPairs(p.next)\n",
    "        p.next = head\n",
    "        return p\n",
    "\n",
    "    return head"
   ]
  },
  {
   "cell_type": "markdown",
   "metadata": {},
   "source": [
    "<img src='img/8_15.png' width='400'>  "
   ]
  },
  {
   "cell_type": "markdown",
   "metadata": {},
   "source": [
    "- 위의 방법과 비슷하게 먼저 올 부분을 p에다 넣어두고, p의 뒷부분을 head의 뒷부분으로 넣은 후 p에 다시 붙여줌"
   ]
  },
  {
   "cell_type": "markdown",
   "metadata": {},
   "source": [
    "### 18. 홀짝 연결 리스트\n",
    "- 연결 리스트에 홀수 노드 다음에 짝수 노드가 오도록 재구성하라. 공간복잡도 O(1), 시간 복잡도 O(n)에 풀이하라"
   ]
  },
  {
   "cell_type": "code",
   "execution_count": 137,
   "metadata": {},
   "outputs": [],
   "source": [
    "head = ListNode(1, ListNode(2, ListNode(3, ListNode(4, ListNode(5)))))"
   ]
  },
  {
   "cell_type": "markdown",
   "metadata": {},
   "source": [
    "#### 시도"
   ]
  },
  {
   "cell_type": "code",
   "execution_count": 138,
   "metadata": {},
   "outputs": [],
   "source": [
    "prev_root = prev = ListNode(0)\n",
    "head_root = head\n",
    "\n",
    "while prev.val:\n",
    "    prev = head.next\n",
    "    head.next = prev.next\n",
    "    prev = prev.next\n",
    "    head = head.next\n",
    "    \n",
    "head.next = prev_root.next"
   ]
  },
  {
   "cell_type": "code",
   "execution_count": 139,
   "metadata": {},
   "outputs": [
    {
     "name": "stdout",
     "output_type": "stream",
     "text": [
      "1\n"
     ]
    }
   ],
   "source": [
    "while head_root:\n",
    "    print(head_root.val)\n",
    "    head_root = head_root.next"
   ]
  },
  {
   "cell_type": "markdown",
   "metadata": {},
   "source": [
    "#### 정답\n",
    "#### 1) 반복 구조로 홀짝 노드 처리\n",
    "- 홀, 짝 각 노드를 구성한 다음 합치기 (홀수 노드의 마지막을 짝수 헤드로 연결)"
   ]
  },
  {
   "cell_type": "code",
   "execution_count": null,
   "metadata": {},
   "outputs": [],
   "source": [
    "def oodEvenList(head: ListNode) -> ListNode:\n",
    "    # 예외 처리\n",
    "    if head is None:\n",
    "        return None\n",
    "    \n",
    "    odd = head\n",
    "    even = head.next\n",
    "    even_head = head.next\n",
    "    \n",
    "    # 반복하면서 홀짝 노드 처리\n",
    "    while even and even.next:\n",
    "        odd.next, even.next = odd.next.next, even.next.next\n",
    "        odd, even = odd.next, even.next\n",
    "        \n",
    "    # 홀수 노드의 마지막을 짝수 헤드로 연결\n",
    "    ood.next = even_head\n",
    "    return head"
   ]
  },
  {
   "cell_type": "markdown",
   "metadata": {},
   "source": [
    "### 19. 역순 연결 리스트\n",
    "- 인덱스를 m에서 n까지 역순으로 만들어라. 인덱스 m은 1부터 시작한다"
   ]
  },
  {
   "cell_type": "code",
   "execution_count": 167,
   "metadata": {},
   "outputs": [],
   "source": [
    "head = ListNode(1, ListNode(2, ListNode(3, ListNode(4, ListNode(5)))))\n",
    "m, n = 2, 4   # 출력 : 1 - 4 - 3 - 2 - 5"
   ]
  },
  {
   "cell_type": "code",
   "execution_count": 168,
   "metadata": {},
   "outputs": [],
   "source": [
    "def reverseList(head: ListNode) -> ListNode:\n",
    "    prev = None\n",
    "    next = head\n",
    "    \n",
    "    while head:\n",
    "        head.next, next = prev, head.next\n",
    "        head, prev = next, head\n",
    "    \n",
    "    return prev"
   ]
  },
  {
   "cell_type": "code",
   "execution_count": 169,
   "metadata": {},
   "outputs": [],
   "source": [
    "front = head\n",
    "\n",
    "for i in range(1):\n",
    "    front = front.next\n",
    "\n",
    "root = reverse = front\n",
    "\n",
    "for i in range(m-n+1):\n",
    "    reverse = reserve.next\n",
    "\n",
    "back = reverse\n",
    "\n",
    "root = reverseList(root)\n",
    "root.next = back\n",
    "front.next = root"
   ]
  },
  {
   "cell_type": "markdown",
   "metadata": {},
   "source": [
    "#### 1) 반복구조로 노드 뒤집기"
   ]
  },
  {
   "cell_type": "code",
   "execution_count": null,
   "metadata": {},
   "outputs": [],
   "source": [
    "der reverseBetween(head: ListNode, m: int, n: int) -> ListNode:\n",
    "    # 예외 처리\n",
    "    if not head or m == n:\n",
    "        return head\n",
    "\n",
    "    root = start = ListNode(None)\n",
    "    root.next = head\n",
    "    \n",
    "    # start, end 지정\n",
    "    for _ in range(m-1):\n",
    "        start = start.next\n",
    "    end = start.next\n",
    "    \n",
    "    # 반복하면서 노드 차례대로 뒤집기\n",
    "    for _ in range(n-m):\n",
    "        tmp, start.next, end.next = start.next, end.next, end.next.next\n",
    "        start.next.next = tmp\n",
    "        \n",
    "    return root.next"
   ]
  }
 ],
 "metadata": {
  "kernelspec": {
   "display_name": "Python 3",
   "language": "python",
   "name": "python3"
  },
  "language_info": {
   "codemirror_mode": {
    "name": "ipython",
    "version": 3
   },
   "file_extension": ".py",
   "mimetype": "text/x-python",
   "name": "python",
   "nbconvert_exporter": "python",
   "pygments_lexer": "ipython3",
   "version": "3.7.7"
  }
 },
 "nbformat": 4,
 "nbformat_minor": 4
}
